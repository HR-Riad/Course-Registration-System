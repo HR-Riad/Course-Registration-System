{
  "nbformat": 4,
  "nbformat_minor": 0,
  "metadata": {
    "colab": {
      "name": "Lab_work(191-15-12804).ipynb",
      "provenance": [],
      "collapsed_sections": [],
      "authorship_tag": "ABX9TyNN9z7cvgWJFGWdyU0WpweC",
      "include_colab_link": true
    },
    "kernelspec": {
      "name": "python3",
      "display_name": "Python 3"
    },
    "language_info": {
      "name": "python"
    }
  },
  "cells": [
    {
      "cell_type": "markdown",
      "metadata": {
        "id": "view-in-github",
        "colab_type": "text"
      },
      "source": [
        "<a href=\"https://colab.research.google.com/github/HR-Riad/Course-Registration-System/blob/main/Lab_work(191_15_12804).ipynb\" target=\"_parent\"><img src=\"https://colab.research.google.com/assets/colab-badge.svg\" alt=\"Open In Colab\"/></a>"
      ]
    },
    {
      "cell_type": "code",
      "execution_count": 15,
      "metadata": {
        "colab": {
          "base_uri": "https://localhost:8080/"
        },
        "id": "8Y0GruFUHmfW",
        "outputId": "8d2a72af-16c4-4a02-b031-e3c86bba7e09"
      },
      "outputs": [
        {
          "output_type": "stream",
          "name": "stdout",
          "text": [
            "--2022-04-06 20:42:11--  https://dlcdn.apache.org/spark/spark-3.2.1/spark-3.2.1-bin-hadoop3.2.tgz\n",
            "Resolving dlcdn.apache.org (dlcdn.apache.org)... 151.101.2.132, 2a04:4e42::644\n",
            "Connecting to dlcdn.apache.org (dlcdn.apache.org)|151.101.2.132|:443... connected.\n",
            "HTTP request sent, awaiting response... 200 OK\n",
            "Length: 300971569 (287M) [application/x-gzip]\n",
            "Saving to: ‘spark-3.2.1-bin-hadoop3.2.tgz’\n",
            "\n",
            "spark-3.2.1-bin-had 100%[===================>] 287.03M   235MB/s    in 1.2s    \n",
            "\n",
            "2022-04-06 20:42:12 (235 MB/s) - ‘spark-3.2.1-bin-hadoop3.2.tgz’ saved [300971569/300971569]\n",
            "\n"
          ]
        }
      ],
      "source": [
        "!wget https://dlcdn.apache.org/spark/spark-3.2.1/spark-3.2.1-bin-hadoop3.2.tgz"
      ]
    },
    {
      "cell_type": "code",
      "source": [
        "!tar -xvzf spark-3.2.1-bin-hadoop3.2.tgz"
      ],
      "metadata": {
        "colab": {
          "base_uri": "https://localhost:8080/"
        },
        "id": "LMorVf8QMyo_",
        "outputId": "ed6f03e4-c97b-4a5d-f0c1-54fa00374895"
      },
      "execution_count": 16,
      "outputs": [
        {
          "output_type": "stream",
          "name": "stdout",
          "text": [
            "spark-3.2.1-bin-hadoop3.2/\n",
            "spark-3.2.1-bin-hadoop3.2/LICENSE\n",
            "spark-3.2.1-bin-hadoop3.2/NOTICE\n",
            "spark-3.2.1-bin-hadoop3.2/R/\n",
            "spark-3.2.1-bin-hadoop3.2/R/lib/\n",
            "spark-3.2.1-bin-hadoop3.2/R/lib/SparkR/\n",
            "spark-3.2.1-bin-hadoop3.2/R/lib/SparkR/DESCRIPTION\n",
            "spark-3.2.1-bin-hadoop3.2/R/lib/SparkR/INDEX\n",
            "spark-3.2.1-bin-hadoop3.2/R/lib/SparkR/Meta/\n",
            "spark-3.2.1-bin-hadoop3.2/R/lib/SparkR/Meta/Rd.rds\n",
            "spark-3.2.1-bin-hadoop3.2/R/lib/SparkR/Meta/features.rds\n",
            "spark-3.2.1-bin-hadoop3.2/R/lib/SparkR/Meta/hsearch.rds\n",
            "spark-3.2.1-bin-hadoop3.2/R/lib/SparkR/Meta/links.rds\n",
            "spark-3.2.1-bin-hadoop3.2/R/lib/SparkR/Meta/nsInfo.rds\n",
            "spark-3.2.1-bin-hadoop3.2/R/lib/SparkR/Meta/package.rds\n",
            "spark-3.2.1-bin-hadoop3.2/R/lib/SparkR/Meta/vignette.rds\n",
            "spark-3.2.1-bin-hadoop3.2/R/lib/SparkR/NAMESPACE\n",
            "spark-3.2.1-bin-hadoop3.2/R/lib/SparkR/R/\n",
            "spark-3.2.1-bin-hadoop3.2/R/lib/SparkR/R/SparkR\n",
            "spark-3.2.1-bin-hadoop3.2/R/lib/SparkR/R/SparkR.rdb\n",
            "spark-3.2.1-bin-hadoop3.2/R/lib/SparkR/R/SparkR.rdx\n",
            "spark-3.2.1-bin-hadoop3.2/R/lib/SparkR/doc/\n",
            "spark-3.2.1-bin-hadoop3.2/R/lib/SparkR/doc/index.html\n",
            "spark-3.2.1-bin-hadoop3.2/R/lib/SparkR/doc/sparkr-vignettes.R\n",
            "spark-3.2.1-bin-hadoop3.2/R/lib/SparkR/doc/sparkr-vignettes.Rmd\n",
            "spark-3.2.1-bin-hadoop3.2/R/lib/SparkR/doc/sparkr-vignettes.html\n",
            "spark-3.2.1-bin-hadoop3.2/R/lib/SparkR/help/\n",
            "spark-3.2.1-bin-hadoop3.2/R/lib/SparkR/help/AnIndex\n",
            "spark-3.2.1-bin-hadoop3.2/R/lib/SparkR/help/SparkR.rdb\n",
            "spark-3.2.1-bin-hadoop3.2/R/lib/SparkR/help/SparkR.rdx\n",
            "spark-3.2.1-bin-hadoop3.2/R/lib/SparkR/help/aliases.rds\n",
            "spark-3.2.1-bin-hadoop3.2/R/lib/SparkR/help/paths.rds\n",
            "spark-3.2.1-bin-hadoop3.2/R/lib/SparkR/html/\n",
            "spark-3.2.1-bin-hadoop3.2/R/lib/SparkR/html/00Index.html\n",
            "spark-3.2.1-bin-hadoop3.2/R/lib/SparkR/html/R.css\n",
            "spark-3.2.1-bin-hadoop3.2/R/lib/SparkR/profile/\n",
            "spark-3.2.1-bin-hadoop3.2/R/lib/SparkR/profile/general.R\n",
            "spark-3.2.1-bin-hadoop3.2/R/lib/SparkR/profile/shell.R\n",
            "spark-3.2.1-bin-hadoop3.2/R/lib/SparkR/tests/\n",
            "spark-3.2.1-bin-hadoop3.2/R/lib/SparkR/tests/testthat/\n",
            "spark-3.2.1-bin-hadoop3.2/R/lib/SparkR/tests/testthat/test_basic.R\n",
            "spark-3.2.1-bin-hadoop3.2/R/lib/SparkR/worker/\n",
            "spark-3.2.1-bin-hadoop3.2/R/lib/SparkR/worker/daemon.R\n",
            "spark-3.2.1-bin-hadoop3.2/R/lib/SparkR/worker/worker.R\n",
            "spark-3.2.1-bin-hadoop3.2/R/lib/sparkr.zip\n",
            "spark-3.2.1-bin-hadoop3.2/README.md\n",
            "spark-3.2.1-bin-hadoop3.2/RELEASE\n",
            "spark-3.2.1-bin-hadoop3.2/bin/\n",
            "spark-3.2.1-bin-hadoop3.2/bin/beeline\n",
            "spark-3.2.1-bin-hadoop3.2/bin/beeline.cmd\n",
            "spark-3.2.1-bin-hadoop3.2/bin/docker-image-tool.sh\n",
            "spark-3.2.1-bin-hadoop3.2/bin/find-spark-home\n",
            "spark-3.2.1-bin-hadoop3.2/bin/find-spark-home.cmd\n",
            "spark-3.2.1-bin-hadoop3.2/bin/load-spark-env.cmd\n",
            "spark-3.2.1-bin-hadoop3.2/bin/load-spark-env.sh\n",
            "spark-3.2.1-bin-hadoop3.2/bin/pyspark\n",
            "spark-3.2.1-bin-hadoop3.2/bin/pyspark.cmd\n",
            "spark-3.2.1-bin-hadoop3.2/bin/pyspark2.cmd\n",
            "spark-3.2.1-bin-hadoop3.2/bin/run-example\n",
            "spark-3.2.1-bin-hadoop3.2/bin/run-example.cmd\n",
            "spark-3.2.1-bin-hadoop3.2/bin/spark-class\n",
            "spark-3.2.1-bin-hadoop3.2/bin/spark-class.cmd\n",
            "spark-3.2.1-bin-hadoop3.2/bin/spark-class2.cmd\n",
            "spark-3.2.1-bin-hadoop3.2/bin/spark-shell\n",
            "spark-3.2.1-bin-hadoop3.2/bin/spark-shell.cmd\n",
            "spark-3.2.1-bin-hadoop3.2/bin/spark-shell2.cmd\n",
            "spark-3.2.1-bin-hadoop3.2/bin/spark-sql\n",
            "spark-3.2.1-bin-hadoop3.2/bin/spark-sql.cmd\n",
            "spark-3.2.1-bin-hadoop3.2/bin/spark-sql2.cmd\n",
            "spark-3.2.1-bin-hadoop3.2/bin/spark-submit\n",
            "spark-3.2.1-bin-hadoop3.2/bin/spark-submit.cmd\n",
            "spark-3.2.1-bin-hadoop3.2/bin/spark-submit2.cmd\n",
            "spark-3.2.1-bin-hadoop3.2/bin/sparkR\n",
            "spark-3.2.1-bin-hadoop3.2/bin/sparkR.cmd\n",
            "spark-3.2.1-bin-hadoop3.2/bin/sparkR2.cmd\n",
            "spark-3.2.1-bin-hadoop3.2/conf/\n",
            "spark-3.2.1-bin-hadoop3.2/conf/fairscheduler.xml.template\n",
            "spark-3.2.1-bin-hadoop3.2/conf/log4j.properties.template\n",
            "spark-3.2.1-bin-hadoop3.2/conf/metrics.properties.template\n",
            "spark-3.2.1-bin-hadoop3.2/conf/spark-defaults.conf.template\n",
            "spark-3.2.1-bin-hadoop3.2/conf/spark-env.sh.template\n",
            "spark-3.2.1-bin-hadoop3.2/conf/workers.template\n",
            "spark-3.2.1-bin-hadoop3.2/data/\n",
            "spark-3.2.1-bin-hadoop3.2/data/graphx/\n",
            "spark-3.2.1-bin-hadoop3.2/data/graphx/followers.txt\n",
            "spark-3.2.1-bin-hadoop3.2/data/graphx/users.txt\n",
            "spark-3.2.1-bin-hadoop3.2/data/mllib/\n",
            "spark-3.2.1-bin-hadoop3.2/data/mllib/als/\n",
            "spark-3.2.1-bin-hadoop3.2/data/mllib/als/sample_movielens_ratings.txt\n",
            "spark-3.2.1-bin-hadoop3.2/data/mllib/als/test.data\n",
            "spark-3.2.1-bin-hadoop3.2/data/mllib/gmm_data.txt\n",
            "spark-3.2.1-bin-hadoop3.2/data/mllib/images/\n",
            "spark-3.2.1-bin-hadoop3.2/data/mllib/images/license.txt\n",
            "spark-3.2.1-bin-hadoop3.2/data/mllib/images/origin/\n",
            "spark-3.2.1-bin-hadoop3.2/data/mllib/images/origin/kittens/\n",
            "spark-3.2.1-bin-hadoop3.2/data/mllib/images/origin/kittens/29.5.a_b_EGDP022204.jpg\n",
            "spark-3.2.1-bin-hadoop3.2/data/mllib/images/origin/kittens/54893.jpg\n",
            "spark-3.2.1-bin-hadoop3.2/data/mllib/images/origin/kittens/DP153539.jpg\n",
            "spark-3.2.1-bin-hadoop3.2/data/mllib/images/origin/kittens/DP802813.jpg\n",
            "spark-3.2.1-bin-hadoop3.2/data/mllib/images/origin/kittens/not-image.txt\n",
            "spark-3.2.1-bin-hadoop3.2/data/mllib/images/origin/license.txt\n",
            "spark-3.2.1-bin-hadoop3.2/data/mllib/images/origin/multi-channel/\n",
            "spark-3.2.1-bin-hadoop3.2/data/mllib/images/origin/multi-channel/BGRA.png\n",
            "spark-3.2.1-bin-hadoop3.2/data/mllib/images/origin/multi-channel/BGRA_alpha_60.png\n",
            "spark-3.2.1-bin-hadoop3.2/data/mllib/images/origin/multi-channel/chr30.4.184.jpg\n",
            "spark-3.2.1-bin-hadoop3.2/data/mllib/images/origin/multi-channel/grayscale.jpg\n",
            "spark-3.2.1-bin-hadoop3.2/data/mllib/images/partitioned/\n",
            "spark-3.2.1-bin-hadoop3.2/data/mllib/images/partitioned/cls=kittens/\n",
            "spark-3.2.1-bin-hadoop3.2/data/mllib/images/partitioned/cls=kittens/date=2018-01/\n",
            "spark-3.2.1-bin-hadoop3.2/data/mllib/images/partitioned/cls=kittens/date=2018-01/29.5.a_b_EGDP022204.jpg\n",
            "spark-3.2.1-bin-hadoop3.2/data/mllib/images/partitioned/cls=kittens/date=2018-01/not-image.txt\n",
            "spark-3.2.1-bin-hadoop3.2/data/mllib/images/partitioned/cls=kittens/date=2018-02/\n",
            "spark-3.2.1-bin-hadoop3.2/data/mllib/images/partitioned/cls=kittens/date=2018-02/54893.jpg\n",
            "spark-3.2.1-bin-hadoop3.2/data/mllib/images/partitioned/cls=kittens/date=2018-02/DP153539.jpg\n",
            "spark-3.2.1-bin-hadoop3.2/data/mllib/images/partitioned/cls=kittens/date=2018-02/DP802813.jpg\n",
            "spark-3.2.1-bin-hadoop3.2/data/mllib/images/partitioned/cls=multichannel/\n",
            "spark-3.2.1-bin-hadoop3.2/data/mllib/images/partitioned/cls=multichannel/date=2018-01/\n",
            "spark-3.2.1-bin-hadoop3.2/data/mllib/images/partitioned/cls=multichannel/date=2018-01/BGRA.png\n",
            "spark-3.2.1-bin-hadoop3.2/data/mllib/images/partitioned/cls=multichannel/date=2018-01/BGRA_alpha_60.png\n",
            "spark-3.2.1-bin-hadoop3.2/data/mllib/images/partitioned/cls=multichannel/date=2018-02/\n",
            "spark-3.2.1-bin-hadoop3.2/data/mllib/images/partitioned/cls=multichannel/date=2018-02/chr30.4.184.jpg\n",
            "spark-3.2.1-bin-hadoop3.2/data/mllib/images/partitioned/cls=multichannel/date=2018-02/grayscale.jpg\n",
            "spark-3.2.1-bin-hadoop3.2/data/mllib/iris_libsvm.txt\n",
            "spark-3.2.1-bin-hadoop3.2/data/mllib/kmeans_data.txt\n",
            "spark-3.2.1-bin-hadoop3.2/data/mllib/pagerank_data.txt\n",
            "spark-3.2.1-bin-hadoop3.2/data/mllib/pic_data.txt\n",
            "spark-3.2.1-bin-hadoop3.2/data/mllib/ridge-data/\n",
            "spark-3.2.1-bin-hadoop3.2/data/mllib/ridge-data/lpsa.data\n",
            "spark-3.2.1-bin-hadoop3.2/data/mllib/sample_binary_classification_data.txt\n",
            "spark-3.2.1-bin-hadoop3.2/data/mllib/sample_fpgrowth.txt\n",
            "spark-3.2.1-bin-hadoop3.2/data/mllib/sample_isotonic_regression_libsvm_data.txt\n",
            "spark-3.2.1-bin-hadoop3.2/data/mllib/sample_kmeans_data.txt\n",
            "spark-3.2.1-bin-hadoop3.2/data/mllib/sample_lda_data.txt\n",
            "spark-3.2.1-bin-hadoop3.2/data/mllib/sample_lda_libsvm_data.txt\n",
            "spark-3.2.1-bin-hadoop3.2/data/mllib/sample_libsvm_data.txt\n",
            "spark-3.2.1-bin-hadoop3.2/data/mllib/sample_linear_regression_data.txt\n",
            "spark-3.2.1-bin-hadoop3.2/data/mllib/sample_movielens_data.txt\n",
            "spark-3.2.1-bin-hadoop3.2/data/mllib/sample_multiclass_classification_data.txt\n",
            "spark-3.2.1-bin-hadoop3.2/data/mllib/sample_svm_data.txt\n",
            "spark-3.2.1-bin-hadoop3.2/data/mllib/streaming_kmeans_data_test.txt\n",
            "spark-3.2.1-bin-hadoop3.2/data/streaming/\n",
            "spark-3.2.1-bin-hadoop3.2/data/streaming/AFINN-111.txt\n",
            "spark-3.2.1-bin-hadoop3.2/examples/\n",
            "spark-3.2.1-bin-hadoop3.2/examples/jars/\n",
            "spark-3.2.1-bin-hadoop3.2/examples/jars/scopt_2.12-3.7.1.jar\n",
            "spark-3.2.1-bin-hadoop3.2/examples/jars/spark-examples_2.12-3.2.1.jar\n",
            "spark-3.2.1-bin-hadoop3.2/examples/src/\n",
            "spark-3.2.1-bin-hadoop3.2/examples/src/main/\n",
            "spark-3.2.1-bin-hadoop3.2/examples/src/main/java/\n",
            "spark-3.2.1-bin-hadoop3.2/examples/src/main/java/org/\n",
            "spark-3.2.1-bin-hadoop3.2/examples/src/main/java/org/apache/\n",
            "spark-3.2.1-bin-hadoop3.2/examples/src/main/java/org/apache/spark/\n",
            "spark-3.2.1-bin-hadoop3.2/examples/src/main/java/org/apache/spark/examples/\n",
            "spark-3.2.1-bin-hadoop3.2/examples/src/main/java/org/apache/spark/examples/JavaHdfsLR.java\n",
            "spark-3.2.1-bin-hadoop3.2/examples/src/main/java/org/apache/spark/examples/JavaLogQuery.java\n",
            "spark-3.2.1-bin-hadoop3.2/examples/src/main/java/org/apache/spark/examples/JavaPageRank.java\n",
            "spark-3.2.1-bin-hadoop3.2/examples/src/main/java/org/apache/spark/examples/JavaSparkPi.java\n",
            "spark-3.2.1-bin-hadoop3.2/examples/src/main/java/org/apache/spark/examples/JavaStatusTrackerDemo.java\n",
            "spark-3.2.1-bin-hadoop3.2/examples/src/main/java/org/apache/spark/examples/JavaTC.java\n",
            "spark-3.2.1-bin-hadoop3.2/examples/src/main/java/org/apache/spark/examples/JavaWordCount.java\n",
            "spark-3.2.1-bin-hadoop3.2/examples/src/main/java/org/apache/spark/examples/ml/\n",
            "spark-3.2.1-bin-hadoop3.2/examples/src/main/java/org/apache/spark/examples/ml/JavaAFTSurvivalRegressionExample.java\n",
            "spark-3.2.1-bin-hadoop3.2/examples/src/main/java/org/apache/spark/examples/ml/JavaALSExample.java\n",
            "spark-3.2.1-bin-hadoop3.2/examples/src/main/java/org/apache/spark/examples/ml/JavaBinarizerExample.java\n",
            "spark-3.2.1-bin-hadoop3.2/examples/src/main/java/org/apache/spark/examples/ml/JavaBisectingKMeansExample.java\n",
            "spark-3.2.1-bin-hadoop3.2/examples/src/main/java/org/apache/spark/examples/ml/JavaBucketedRandomProjectionLSHExample.java\n",
            "spark-3.2.1-bin-hadoop3.2/examples/src/main/java/org/apache/spark/examples/ml/JavaBucketizerExample.java\n",
            "spark-3.2.1-bin-hadoop3.2/examples/src/main/java/org/apache/spark/examples/ml/JavaChiSqSelectorExample.java\n",
            "spark-3.2.1-bin-hadoop3.2/examples/src/main/java/org/apache/spark/examples/ml/JavaChiSquareTestExample.java\n",
            "spark-3.2.1-bin-hadoop3.2/examples/src/main/java/org/apache/spark/examples/ml/JavaCorrelationExample.java\n",
            "spark-3.2.1-bin-hadoop3.2/examples/src/main/java/org/apache/spark/examples/ml/JavaCountVectorizerExample.java\n",
            "spark-3.2.1-bin-hadoop3.2/examples/src/main/java/org/apache/spark/examples/ml/JavaDCTExample.java\n",
            "spark-3.2.1-bin-hadoop3.2/examples/src/main/java/org/apache/spark/examples/ml/JavaDecisionTreeClassificationExample.java\n",
            "spark-3.2.1-bin-hadoop3.2/examples/src/main/java/org/apache/spark/examples/ml/JavaDecisionTreeRegressionExample.java\n",
            "spark-3.2.1-bin-hadoop3.2/examples/src/main/java/org/apache/spark/examples/ml/JavaDocument.java\n",
            "spark-3.2.1-bin-hadoop3.2/examples/src/main/java/org/apache/spark/examples/ml/JavaElementwiseProductExample.java\n",
            "spark-3.2.1-bin-hadoop3.2/examples/src/main/java/org/apache/spark/examples/ml/JavaEstimatorTransformerParamExample.java\n",
            "spark-3.2.1-bin-hadoop3.2/examples/src/main/java/org/apache/spark/examples/ml/JavaFMClassifierExample.java\n",
            "spark-3.2.1-bin-hadoop3.2/examples/src/main/java/org/apache/spark/examples/ml/JavaFMRegressorExample.java\n",
            "spark-3.2.1-bin-hadoop3.2/examples/src/main/java/org/apache/spark/examples/ml/JavaFPGrowthExample.java\n",
            "spark-3.2.1-bin-hadoop3.2/examples/src/main/java/org/apache/spark/examples/ml/JavaFeatureHasherExample.java\n",
            "spark-3.2.1-bin-hadoop3.2/examples/src/main/java/org/apache/spark/examples/ml/JavaGaussianMixtureExample.java\n",
            "spark-3.2.1-bin-hadoop3.2/examples/src/main/java/org/apache/spark/examples/ml/JavaGeneralizedLinearRegressionExample.java\n",
            "spark-3.2.1-bin-hadoop3.2/examples/src/main/java/org/apache/spark/examples/ml/JavaGradientBoostedTreeClassifierExample.java\n",
            "spark-3.2.1-bin-hadoop3.2/examples/src/main/java/org/apache/spark/examples/ml/JavaGradientBoostedTreeRegressorExample.java\n",
            "spark-3.2.1-bin-hadoop3.2/examples/src/main/java/org/apache/spark/examples/ml/JavaImputerExample.java\n",
            "spark-3.2.1-bin-hadoop3.2/examples/src/main/java/org/apache/spark/examples/ml/JavaIndexToStringExample.java\n",
            "spark-3.2.1-bin-hadoop3.2/examples/src/main/java/org/apache/spark/examples/ml/JavaInteractionExample.java\n",
            "spark-3.2.1-bin-hadoop3.2/examples/src/main/java/org/apache/spark/examples/ml/JavaIsotonicRegressionExample.java\n",
            "spark-3.2.1-bin-hadoop3.2/examples/src/main/java/org/apache/spark/examples/ml/JavaKMeansExample.java\n",
            "spark-3.2.1-bin-hadoop3.2/examples/src/main/java/org/apache/spark/examples/ml/JavaLDAExample.java\n",
            "spark-3.2.1-bin-hadoop3.2/examples/src/main/java/org/apache/spark/examples/ml/JavaLabeledDocument.java\n",
            "spark-3.2.1-bin-hadoop3.2/examples/src/main/java/org/apache/spark/examples/ml/JavaLinearRegressionWithElasticNetExample.java\n",
            "spark-3.2.1-bin-hadoop3.2/examples/src/main/java/org/apache/spark/examples/ml/JavaLinearSVCExample.java\n",
            "spark-3.2.1-bin-hadoop3.2/examples/src/main/java/org/apache/spark/examples/ml/JavaLogisticRegressionSummaryExample.java\n",
            "spark-3.2.1-bin-hadoop3.2/examples/src/main/java/org/apache/spark/examples/ml/JavaLogisticRegressionWithElasticNetExample.java\n",
            "spark-3.2.1-bin-hadoop3.2/examples/src/main/java/org/apache/spark/examples/ml/JavaMaxAbsScalerExample.java\n",
            "spark-3.2.1-bin-hadoop3.2/examples/src/main/java/org/apache/spark/examples/ml/JavaMinHashLSHExample.java\n",
            "spark-3.2.1-bin-hadoop3.2/examples/src/main/java/org/apache/spark/examples/ml/JavaMinMaxScalerExample.java\n",
            "spark-3.2.1-bin-hadoop3.2/examples/src/main/java/org/apache/spark/examples/ml/JavaModelSelectionViaCrossValidationExample.java\n",
            "spark-3.2.1-bin-hadoop3.2/examples/src/main/java/org/apache/spark/examples/ml/JavaModelSelectionViaTrainValidationSplitExample.java\n",
            "spark-3.2.1-bin-hadoop3.2/examples/src/main/java/org/apache/spark/examples/ml/JavaMulticlassLogisticRegressionWithElasticNetExample.java\n",
            "spark-3.2.1-bin-hadoop3.2/examples/src/main/java/org/apache/spark/examples/ml/JavaMultilayerPerceptronClassifierExample.java\n",
            "spark-3.2.1-bin-hadoop3.2/examples/src/main/java/org/apache/spark/examples/ml/JavaNGramExample.java\n",
            "spark-3.2.1-bin-hadoop3.2/examples/src/main/java/org/apache/spark/examples/ml/JavaNaiveBayesExample.java\n",
            "spark-3.2.1-bin-hadoop3.2/examples/src/main/java/org/apache/spark/examples/ml/JavaNormalizerExample.java\n",
            "spark-3.2.1-bin-hadoop3.2/examples/src/main/java/org/apache/spark/examples/ml/JavaOneHotEncoderExample.java\n",
            "spark-3.2.1-bin-hadoop3.2/examples/src/main/java/org/apache/spark/examples/ml/JavaOneVsRestExample.java\n",
            "spark-3.2.1-bin-hadoop3.2/examples/src/main/java/org/apache/spark/examples/ml/JavaPCAExample.java\n",
            "spark-3.2.1-bin-hadoop3.2/examples/src/main/java/org/apache/spark/examples/ml/JavaPipelineExample.java\n",
            "spark-3.2.1-bin-hadoop3.2/examples/src/main/java/org/apache/spark/examples/ml/JavaPolynomialExpansionExample.java\n",
            "spark-3.2.1-bin-hadoop3.2/examples/src/main/java/org/apache/spark/examples/ml/JavaPowerIterationClusteringExample.java\n",
            "spark-3.2.1-bin-hadoop3.2/examples/src/main/java/org/apache/spark/examples/ml/JavaPrefixSpanExample.java\n",
            "spark-3.2.1-bin-hadoop3.2/examples/src/main/java/org/apache/spark/examples/ml/JavaQuantileDiscretizerExample.java\n",
            "spark-3.2.1-bin-hadoop3.2/examples/src/main/java/org/apache/spark/examples/ml/JavaRFormulaExample.java\n",
            "spark-3.2.1-bin-hadoop3.2/examples/src/main/java/org/apache/spark/examples/ml/JavaRandomForestClassifierExample.java\n",
            "spark-3.2.1-bin-hadoop3.2/examples/src/main/java/org/apache/spark/examples/ml/JavaRandomForestRegressorExample.java\n",
            "spark-3.2.1-bin-hadoop3.2/examples/src/main/java/org/apache/spark/examples/ml/JavaRobustScalerExample.java\n",
            "spark-3.2.1-bin-hadoop3.2/examples/src/main/java/org/apache/spark/examples/ml/JavaSQLTransformerExample.java\n",
            "spark-3.2.1-bin-hadoop3.2/examples/src/main/java/org/apache/spark/examples/ml/JavaStandardScalerExample.java\n",
            "spark-3.2.1-bin-hadoop3.2/examples/src/main/java/org/apache/spark/examples/ml/JavaStopWordsRemoverExample.java\n",
            "spark-3.2.1-bin-hadoop3.2/examples/src/main/java/org/apache/spark/examples/ml/JavaStringIndexerExample.java\n",
            "spark-3.2.1-bin-hadoop3.2/examples/src/main/java/org/apache/spark/examples/ml/JavaSummarizerExample.java\n",
            "spark-3.2.1-bin-hadoop3.2/examples/src/main/java/org/apache/spark/examples/ml/JavaTfIdfExample.java\n",
            "spark-3.2.1-bin-hadoop3.2/examples/src/main/java/org/apache/spark/examples/ml/JavaTokenizerExample.java\n",
            "spark-3.2.1-bin-hadoop3.2/examples/src/main/java/org/apache/spark/examples/ml/JavaUnivariateFeatureSelectorExample.java\n",
            "spark-3.2.1-bin-hadoop3.2/examples/src/main/java/org/apache/spark/examples/ml/JavaVarianceThresholdSelectorExample.java\n",
            "spark-3.2.1-bin-hadoop3.2/examples/src/main/java/org/apache/spark/examples/ml/JavaVectorAssemblerExample.java\n",
            "spark-3.2.1-bin-hadoop3.2/examples/src/main/java/org/apache/spark/examples/ml/JavaVectorIndexerExample.java\n",
            "spark-3.2.1-bin-hadoop3.2/examples/src/main/java/org/apache/spark/examples/ml/JavaVectorSizeHintExample.java\n",
            "spark-3.2.1-bin-hadoop3.2/examples/src/main/java/org/apache/spark/examples/ml/JavaVectorSlicerExample.java\n",
            "spark-3.2.1-bin-hadoop3.2/examples/src/main/java/org/apache/spark/examples/ml/JavaWord2VecExample.java\n",
            "spark-3.2.1-bin-hadoop3.2/examples/src/main/java/org/apache/spark/examples/mllib/\n",
            "spark-3.2.1-bin-hadoop3.2/examples/src/main/java/org/apache/spark/examples/mllib/JavaALS.java\n",
            "spark-3.2.1-bin-hadoop3.2/examples/src/main/java/org/apache/spark/examples/mllib/JavaAssociationRulesExample.java\n",
            "spark-3.2.1-bin-hadoop3.2/examples/src/main/java/org/apache/spark/examples/mllib/JavaBinaryClassificationMetricsExample.java\n",
            "spark-3.2.1-bin-hadoop3.2/examples/src/main/java/org/apache/spark/examples/mllib/JavaBisectingKMeansExample.java\n",
            "spark-3.2.1-bin-hadoop3.2/examples/src/main/java/org/apache/spark/examples/mllib/JavaChiSqSelectorExample.java\n",
            "spark-3.2.1-bin-hadoop3.2/examples/src/main/java/org/apache/spark/examples/mllib/JavaCorrelationsExample.java\n",
            "spark-3.2.1-bin-hadoop3.2/examples/src/main/java/org/apache/spark/examples/mllib/JavaDecisionTreeClassificationExample.java\n",
            "spark-3.2.1-bin-hadoop3.2/examples/src/main/java/org/apache/spark/examples/mllib/JavaDecisionTreeRegressionExample.java\n",
            "spark-3.2.1-bin-hadoop3.2/examples/src/main/java/org/apache/spark/examples/mllib/JavaElementwiseProductExample.java\n",
            "spark-3.2.1-bin-hadoop3.2/examples/src/main/java/org/apache/spark/examples/mllib/JavaGaussianMixtureExample.java\n",
            "spark-3.2.1-bin-hadoop3.2/examples/src/main/java/org/apache/spark/examples/mllib/JavaGradientBoostingClassificationExample.java\n",
            "spark-3.2.1-bin-hadoop3.2/examples/src/main/java/org/apache/spark/examples/mllib/JavaGradientBoostingRegressionExample.java\n",
            "spark-3.2.1-bin-hadoop3.2/examples/src/main/java/org/apache/spark/examples/mllib/JavaHypothesisTestingExample.java\n",
            "spark-3.2.1-bin-hadoop3.2/examples/src/main/java/org/apache/spark/examples/mllib/JavaHypothesisTestingKolmogorovSmirnovTestExample.java\n",
            "spark-3.2.1-bin-hadoop3.2/examples/src/main/java/org/apache/spark/examples/mllib/JavaIsotonicRegressionExample.java\n",
            "spark-3.2.1-bin-hadoop3.2/examples/src/main/java/org/apache/spark/examples/mllib/JavaKMeansExample.java\n",
            "spark-3.2.1-bin-hadoop3.2/examples/src/main/java/org/apache/spark/examples/mllib/JavaKernelDensityEstimationExample.java\n",
            "spark-3.2.1-bin-hadoop3.2/examples/src/main/java/org/apache/spark/examples/mllib/JavaLBFGSExample.java\n",
            "spark-3.2.1-bin-hadoop3.2/examples/src/main/java/org/apache/spark/examples/mllib/JavaLatentDirichletAllocationExample.java\n",
            "spark-3.2.1-bin-hadoop3.2/examples/src/main/java/org/apache/spark/examples/mllib/JavaLogisticRegressionWithLBFGSExample.java\n",
            "spark-3.2.1-bin-hadoop3.2/examples/src/main/java/org/apache/spark/examples/mllib/JavaMultiLabelClassificationMetricsExample.java\n",
            "spark-3.2.1-bin-hadoop3.2/examples/src/main/java/org/apache/spark/examples/mllib/JavaMulticlassClassificationMetricsExample.java\n",
            "spark-3.2.1-bin-hadoop3.2/examples/src/main/java/org/apache/spark/examples/mllib/JavaNaiveBayesExample.java\n",
            "spark-3.2.1-bin-hadoop3.2/examples/src/main/java/org/apache/spark/examples/mllib/JavaPCAExample.java\n",
            "spark-3.2.1-bin-hadoop3.2/examples/src/main/java/org/apache/spark/examples/mllib/JavaPowerIterationClusteringExample.java\n",
            "spark-3.2.1-bin-hadoop3.2/examples/src/main/java/org/apache/spark/examples/mllib/JavaPrefixSpanExample.java\n",
            "spark-3.2.1-bin-hadoop3.2/examples/src/main/java/org/apache/spark/examples/mllib/JavaRandomForestClassificationExample.java\n",
            "spark-3.2.1-bin-hadoop3.2/examples/src/main/java/org/apache/spark/examples/mllib/JavaRandomForestRegressionExample.java\n",
            "spark-3.2.1-bin-hadoop3.2/examples/src/main/java/org/apache/spark/examples/mllib/JavaRankingMetricsExample.java\n",
            "spark-3.2.1-bin-hadoop3.2/examples/src/main/java/org/apache/spark/examples/mllib/JavaRecommendationExample.java\n",
            "spark-3.2.1-bin-hadoop3.2/examples/src/main/java/org/apache/spark/examples/mllib/JavaSVDExample.java\n",
            "spark-3.2.1-bin-hadoop3.2/examples/src/main/java/org/apache/spark/examples/mllib/JavaSVMWithSGDExample.java\n",
            "spark-3.2.1-bin-hadoop3.2/examples/src/main/java/org/apache/spark/examples/mllib/JavaSimpleFPGrowth.java\n",
            "spark-3.2.1-bin-hadoop3.2/examples/src/main/java/org/apache/spark/examples/mllib/JavaStratifiedSamplingExample.java\n",
            "spark-3.2.1-bin-hadoop3.2/examples/src/main/java/org/apache/spark/examples/mllib/JavaStreamingTestExample.java\n",
            "spark-3.2.1-bin-hadoop3.2/examples/src/main/java/org/apache/spark/examples/mllib/JavaSummaryStatisticsExample.java\n",
            "spark-3.2.1-bin-hadoop3.2/examples/src/main/java/org/apache/spark/examples/sql/\n",
            "spark-3.2.1-bin-hadoop3.2/examples/src/main/java/org/apache/spark/examples/sql/JavaSQLDataSourceExample.java\n",
            "spark-3.2.1-bin-hadoop3.2/examples/src/main/java/org/apache/spark/examples/sql/JavaSparkSQLExample.java\n",
            "spark-3.2.1-bin-hadoop3.2/examples/src/main/java/org/apache/spark/examples/sql/JavaUserDefinedScalar.java\n",
            "spark-3.2.1-bin-hadoop3.2/examples/src/main/java/org/apache/spark/examples/sql/JavaUserDefinedTypedAggregation.java\n",
            "spark-3.2.1-bin-hadoop3.2/examples/src/main/java/org/apache/spark/examples/sql/JavaUserDefinedUntypedAggregation.java\n",
            "spark-3.2.1-bin-hadoop3.2/examples/src/main/java/org/apache/spark/examples/sql/hive/\n",
            "spark-3.2.1-bin-hadoop3.2/examples/src/main/java/org/apache/spark/examples/sql/hive/JavaSparkHiveExample.java\n",
            "spark-3.2.1-bin-hadoop3.2/examples/src/main/java/org/apache/spark/examples/sql/streaming/\n",
            "spark-3.2.1-bin-hadoop3.2/examples/src/main/java/org/apache/spark/examples/sql/streaming/JavaStructuredComplexSessionization.java\n",
            "spark-3.2.1-bin-hadoop3.2/examples/src/main/java/org/apache/spark/examples/sql/streaming/JavaStructuredKafkaWordCount.java\n",
            "spark-3.2.1-bin-hadoop3.2/examples/src/main/java/org/apache/spark/examples/sql/streaming/JavaStructuredKerberizedKafkaWordCount.java\n",
            "spark-3.2.1-bin-hadoop3.2/examples/src/main/java/org/apache/spark/examples/sql/streaming/JavaStructuredNetworkWordCount.java\n",
            "spark-3.2.1-bin-hadoop3.2/examples/src/main/java/org/apache/spark/examples/sql/streaming/JavaStructuredNetworkWordCountWindowed.java\n",
            "spark-3.2.1-bin-hadoop3.2/examples/src/main/java/org/apache/spark/examples/sql/streaming/JavaStructuredSessionization.java\n",
            "spark-3.2.1-bin-hadoop3.2/examples/src/main/java/org/apache/spark/examples/streaming/\n",
            "spark-3.2.1-bin-hadoop3.2/examples/src/main/java/org/apache/spark/examples/streaming/JavaCustomReceiver.java\n",
            "spark-3.2.1-bin-hadoop3.2/examples/src/main/java/org/apache/spark/examples/streaming/JavaDirectKafkaWordCount.java\n",
            "spark-3.2.1-bin-hadoop3.2/examples/src/main/java/org/apache/spark/examples/streaming/JavaDirectKerberizedKafkaWordCount.java\n",
            "spark-3.2.1-bin-hadoop3.2/examples/src/main/java/org/apache/spark/examples/streaming/JavaNetworkWordCount.java\n",
            "spark-3.2.1-bin-hadoop3.2/examples/src/main/java/org/apache/spark/examples/streaming/JavaQueueStream.java\n",
            "spark-3.2.1-bin-hadoop3.2/examples/src/main/java/org/apache/spark/examples/streaming/JavaRecord.java\n",
            "spark-3.2.1-bin-hadoop3.2/examples/src/main/java/org/apache/spark/examples/streaming/JavaRecoverableNetworkWordCount.java\n",
            "spark-3.2.1-bin-hadoop3.2/examples/src/main/java/org/apache/spark/examples/streaming/JavaSqlNetworkWordCount.java\n",
            "spark-3.2.1-bin-hadoop3.2/examples/src/main/java/org/apache/spark/examples/streaming/JavaStatefulNetworkWordCount.java\n",
            "spark-3.2.1-bin-hadoop3.2/examples/src/main/python/\n",
            "spark-3.2.1-bin-hadoop3.2/examples/src/main/python/als.py\n",
            "spark-3.2.1-bin-hadoop3.2/examples/src/main/python/avro_inputformat.py\n",
            "spark-3.2.1-bin-hadoop3.2/examples/src/main/python/kmeans.py\n",
            "spark-3.2.1-bin-hadoop3.2/examples/src/main/python/logistic_regression.py\n",
            "spark-3.2.1-bin-hadoop3.2/examples/src/main/python/ml/\n",
            "spark-3.2.1-bin-hadoop3.2/examples/src/main/python/ml/aft_survival_regression.py\n",
            "spark-3.2.1-bin-hadoop3.2/examples/src/main/python/ml/als_example.py\n",
            "spark-3.2.1-bin-hadoop3.2/examples/src/main/python/ml/binarizer_example.py\n",
            "spark-3.2.1-bin-hadoop3.2/examples/src/main/python/ml/bisecting_k_means_example.py\n",
            "spark-3.2.1-bin-hadoop3.2/examples/src/main/python/ml/bucketed_random_projection_lsh_example.py\n",
            "spark-3.2.1-bin-hadoop3.2/examples/src/main/python/ml/bucketizer_example.py\n",
            "spark-3.2.1-bin-hadoop3.2/examples/src/main/python/ml/chi_square_test_example.py\n",
            "spark-3.2.1-bin-hadoop3.2/examples/src/main/python/ml/chisq_selector_example.py\n",
            "spark-3.2.1-bin-hadoop3.2/examples/src/main/python/ml/correlation_example.py\n",
            "spark-3.2.1-bin-hadoop3.2/examples/src/main/python/ml/count_vectorizer_example.py\n",
            "spark-3.2.1-bin-hadoop3.2/examples/src/main/python/ml/cross_validator.py\n",
            "spark-3.2.1-bin-hadoop3.2/examples/src/main/python/ml/dataframe_example.py\n",
            "spark-3.2.1-bin-hadoop3.2/examples/src/main/python/ml/dct_example.py\n",
            "spark-3.2.1-bin-hadoop3.2/examples/src/main/python/ml/decision_tree_classification_example.py\n",
            "spark-3.2.1-bin-hadoop3.2/examples/src/main/python/ml/decision_tree_regression_example.py\n",
            "spark-3.2.1-bin-hadoop3.2/examples/src/main/python/ml/elementwise_product_example.py\n",
            "spark-3.2.1-bin-hadoop3.2/examples/src/main/python/ml/estimator_transformer_param_example.py\n",
            "spark-3.2.1-bin-hadoop3.2/examples/src/main/python/ml/feature_hasher_example.py\n",
            "spark-3.2.1-bin-hadoop3.2/examples/src/main/python/ml/fm_classifier_example.py\n",
            "spark-3.2.1-bin-hadoop3.2/examples/src/main/python/ml/fm_regressor_example.py\n",
            "spark-3.2.1-bin-hadoop3.2/examples/src/main/python/ml/fpgrowth_example.py\n",
            "spark-3.2.1-bin-hadoop3.2/examples/src/main/python/ml/gaussian_mixture_example.py\n",
            "spark-3.2.1-bin-hadoop3.2/examples/src/main/python/ml/generalized_linear_regression_example.py\n",
            "spark-3.2.1-bin-hadoop3.2/examples/src/main/python/ml/gradient_boosted_tree_classifier_example.py\n",
            "spark-3.2.1-bin-hadoop3.2/examples/src/main/python/ml/gradient_boosted_tree_regressor_example.py\n",
            "spark-3.2.1-bin-hadoop3.2/examples/src/main/python/ml/imputer_example.py\n",
            "spark-3.2.1-bin-hadoop3.2/examples/src/main/python/ml/index_to_string_example.py\n",
            "spark-3.2.1-bin-hadoop3.2/examples/src/main/python/ml/interaction_example.py\n",
            "spark-3.2.1-bin-hadoop3.2/examples/src/main/python/ml/isotonic_regression_example.py\n",
            "spark-3.2.1-bin-hadoop3.2/examples/src/main/python/ml/kmeans_example.py\n",
            "spark-3.2.1-bin-hadoop3.2/examples/src/main/python/ml/lda_example.py\n",
            "spark-3.2.1-bin-hadoop3.2/examples/src/main/python/ml/linear_regression_with_elastic_net.py\n",
            "spark-3.2.1-bin-hadoop3.2/examples/src/main/python/ml/linearsvc.py\n",
            "spark-3.2.1-bin-hadoop3.2/examples/src/main/python/ml/logistic_regression_summary_example.py\n",
            "spark-3.2.1-bin-hadoop3.2/examples/src/main/python/ml/logistic_regression_with_elastic_net.py\n",
            "spark-3.2.1-bin-hadoop3.2/examples/src/main/python/ml/max_abs_scaler_example.py\n",
            "spark-3.2.1-bin-hadoop3.2/examples/src/main/python/ml/min_hash_lsh_example.py\n",
            "spark-3.2.1-bin-hadoop3.2/examples/src/main/python/ml/min_max_scaler_example.py\n",
            "spark-3.2.1-bin-hadoop3.2/examples/src/main/python/ml/multiclass_logistic_regression_with_elastic_net.py\n",
            "spark-3.2.1-bin-hadoop3.2/examples/src/main/python/ml/multilayer_perceptron_classification.py\n",
            "spark-3.2.1-bin-hadoop3.2/examples/src/main/python/ml/n_gram_example.py\n",
            "spark-3.2.1-bin-hadoop3.2/examples/src/main/python/ml/naive_bayes_example.py\n",
            "spark-3.2.1-bin-hadoop3.2/examples/src/main/python/ml/normalizer_example.py\n",
            "spark-3.2.1-bin-hadoop3.2/examples/src/main/python/ml/one_vs_rest_example.py\n",
            "spark-3.2.1-bin-hadoop3.2/examples/src/main/python/ml/onehot_encoder_example.py\n",
            "spark-3.2.1-bin-hadoop3.2/examples/src/main/python/ml/pca_example.py\n",
            "spark-3.2.1-bin-hadoop3.2/examples/src/main/python/ml/pipeline_example.py\n",
            "spark-3.2.1-bin-hadoop3.2/examples/src/main/python/ml/polynomial_expansion_example.py\n",
            "spark-3.2.1-bin-hadoop3.2/examples/src/main/python/ml/power_iteration_clustering_example.py\n",
            "spark-3.2.1-bin-hadoop3.2/examples/src/main/python/ml/prefixspan_example.py\n",
            "spark-3.2.1-bin-hadoop3.2/examples/src/main/python/ml/quantile_discretizer_example.py\n",
            "spark-3.2.1-bin-hadoop3.2/examples/src/main/python/ml/random_forest_classifier_example.py\n",
            "spark-3.2.1-bin-hadoop3.2/examples/src/main/python/ml/random_forest_regressor_example.py\n",
            "spark-3.2.1-bin-hadoop3.2/examples/src/main/python/ml/rformula_example.py\n",
            "spark-3.2.1-bin-hadoop3.2/examples/src/main/python/ml/robust_scaler_example.py\n",
            "spark-3.2.1-bin-hadoop3.2/examples/src/main/python/ml/sql_transformer.py\n",
            "spark-3.2.1-bin-hadoop3.2/examples/src/main/python/ml/standard_scaler_example.py\n",
            "spark-3.2.1-bin-hadoop3.2/examples/src/main/python/ml/stopwords_remover_example.py\n",
            "spark-3.2.1-bin-hadoop3.2/examples/src/main/python/ml/string_indexer_example.py\n",
            "spark-3.2.1-bin-hadoop3.2/examples/src/main/python/ml/summarizer_example.py\n",
            "spark-3.2.1-bin-hadoop3.2/examples/src/main/python/ml/tf_idf_example.py\n",
            "spark-3.2.1-bin-hadoop3.2/examples/src/main/python/ml/tokenizer_example.py\n",
            "spark-3.2.1-bin-hadoop3.2/examples/src/main/python/ml/train_validation_split.py\n",
            "spark-3.2.1-bin-hadoop3.2/examples/src/main/python/ml/univariate_feature_selector_example.py\n",
            "spark-3.2.1-bin-hadoop3.2/examples/src/main/python/ml/variance_threshold_selector_example.py\n",
            "spark-3.2.1-bin-hadoop3.2/examples/src/main/python/ml/vector_assembler_example.py\n",
            "spark-3.2.1-bin-hadoop3.2/examples/src/main/python/ml/vector_indexer_example.py\n",
            "spark-3.2.1-bin-hadoop3.2/examples/src/main/python/ml/vector_size_hint_example.py\n",
            "spark-3.2.1-bin-hadoop3.2/examples/src/main/python/ml/vector_slicer_example.py\n",
            "spark-3.2.1-bin-hadoop3.2/examples/src/main/python/ml/word2vec_example.py\n",
            "spark-3.2.1-bin-hadoop3.2/examples/src/main/python/mllib/\n",
            "spark-3.2.1-bin-hadoop3.2/examples/src/main/python/mllib/binary_classification_metrics_example.py\n",
            "spark-3.2.1-bin-hadoop3.2/examples/src/main/python/mllib/bisecting_k_means_example.py\n",
            "spark-3.2.1-bin-hadoop3.2/examples/src/main/python/mllib/correlations.py\n",
            "spark-3.2.1-bin-hadoop3.2/examples/src/main/python/mllib/correlations_example.py\n",
            "spark-3.2.1-bin-hadoop3.2/examples/src/main/python/mllib/decision_tree_classification_example.py\n",
            "spark-3.2.1-bin-hadoop3.2/examples/src/main/python/mllib/decision_tree_regression_example.py\n",
            "spark-3.2.1-bin-hadoop3.2/examples/src/main/python/mllib/elementwise_product_example.py\n",
            "spark-3.2.1-bin-hadoop3.2/examples/src/main/python/mllib/fpgrowth_example.py\n",
            "spark-3.2.1-bin-hadoop3.2/examples/src/main/python/mllib/gaussian_mixture_example.py\n",
            "spark-3.2.1-bin-hadoop3.2/examples/src/main/python/mllib/gaussian_mixture_model.py\n",
            "spark-3.2.1-bin-hadoop3.2/examples/src/main/python/mllib/gradient_boosting_classification_example.py\n",
            "spark-3.2.1-bin-hadoop3.2/examples/src/main/python/mllib/gradient_boosting_regression_example.py\n",
            "spark-3.2.1-bin-hadoop3.2/examples/src/main/python/mllib/hypothesis_testing_example.py\n",
            "spark-3.2.1-bin-hadoop3.2/examples/src/main/python/mllib/hypothesis_testing_kolmogorov_smirnov_test_example.py\n",
            "spark-3.2.1-bin-hadoop3.2/examples/src/main/python/mllib/isotonic_regression_example.py\n",
            "spark-3.2.1-bin-hadoop3.2/examples/src/main/python/mllib/k_means_example.py\n",
            "spark-3.2.1-bin-hadoop3.2/examples/src/main/python/mllib/kernel_density_estimation_example.py\n",
            "spark-3.2.1-bin-hadoop3.2/examples/src/main/python/mllib/kmeans.py\n",
            "spark-3.2.1-bin-hadoop3.2/examples/src/main/python/mllib/latent_dirichlet_allocation_example.py\n",
            "spark-3.2.1-bin-hadoop3.2/examples/src/main/python/mllib/linear_regression_with_sgd_example.py\n",
            "spark-3.2.1-bin-hadoop3.2/examples/src/main/python/mllib/logistic_regression.py\n",
            "spark-3.2.1-bin-hadoop3.2/examples/src/main/python/mllib/logistic_regression_with_lbfgs_example.py\n",
            "spark-3.2.1-bin-hadoop3.2/examples/src/main/python/mllib/multi_class_metrics_example.py\n",
            "spark-3.2.1-bin-hadoop3.2/examples/src/main/python/mllib/multi_label_metrics_example.py\n",
            "spark-3.2.1-bin-hadoop3.2/examples/src/main/python/mllib/naive_bayes_example.py\n",
            "spark-3.2.1-bin-hadoop3.2/examples/src/main/python/mllib/normalizer_example.py\n",
            "spark-3.2.1-bin-hadoop3.2/examples/src/main/python/mllib/pca_rowmatrix_example.py\n",
            "spark-3.2.1-bin-hadoop3.2/examples/src/main/python/mllib/power_iteration_clustering_example.py\n",
            "spark-3.2.1-bin-hadoop3.2/examples/src/main/python/mllib/random_forest_classification_example.py\n",
            "spark-3.2.1-bin-hadoop3.2/examples/src/main/python/mllib/random_forest_regression_example.py\n",
            "spark-3.2.1-bin-hadoop3.2/examples/src/main/python/mllib/random_rdd_generation.py\n",
            "spark-3.2.1-bin-hadoop3.2/examples/src/main/python/mllib/ranking_metrics_example.py\n",
            "spark-3.2.1-bin-hadoop3.2/examples/src/main/python/mllib/recommendation_example.py\n",
            "spark-3.2.1-bin-hadoop3.2/examples/src/main/python/mllib/regression_metrics_example.py\n",
            "spark-3.2.1-bin-hadoop3.2/examples/src/main/python/mllib/sampled_rdds.py\n",
            "spark-3.2.1-bin-hadoop3.2/examples/src/main/python/mllib/standard_scaler_example.py\n",
            "spark-3.2.1-bin-hadoop3.2/examples/src/main/python/mllib/stratified_sampling_example.py\n",
            "spark-3.2.1-bin-hadoop3.2/examples/src/main/python/mllib/streaming_k_means_example.py\n",
            "spark-3.2.1-bin-hadoop3.2/examples/src/main/python/mllib/streaming_linear_regression_example.py\n",
            "spark-3.2.1-bin-hadoop3.2/examples/src/main/python/mllib/summary_statistics_example.py\n",
            "spark-3.2.1-bin-hadoop3.2/examples/src/main/python/mllib/svd_example.py\n",
            "spark-3.2.1-bin-hadoop3.2/examples/src/main/python/mllib/svm_with_sgd_example.py\n",
            "spark-3.2.1-bin-hadoop3.2/examples/src/main/python/mllib/tf_idf_example.py\n",
            "spark-3.2.1-bin-hadoop3.2/examples/src/main/python/mllib/word2vec.py\n",
            "spark-3.2.1-bin-hadoop3.2/examples/src/main/python/mllib/word2vec_example.py\n",
            "spark-3.2.1-bin-hadoop3.2/examples/src/main/python/pagerank.py\n",
            "spark-3.2.1-bin-hadoop3.2/examples/src/main/python/parquet_inputformat.py\n",
            "spark-3.2.1-bin-hadoop3.2/examples/src/main/python/pi.py\n",
            "spark-3.2.1-bin-hadoop3.2/examples/src/main/python/sort.py\n",
            "spark-3.2.1-bin-hadoop3.2/examples/src/main/python/sql/\n",
            "spark-3.2.1-bin-hadoop3.2/examples/src/main/python/sql/arrow.py\n",
            "spark-3.2.1-bin-hadoop3.2/examples/src/main/python/sql/basic.py\n",
            "spark-3.2.1-bin-hadoop3.2/examples/src/main/python/sql/datasource.py\n",
            "spark-3.2.1-bin-hadoop3.2/examples/src/main/python/sql/hive.py\n",
            "spark-3.2.1-bin-hadoop3.2/examples/src/main/python/sql/streaming/\n",
            "spark-3.2.1-bin-hadoop3.2/examples/src/main/python/sql/streaming/structured_kafka_wordcount.py\n",
            "spark-3.2.1-bin-hadoop3.2/examples/src/main/python/sql/streaming/structured_network_wordcount.py\n",
            "spark-3.2.1-bin-hadoop3.2/examples/src/main/python/sql/streaming/structured_network_wordcount_windowed.py\n",
            "spark-3.2.1-bin-hadoop3.2/examples/src/main/python/sql/streaming/structured_sessionization.py\n",
            "spark-3.2.1-bin-hadoop3.2/examples/src/main/python/status_api_demo.py\n",
            "spark-3.2.1-bin-hadoop3.2/examples/src/main/python/streaming/\n",
            "spark-3.2.1-bin-hadoop3.2/examples/src/main/python/streaming/hdfs_wordcount.py\n",
            "spark-3.2.1-bin-hadoop3.2/examples/src/main/python/streaming/network_wordcount.py\n",
            "spark-3.2.1-bin-hadoop3.2/examples/src/main/python/streaming/network_wordjoinsentiments.py\n",
            "spark-3.2.1-bin-hadoop3.2/examples/src/main/python/streaming/queue_stream.py\n",
            "spark-3.2.1-bin-hadoop3.2/examples/src/main/python/streaming/recoverable_network_wordcount.py\n",
            "spark-3.2.1-bin-hadoop3.2/examples/src/main/python/streaming/sql_network_wordcount.py\n",
            "spark-3.2.1-bin-hadoop3.2/examples/src/main/python/streaming/stateful_network_wordcount.py\n",
            "spark-3.2.1-bin-hadoop3.2/examples/src/main/python/transitive_closure.py\n",
            "spark-3.2.1-bin-hadoop3.2/examples/src/main/python/wordcount.py\n",
            "spark-3.2.1-bin-hadoop3.2/examples/src/main/r/\n",
            "spark-3.2.1-bin-hadoop3.2/examples/src/main/r/RSparkSQLExample.R\n",
            "spark-3.2.1-bin-hadoop3.2/examples/src/main/r/data-manipulation.R\n",
            "spark-3.2.1-bin-hadoop3.2/examples/src/main/r/dataframe.R\n",
            "spark-3.2.1-bin-hadoop3.2/examples/src/main/r/ml/\n",
            "spark-3.2.1-bin-hadoop3.2/examples/src/main/r/ml/als.R\n",
            "spark-3.2.1-bin-hadoop3.2/examples/src/main/r/ml/bisectingKmeans.R\n",
            "spark-3.2.1-bin-hadoop3.2/examples/src/main/r/ml/decisionTree.R\n",
            "spark-3.2.1-bin-hadoop3.2/examples/src/main/r/ml/fmClassifier.R\n",
            "spark-3.2.1-bin-hadoop3.2/examples/src/main/r/ml/fmRegressor.R\n",
            "spark-3.2.1-bin-hadoop3.2/examples/src/main/r/ml/fpm.R\n",
            "spark-3.2.1-bin-hadoop3.2/examples/src/main/r/ml/gaussianMixture.R\n",
            "spark-3.2.1-bin-hadoop3.2/examples/src/main/r/ml/gbt.R\n",
            "spark-3.2.1-bin-hadoop3.2/examples/src/main/r/ml/glm.R\n",
            "spark-3.2.1-bin-hadoop3.2/examples/src/main/r/ml/isoreg.R\n",
            "spark-3.2.1-bin-hadoop3.2/examples/src/main/r/ml/kmeans.R\n",
            "spark-3.2.1-bin-hadoop3.2/examples/src/main/r/ml/kstest.R\n",
            "spark-3.2.1-bin-hadoop3.2/examples/src/main/r/ml/lda.R\n",
            "spark-3.2.1-bin-hadoop3.2/examples/src/main/r/ml/lm_with_elastic_net.R\n",
            "spark-3.2.1-bin-hadoop3.2/examples/src/main/r/ml/logit.R\n",
            "spark-3.2.1-bin-hadoop3.2/examples/src/main/r/ml/ml.R\n",
            "spark-3.2.1-bin-hadoop3.2/examples/src/main/r/ml/mlp.R\n",
            "spark-3.2.1-bin-hadoop3.2/examples/src/main/r/ml/naiveBayes.R\n",
            "spark-3.2.1-bin-hadoop3.2/examples/src/main/r/ml/powerIterationClustering.R\n",
            "spark-3.2.1-bin-hadoop3.2/examples/src/main/r/ml/prefixSpan.R\n",
            "spark-3.2.1-bin-hadoop3.2/examples/src/main/r/ml/randomForest.R\n",
            "spark-3.2.1-bin-hadoop3.2/examples/src/main/r/ml/survreg.R\n",
            "spark-3.2.1-bin-hadoop3.2/examples/src/main/r/ml/svmLinear.R\n",
            "spark-3.2.1-bin-hadoop3.2/examples/src/main/r/streaming/\n",
            "spark-3.2.1-bin-hadoop3.2/examples/src/main/r/streaming/structured_network_wordcount.R\n",
            "spark-3.2.1-bin-hadoop3.2/examples/src/main/resources/\n",
            "spark-3.2.1-bin-hadoop3.2/examples/src/main/resources/META-INF/\n",
            "spark-3.2.1-bin-hadoop3.2/examples/src/main/resources/META-INF/services/\n",
            "spark-3.2.1-bin-hadoop3.2/examples/src/main/resources/META-INF/services/org.apache.spark.sql.SparkSessionExtensionsProvider\n",
            "spark-3.2.1-bin-hadoop3.2/examples/src/main/resources/META-INF/services/org.apache.spark.sql.jdbc.JdbcConnectionProvider\n",
            "spark-3.2.1-bin-hadoop3.2/examples/src/main/resources/dir1/\n",
            "spark-3.2.1-bin-hadoop3.2/examples/src/main/resources/dir1/dir2/\n",
            "spark-3.2.1-bin-hadoop3.2/examples/src/main/resources/dir1/dir2/file2.parquet\n",
            "spark-3.2.1-bin-hadoop3.2/examples/src/main/resources/dir1/file1.parquet\n",
            "spark-3.2.1-bin-hadoop3.2/examples/src/main/resources/dir1/file3.json\n",
            "spark-3.2.1-bin-hadoop3.2/examples/src/main/resources/employees.json\n",
            "spark-3.2.1-bin-hadoop3.2/examples/src/main/resources/full_user.avsc\n",
            "spark-3.2.1-bin-hadoop3.2/examples/src/main/resources/kv1.txt\n",
            "spark-3.2.1-bin-hadoop3.2/examples/src/main/resources/people.csv\n",
            "spark-3.2.1-bin-hadoop3.2/examples/src/main/resources/people.json\n",
            "spark-3.2.1-bin-hadoop3.2/examples/src/main/resources/people.txt\n",
            "spark-3.2.1-bin-hadoop3.2/examples/src/main/resources/user.avsc\n",
            "spark-3.2.1-bin-hadoop3.2/examples/src/main/resources/users.avro\n",
            "spark-3.2.1-bin-hadoop3.2/examples/src/main/resources/users.orc\n",
            "spark-3.2.1-bin-hadoop3.2/examples/src/main/resources/users.parquet\n",
            "spark-3.2.1-bin-hadoop3.2/examples/src/main/scala/\n",
            "spark-3.2.1-bin-hadoop3.2/examples/src/main/scala/org/\n",
            "spark-3.2.1-bin-hadoop3.2/examples/src/main/scala/org/apache/\n",
            "spark-3.2.1-bin-hadoop3.2/examples/src/main/scala/org/apache/spark/\n",
            "spark-3.2.1-bin-hadoop3.2/examples/src/main/scala/org/apache/spark/examples/\n",
            "spark-3.2.1-bin-hadoop3.2/examples/src/main/scala/org/apache/spark/examples/AccumulatorMetricsTest.scala\n",
            "spark-3.2.1-bin-hadoop3.2/examples/src/main/scala/org/apache/spark/examples/BroadcastTest.scala\n",
            "spark-3.2.1-bin-hadoop3.2/examples/src/main/scala/org/apache/spark/examples/DFSReadWriteTest.scala\n",
            "spark-3.2.1-bin-hadoop3.2/examples/src/main/scala/org/apache/spark/examples/DriverSubmissionTest.scala\n",
            "spark-3.2.1-bin-hadoop3.2/examples/src/main/scala/org/apache/spark/examples/ExceptionHandlingTest.scala\n",
            "spark-3.2.1-bin-hadoop3.2/examples/src/main/scala/org/apache/spark/examples/GroupByTest.scala\n",
            "spark-3.2.1-bin-hadoop3.2/examples/src/main/scala/org/apache/spark/examples/HdfsTest.scala\n",
            "spark-3.2.1-bin-hadoop3.2/examples/src/main/scala/org/apache/spark/examples/LocalALS.scala\n",
            "spark-3.2.1-bin-hadoop3.2/examples/src/main/scala/org/apache/spark/examples/LocalFileLR.scala\n",
            "spark-3.2.1-bin-hadoop3.2/examples/src/main/scala/org/apache/spark/examples/LocalKMeans.scala\n",
            "spark-3.2.1-bin-hadoop3.2/examples/src/main/scala/org/apache/spark/examples/LocalLR.scala\n",
            "spark-3.2.1-bin-hadoop3.2/examples/src/main/scala/org/apache/spark/examples/LocalPi.scala\n",
            "spark-3.2.1-bin-hadoop3.2/examples/src/main/scala/org/apache/spark/examples/LogQuery.scala\n",
            "spark-3.2.1-bin-hadoop3.2/examples/src/main/scala/org/apache/spark/examples/MultiBroadcastTest.scala\n",
            "spark-3.2.1-bin-hadoop3.2/examples/src/main/scala/org/apache/spark/examples/SimpleSkewedGroupByTest.scala\n",
            "spark-3.2.1-bin-hadoop3.2/examples/src/main/scala/org/apache/spark/examples/SkewedGroupByTest.scala\n",
            "spark-3.2.1-bin-hadoop3.2/examples/src/main/scala/org/apache/spark/examples/SparkALS.scala\n",
            "spark-3.2.1-bin-hadoop3.2/examples/src/main/scala/org/apache/spark/examples/SparkHdfsLR.scala\n",
            "spark-3.2.1-bin-hadoop3.2/examples/src/main/scala/org/apache/spark/examples/SparkKMeans.scala\n",
            "spark-3.2.1-bin-hadoop3.2/examples/src/main/scala/org/apache/spark/examples/SparkLR.scala\n",
            "spark-3.2.1-bin-hadoop3.2/examples/src/main/scala/org/apache/spark/examples/SparkPageRank.scala\n",
            "spark-3.2.1-bin-hadoop3.2/examples/src/main/scala/org/apache/spark/examples/SparkPi.scala\n",
            "spark-3.2.1-bin-hadoop3.2/examples/src/main/scala/org/apache/spark/examples/SparkRemoteFileTest.scala\n",
            "spark-3.2.1-bin-hadoop3.2/examples/src/main/scala/org/apache/spark/examples/SparkTC.scala\n",
            "spark-3.2.1-bin-hadoop3.2/examples/src/main/scala/org/apache/spark/examples/extensions/\n",
            "spark-3.2.1-bin-hadoop3.2/examples/src/main/scala/org/apache/spark/examples/extensions/AgeExample.scala\n",
            "spark-3.2.1-bin-hadoop3.2/examples/src/main/scala/org/apache/spark/examples/extensions/SessionExtensionsWithLoader.scala\n",
            "spark-3.2.1-bin-hadoop3.2/examples/src/main/scala/org/apache/spark/examples/extensions/SessionExtensionsWithoutLoader.scala\n",
            "spark-3.2.1-bin-hadoop3.2/examples/src/main/scala/org/apache/spark/examples/extensions/SparkSessionExtensionsTest.scala\n",
            "spark-3.2.1-bin-hadoop3.2/examples/src/main/scala/org/apache/spark/examples/graphx/\n",
            "spark-3.2.1-bin-hadoop3.2/examples/src/main/scala/org/apache/spark/examples/graphx/AggregateMessagesExample.scala\n",
            "spark-3.2.1-bin-hadoop3.2/examples/src/main/scala/org/apache/spark/examples/graphx/Analytics.scala\n",
            "spark-3.2.1-bin-hadoop3.2/examples/src/main/scala/org/apache/spark/examples/graphx/ComprehensiveExample.scala\n",
            "spark-3.2.1-bin-hadoop3.2/examples/src/main/scala/org/apache/spark/examples/graphx/ConnectedComponentsExample.scala\n",
            "spark-3.2.1-bin-hadoop3.2/examples/src/main/scala/org/apache/spark/examples/graphx/LiveJournalPageRank.scala\n",
            "spark-3.2.1-bin-hadoop3.2/examples/src/main/scala/org/apache/spark/examples/graphx/PageRankExample.scala\n",
            "spark-3.2.1-bin-hadoop3.2/examples/src/main/scala/org/apache/spark/examples/graphx/SSSPExample.scala\n",
            "spark-3.2.1-bin-hadoop3.2/examples/src/main/scala/org/apache/spark/examples/graphx/SynthBenchmark.scala\n",
            "spark-3.2.1-bin-hadoop3.2/examples/src/main/scala/org/apache/spark/examples/graphx/TriangleCountingExample.scala\n",
            "spark-3.2.1-bin-hadoop3.2/examples/src/main/scala/org/apache/spark/examples/ml/\n",
            "spark-3.2.1-bin-hadoop3.2/examples/src/main/scala/org/apache/spark/examples/ml/AFTSurvivalRegressionExample.scala\n",
            "spark-3.2.1-bin-hadoop3.2/examples/src/main/scala/org/apache/spark/examples/ml/ALSExample.scala\n",
            "spark-3.2.1-bin-hadoop3.2/examples/src/main/scala/org/apache/spark/examples/ml/BinarizerExample.scala\n",
            "spark-3.2.1-bin-hadoop3.2/examples/src/main/scala/org/apache/spark/examples/ml/BisectingKMeansExample.scala\n",
            "spark-3.2.1-bin-hadoop3.2/examples/src/main/scala/org/apache/spark/examples/ml/BucketedRandomProjectionLSHExample.scala\n",
            "spark-3.2.1-bin-hadoop3.2/examples/src/main/scala/org/apache/spark/examples/ml/BucketizerExample.scala\n",
            "spark-3.2.1-bin-hadoop3.2/examples/src/main/scala/org/apache/spark/examples/ml/ChiSqSelectorExample.scala\n",
            "spark-3.2.1-bin-hadoop3.2/examples/src/main/scala/org/apache/spark/examples/ml/ChiSquareTestExample.scala\n",
            "spark-3.2.1-bin-hadoop3.2/examples/src/main/scala/org/apache/spark/examples/ml/CorrelationExample.scala\n",
            "spark-3.2.1-bin-hadoop3.2/examples/src/main/scala/org/apache/spark/examples/ml/CountVectorizerExample.scala\n",
            "spark-3.2.1-bin-hadoop3.2/examples/src/main/scala/org/apache/spark/examples/ml/DCTExample.scala\n",
            "spark-3.2.1-bin-hadoop3.2/examples/src/main/scala/org/apache/spark/examples/ml/DataFrameExample.scala\n",
            "spark-3.2.1-bin-hadoop3.2/examples/src/main/scala/org/apache/spark/examples/ml/DecisionTreeClassificationExample.scala\n",
            "spark-3.2.1-bin-hadoop3.2/examples/src/main/scala/org/apache/spark/examples/ml/DecisionTreeExample.scala\n",
            "spark-3.2.1-bin-hadoop3.2/examples/src/main/scala/org/apache/spark/examples/ml/DecisionTreeRegressionExample.scala\n",
            "spark-3.2.1-bin-hadoop3.2/examples/src/main/scala/org/apache/spark/examples/ml/DeveloperApiExample.scala\n",
            "spark-3.2.1-bin-hadoop3.2/examples/src/main/scala/org/apache/spark/examples/ml/ElementwiseProductExample.scala\n",
            "spark-3.2.1-bin-hadoop3.2/examples/src/main/scala/org/apache/spark/examples/ml/EstimatorTransformerParamExample.scala\n",
            "spark-3.2.1-bin-hadoop3.2/examples/src/main/scala/org/apache/spark/examples/ml/FMClassifierExample.scala\n",
            "spark-3.2.1-bin-hadoop3.2/examples/src/main/scala/org/apache/spark/examples/ml/FMRegressorExample.scala\n",
            "spark-3.2.1-bin-hadoop3.2/examples/src/main/scala/org/apache/spark/examples/ml/FPGrowthExample.scala\n",
            "spark-3.2.1-bin-hadoop3.2/examples/src/main/scala/org/apache/spark/examples/ml/FeatureHasherExample.scala\n",
            "spark-3.2.1-bin-hadoop3.2/examples/src/main/scala/org/apache/spark/examples/ml/GBTExample.scala\n",
            "spark-3.2.1-bin-hadoop3.2/examples/src/main/scala/org/apache/spark/examples/ml/GaussianMixtureExample.scala\n",
            "spark-3.2.1-bin-hadoop3.2/examples/src/main/scala/org/apache/spark/examples/ml/GeneralizedLinearRegressionExample.scala\n",
            "spark-3.2.1-bin-hadoop3.2/examples/src/main/scala/org/apache/spark/examples/ml/GradientBoostedTreeClassifierExample.scala\n",
            "spark-3.2.1-bin-hadoop3.2/examples/src/main/scala/org/apache/spark/examples/ml/GradientBoostedTreeRegressorExample.scala\n",
            "spark-3.2.1-bin-hadoop3.2/examples/src/main/scala/org/apache/spark/examples/ml/ImputerExample.scala\n",
            "spark-3.2.1-bin-hadoop3.2/examples/src/main/scala/org/apache/spark/examples/ml/IndexToStringExample.scala\n",
            "spark-3.2.1-bin-hadoop3.2/examples/src/main/scala/org/apache/spark/examples/ml/InteractionExample.scala\n",
            "spark-3.2.1-bin-hadoop3.2/examples/src/main/scala/org/apache/spark/examples/ml/IsotonicRegressionExample.scala\n",
            "spark-3.2.1-bin-hadoop3.2/examples/src/main/scala/org/apache/spark/examples/ml/KMeansExample.scala\n",
            "spark-3.2.1-bin-hadoop3.2/examples/src/main/scala/org/apache/spark/examples/ml/LDAExample.scala\n",
            "spark-3.2.1-bin-hadoop3.2/examples/src/main/scala/org/apache/spark/examples/ml/LinearRegressionExample.scala\n",
            "spark-3.2.1-bin-hadoop3.2/examples/src/main/scala/org/apache/spark/examples/ml/LinearRegressionWithElasticNetExample.scala\n",
            "spark-3.2.1-bin-hadoop3.2/examples/src/main/scala/org/apache/spark/examples/ml/LinearSVCExample.scala\n",
            "spark-3.2.1-bin-hadoop3.2/examples/src/main/scala/org/apache/spark/examples/ml/LogisticRegressionExample.scala\n",
            "spark-3.2.1-bin-hadoop3.2/examples/src/main/scala/org/apache/spark/examples/ml/LogisticRegressionSummaryExample.scala\n",
            "spark-3.2.1-bin-hadoop3.2/examples/src/main/scala/org/apache/spark/examples/ml/LogisticRegressionWithElasticNetExample.scala\n",
            "spark-3.2.1-bin-hadoop3.2/examples/src/main/scala/org/apache/spark/examples/ml/MaxAbsScalerExample.scala\n",
            "spark-3.2.1-bin-hadoop3.2/examples/src/main/scala/org/apache/spark/examples/ml/MinHashLSHExample.scala\n",
            "spark-3.2.1-bin-hadoop3.2/examples/src/main/scala/org/apache/spark/examples/ml/MinMaxScalerExample.scala\n",
            "spark-3.2.1-bin-hadoop3.2/examples/src/main/scala/org/apache/spark/examples/ml/ModelSelectionViaCrossValidationExample.scala\n",
            "spark-3.2.1-bin-hadoop3.2/examples/src/main/scala/org/apache/spark/examples/ml/ModelSelectionViaTrainValidationSplitExample.scala\n",
            "spark-3.2.1-bin-hadoop3.2/examples/src/main/scala/org/apache/spark/examples/ml/MulticlassLogisticRegressionWithElasticNetExample.scala\n",
            "spark-3.2.1-bin-hadoop3.2/examples/src/main/scala/org/apache/spark/examples/ml/MultilayerPerceptronClassifierExample.scala\n",
            "spark-3.2.1-bin-hadoop3.2/examples/src/main/scala/org/apache/spark/examples/ml/NGramExample.scala\n",
            "spark-3.2.1-bin-hadoop3.2/examples/src/main/scala/org/apache/spark/examples/ml/NaiveBayesExample.scala\n",
            "spark-3.2.1-bin-hadoop3.2/examples/src/main/scala/org/apache/spark/examples/ml/NormalizerExample.scala\n",
            "spark-3.2.1-bin-hadoop3.2/examples/src/main/scala/org/apache/spark/examples/ml/OneHotEncoderExample.scala\n",
            "spark-3.2.1-bin-hadoop3.2/examples/src/main/scala/org/apache/spark/examples/ml/OneVsRestExample.scala\n",
            "spark-3.2.1-bin-hadoop3.2/examples/src/main/scala/org/apache/spark/examples/ml/PCAExample.scala\n",
            "spark-3.2.1-bin-hadoop3.2/examples/src/main/scala/org/apache/spark/examples/ml/PipelineExample.scala\n",
            "spark-3.2.1-bin-hadoop3.2/examples/src/main/scala/org/apache/spark/examples/ml/PolynomialExpansionExample.scala\n",
            "spark-3.2.1-bin-hadoop3.2/examples/src/main/scala/org/apache/spark/examples/ml/PowerIterationClusteringExample.scala\n",
            "spark-3.2.1-bin-hadoop3.2/examples/src/main/scala/org/apache/spark/examples/ml/PrefixSpanExample.scala\n",
            "spark-3.2.1-bin-hadoop3.2/examples/src/main/scala/org/apache/spark/examples/ml/QuantileDiscretizerExample.scala\n",
            "spark-3.2.1-bin-hadoop3.2/examples/src/main/scala/org/apache/spark/examples/ml/RFormulaExample.scala\n",
            "spark-3.2.1-bin-hadoop3.2/examples/src/main/scala/org/apache/spark/examples/ml/RandomForestClassifierExample.scala\n",
            "spark-3.2.1-bin-hadoop3.2/examples/src/main/scala/org/apache/spark/examples/ml/RandomForestExample.scala\n",
            "spark-3.2.1-bin-hadoop3.2/examples/src/main/scala/org/apache/spark/examples/ml/RandomForestRegressorExample.scala\n",
            "spark-3.2.1-bin-hadoop3.2/examples/src/main/scala/org/apache/spark/examples/ml/RobustScalerExample.scala\n",
            "spark-3.2.1-bin-hadoop3.2/examples/src/main/scala/org/apache/spark/examples/ml/SQLTransformerExample.scala\n",
            "spark-3.2.1-bin-hadoop3.2/examples/src/main/scala/org/apache/spark/examples/ml/StandardScalerExample.scala\n",
            "spark-3.2.1-bin-hadoop3.2/examples/src/main/scala/org/apache/spark/examples/ml/StopWordsRemoverExample.scala\n",
            "spark-3.2.1-bin-hadoop3.2/examples/src/main/scala/org/apache/spark/examples/ml/StringIndexerExample.scala\n",
            "spark-3.2.1-bin-hadoop3.2/examples/src/main/scala/org/apache/spark/examples/ml/SummarizerExample.scala\n",
            "spark-3.2.1-bin-hadoop3.2/examples/src/main/scala/org/apache/spark/examples/ml/TfIdfExample.scala\n",
            "spark-3.2.1-bin-hadoop3.2/examples/src/main/scala/org/apache/spark/examples/ml/TokenizerExample.scala\n",
            "spark-3.2.1-bin-hadoop3.2/examples/src/main/scala/org/apache/spark/examples/ml/UnaryTransformerExample.scala\n",
            "spark-3.2.1-bin-hadoop3.2/examples/src/main/scala/org/apache/spark/examples/ml/UnivariateFeatureSelectorExample.scala\n",
            "spark-3.2.1-bin-hadoop3.2/examples/src/main/scala/org/apache/spark/examples/ml/VarianceThresholdSelectorExample.scala\n",
            "spark-3.2.1-bin-hadoop3.2/examples/src/main/scala/org/apache/spark/examples/ml/VectorAssemblerExample.scala\n",
            "spark-3.2.1-bin-hadoop3.2/examples/src/main/scala/org/apache/spark/examples/ml/VectorIndexerExample.scala\n",
            "spark-3.2.1-bin-hadoop3.2/examples/src/main/scala/org/apache/spark/examples/ml/VectorSizeHintExample.scala\n",
            "spark-3.2.1-bin-hadoop3.2/examples/src/main/scala/org/apache/spark/examples/ml/VectorSlicerExample.scala\n",
            "spark-3.2.1-bin-hadoop3.2/examples/src/main/scala/org/apache/spark/examples/ml/Word2VecExample.scala\n",
            "spark-3.2.1-bin-hadoop3.2/examples/src/main/scala/org/apache/spark/examples/mllib/\n",
            "spark-3.2.1-bin-hadoop3.2/examples/src/main/scala/org/apache/spark/examples/mllib/AbstractParams.scala\n",
            "spark-3.2.1-bin-hadoop3.2/examples/src/main/scala/org/apache/spark/examples/mllib/AssociationRulesExample.scala\n",
            "spark-3.2.1-bin-hadoop3.2/examples/src/main/scala/org/apache/spark/examples/mllib/BinaryClassification.scala\n",
            "spark-3.2.1-bin-hadoop3.2/examples/src/main/scala/org/apache/spark/examples/mllib/BinaryClassificationMetricsExample.scala\n",
            "spark-3.2.1-bin-hadoop3.2/examples/src/main/scala/org/apache/spark/examples/mllib/BisectingKMeansExample.scala\n",
            "spark-3.2.1-bin-hadoop3.2/examples/src/main/scala/org/apache/spark/examples/mllib/ChiSqSelectorExample.scala\n",
            "spark-3.2.1-bin-hadoop3.2/examples/src/main/scala/org/apache/spark/examples/mllib/Correlations.scala\n",
            "spark-3.2.1-bin-hadoop3.2/examples/src/main/scala/org/apache/spark/examples/mllib/CorrelationsExample.scala\n",
            "spark-3.2.1-bin-hadoop3.2/examples/src/main/scala/org/apache/spark/examples/mllib/CosineSimilarity.scala\n",
            "spark-3.2.1-bin-hadoop3.2/examples/src/main/scala/org/apache/spark/examples/mllib/DecisionTreeClassificationExample.scala\n",
            "spark-3.2.1-bin-hadoop3.2/examples/src/main/scala/org/apache/spark/examples/mllib/DecisionTreeRegressionExample.scala\n",
            "spark-3.2.1-bin-hadoop3.2/examples/src/main/scala/org/apache/spark/examples/mllib/DecisionTreeRunner.scala\n",
            "spark-3.2.1-bin-hadoop3.2/examples/src/main/scala/org/apache/spark/examples/mllib/DenseKMeans.scala\n",
            "spark-3.2.1-bin-hadoop3.2/examples/src/main/scala/org/apache/spark/examples/mllib/ElementwiseProductExample.scala\n",
            "spark-3.2.1-bin-hadoop3.2/examples/src/main/scala/org/apache/spark/examples/mllib/FPGrowthExample.scala\n",
            "spark-3.2.1-bin-hadoop3.2/examples/src/main/scala/org/apache/spark/examples/mllib/GaussianMixtureExample.scala\n",
            "spark-3.2.1-bin-hadoop3.2/examples/src/main/scala/org/apache/spark/examples/mllib/GradientBoostedTreesRunner.scala\n",
            "spark-3.2.1-bin-hadoop3.2/examples/src/main/scala/org/apache/spark/examples/mllib/GradientBoostingClassificationExample.scala\n",
            "spark-3.2.1-bin-hadoop3.2/examples/src/main/scala/org/apache/spark/examples/mllib/GradientBoostingRegressionExample.scala\n",
            "spark-3.2.1-bin-hadoop3.2/examples/src/main/scala/org/apache/spark/examples/mllib/HypothesisTestingExample.scala\n",
            "spark-3.2.1-bin-hadoop3.2/examples/src/main/scala/org/apache/spark/examples/mllib/HypothesisTestingKolmogorovSmirnovTestExample.scala\n",
            "spark-3.2.1-bin-hadoop3.2/examples/src/main/scala/org/apache/spark/examples/mllib/IsotonicRegressionExample.scala\n",
            "spark-3.2.1-bin-hadoop3.2/examples/src/main/scala/org/apache/spark/examples/mllib/KMeansExample.scala\n",
            "spark-3.2.1-bin-hadoop3.2/examples/src/main/scala/org/apache/spark/examples/mllib/KernelDensityEstimationExample.scala\n",
            "spark-3.2.1-bin-hadoop3.2/examples/src/main/scala/org/apache/spark/examples/mllib/LBFGSExample.scala\n",
            "spark-3.2.1-bin-hadoop3.2/examples/src/main/scala/org/apache/spark/examples/mllib/LDAExample.scala\n",
            "spark-3.2.1-bin-hadoop3.2/examples/src/main/scala/org/apache/spark/examples/mllib/LatentDirichletAllocationExample.scala\n",
            "spark-3.2.1-bin-hadoop3.2/examples/src/main/scala/org/apache/spark/examples/mllib/LogisticRegressionWithLBFGSExample.scala\n",
            "spark-3.2.1-bin-hadoop3.2/examples/src/main/scala/org/apache/spark/examples/mllib/MovieLensALS.scala\n",
            "spark-3.2.1-bin-hadoop3.2/examples/src/main/scala/org/apache/spark/examples/mllib/MultiLabelMetricsExample.scala\n",
            "spark-3.2.1-bin-hadoop3.2/examples/src/main/scala/org/apache/spark/examples/mllib/MulticlassMetricsExample.scala\n",
            "spark-3.2.1-bin-hadoop3.2/examples/src/main/scala/org/apache/spark/examples/mllib/MultivariateSummarizer.scala\n",
            "spark-3.2.1-bin-hadoop3.2/examples/src/main/scala/org/apache/spark/examples/mllib/NaiveBayesExample.scala\n",
            "spark-3.2.1-bin-hadoop3.2/examples/src/main/scala/org/apache/spark/examples/mllib/NormalizerExample.scala\n",
            "spark-3.2.1-bin-hadoop3.2/examples/src/main/scala/org/apache/spark/examples/mllib/PCAOnRowMatrixExample.scala\n",
            "spark-3.2.1-bin-hadoop3.2/examples/src/main/scala/org/apache/spark/examples/mllib/PCAOnSourceVectorExample.scala\n",
            "spark-3.2.1-bin-hadoop3.2/examples/src/main/scala/org/apache/spark/examples/mllib/PMMLModelExportExample.scala\n",
            "spark-3.2.1-bin-hadoop3.2/examples/src/main/scala/org/apache/spark/examples/mllib/PowerIterationClusteringExample.scala\n",
            "spark-3.2.1-bin-hadoop3.2/examples/src/main/scala/org/apache/spark/examples/mllib/PrefixSpanExample.scala\n",
            "spark-3.2.1-bin-hadoop3.2/examples/src/main/scala/org/apache/spark/examples/mllib/RandomForestClassificationExample.scala\n",
            "spark-3.2.1-bin-hadoop3.2/examples/src/main/scala/org/apache/spark/examples/mllib/RandomForestRegressionExample.scala\n",
            "spark-3.2.1-bin-hadoop3.2/examples/src/main/scala/org/apache/spark/examples/mllib/RandomRDDGeneration.scala\n",
            "spark-3.2.1-bin-hadoop3.2/examples/src/main/scala/org/apache/spark/examples/mllib/RankingMetricsExample.scala\n",
            "spark-3.2.1-bin-hadoop3.2/examples/src/main/scala/org/apache/spark/examples/mllib/RecommendationExample.scala\n",
            "spark-3.2.1-bin-hadoop3.2/examples/src/main/scala/org/apache/spark/examples/mllib/SVDExample.scala\n",
            "spark-3.2.1-bin-hadoop3.2/examples/src/main/scala/org/apache/spark/examples/mllib/SVMWithSGDExample.scala\n",
            "spark-3.2.1-bin-hadoop3.2/examples/src/main/scala/org/apache/spark/examples/mllib/SampledRDDs.scala\n",
            "spark-3.2.1-bin-hadoop3.2/examples/src/main/scala/org/apache/spark/examples/mllib/SimpleFPGrowth.scala\n",
            "spark-3.2.1-bin-hadoop3.2/examples/src/main/scala/org/apache/spark/examples/mllib/SparseNaiveBayes.scala\n",
            "spark-3.2.1-bin-hadoop3.2/examples/src/main/scala/org/apache/spark/examples/mllib/StandardScalerExample.scala\n",
            "spark-3.2.1-bin-hadoop3.2/examples/src/main/scala/org/apache/spark/examples/mllib/StratifiedSamplingExample.scala\n",
            "spark-3.2.1-bin-hadoop3.2/examples/src/main/scala/org/apache/spark/examples/mllib/StreamingKMeansExample.scala\n",
            "spark-3.2.1-bin-hadoop3.2/examples/src/main/scala/org/apache/spark/examples/mllib/StreamingLinearRegressionExample.scala\n",
            "spark-3.2.1-bin-hadoop3.2/examples/src/main/scala/org/apache/spark/examples/mllib/StreamingLogisticRegression.scala\n",
            "spark-3.2.1-bin-hadoop3.2/examples/src/main/scala/org/apache/spark/examples/mllib/StreamingTestExample.scala\n",
            "spark-3.2.1-bin-hadoop3.2/examples/src/main/scala/org/apache/spark/examples/mllib/SummaryStatisticsExample.scala\n",
            "spark-3.2.1-bin-hadoop3.2/examples/src/main/scala/org/apache/spark/examples/mllib/TFIDFExample.scala\n",
            "spark-3.2.1-bin-hadoop3.2/examples/src/main/scala/org/apache/spark/examples/mllib/TallSkinnyPCA.scala\n",
            "spark-3.2.1-bin-hadoop3.2/examples/src/main/scala/org/apache/spark/examples/mllib/TallSkinnySVD.scala\n",
            "spark-3.2.1-bin-hadoop3.2/examples/src/main/scala/org/apache/spark/examples/mllib/Word2VecExample.scala\n",
            "spark-3.2.1-bin-hadoop3.2/examples/src/main/scala/org/apache/spark/examples/pythonconverters/\n",
            "spark-3.2.1-bin-hadoop3.2/examples/src/main/scala/org/apache/spark/examples/pythonconverters/AvroConverters.scala\n",
            "spark-3.2.1-bin-hadoop3.2/examples/src/main/scala/org/apache/spark/examples/sql/\n",
            "spark-3.2.1-bin-hadoop3.2/examples/src/main/scala/org/apache/spark/examples/sql/RDDRelation.scala\n",
            "spark-3.2.1-bin-hadoop3.2/examples/src/main/scala/org/apache/spark/examples/sql/SQLDataSourceExample.scala\n",
            "spark-3.2.1-bin-hadoop3.2/examples/src/main/scala/org/apache/spark/examples/sql/SimpleTypedAggregator.scala\n",
            "spark-3.2.1-bin-hadoop3.2/examples/src/main/scala/org/apache/spark/examples/sql/SparkSQLExample.scala\n",
            "spark-3.2.1-bin-hadoop3.2/examples/src/main/scala/org/apache/spark/examples/sql/UserDefinedScalar.scala\n",
            "spark-3.2.1-bin-hadoop3.2/examples/src/main/scala/org/apache/spark/examples/sql/UserDefinedTypedAggregation.scala\n",
            "spark-3.2.1-bin-hadoop3.2/examples/src/main/scala/org/apache/spark/examples/sql/UserDefinedUntypedAggregation.scala\n",
            "spark-3.2.1-bin-hadoop3.2/examples/src/main/scala/org/apache/spark/examples/sql/hive/\n",
            "spark-3.2.1-bin-hadoop3.2/examples/src/main/scala/org/apache/spark/examples/sql/hive/SparkHiveExample.scala\n",
            "spark-3.2.1-bin-hadoop3.2/examples/src/main/scala/org/apache/spark/examples/sql/jdbc/\n",
            "spark-3.2.1-bin-hadoop3.2/examples/src/main/scala/org/apache/spark/examples/sql/jdbc/ExampleJdbcConnectionProvider.scala\n",
            "spark-3.2.1-bin-hadoop3.2/examples/src/main/scala/org/apache/spark/examples/sql/streaming/\n",
            "spark-3.2.1-bin-hadoop3.2/examples/src/main/scala/org/apache/spark/examples/sql/streaming/StructuredComplexSessionization.scala\n",
            "spark-3.2.1-bin-hadoop3.2/examples/src/main/scala/org/apache/spark/examples/sql/streaming/StructuredKafkaWordCount.scala\n",
            "spark-3.2.1-bin-hadoop3.2/examples/src/main/scala/org/apache/spark/examples/sql/streaming/StructuredKerberizedKafkaWordCount.scala\n",
            "spark-3.2.1-bin-hadoop3.2/examples/src/main/scala/org/apache/spark/examples/sql/streaming/StructuredNetworkWordCount.scala\n",
            "spark-3.2.1-bin-hadoop3.2/examples/src/main/scala/org/apache/spark/examples/sql/streaming/StructuredNetworkWordCountWindowed.scala\n",
            "spark-3.2.1-bin-hadoop3.2/examples/src/main/scala/org/apache/spark/examples/sql/streaming/StructuredSessionization.scala\n",
            "spark-3.2.1-bin-hadoop3.2/examples/src/main/scala/org/apache/spark/examples/streaming/\n",
            "spark-3.2.1-bin-hadoop3.2/examples/src/main/scala/org/apache/spark/examples/streaming/CustomReceiver.scala\n",
            "spark-3.2.1-bin-hadoop3.2/examples/src/main/scala/org/apache/spark/examples/streaming/DirectKafkaWordCount.scala\n",
            "spark-3.2.1-bin-hadoop3.2/examples/src/main/scala/org/apache/spark/examples/streaming/DirectKerberizedKafkaWordCount.scala\n",
            "spark-3.2.1-bin-hadoop3.2/examples/src/main/scala/org/apache/spark/examples/streaming/HdfsWordCount.scala\n",
            "spark-3.2.1-bin-hadoop3.2/examples/src/main/scala/org/apache/spark/examples/streaming/NetworkWordCount.scala\n",
            "spark-3.2.1-bin-hadoop3.2/examples/src/main/scala/org/apache/spark/examples/streaming/QueueStream.scala\n",
            "spark-3.2.1-bin-hadoop3.2/examples/src/main/scala/org/apache/spark/examples/streaming/RawNetworkGrep.scala\n",
            "spark-3.2.1-bin-hadoop3.2/examples/src/main/scala/org/apache/spark/examples/streaming/RecoverableNetworkWordCount.scala\n",
            "spark-3.2.1-bin-hadoop3.2/examples/src/main/scala/org/apache/spark/examples/streaming/SqlNetworkWordCount.scala\n",
            "spark-3.2.1-bin-hadoop3.2/examples/src/main/scala/org/apache/spark/examples/streaming/StatefulNetworkWordCount.scala\n",
            "spark-3.2.1-bin-hadoop3.2/examples/src/main/scala/org/apache/spark/examples/streaming/StreamingExamples.scala\n",
            "spark-3.2.1-bin-hadoop3.2/examples/src/main/scala/org/apache/spark/examples/streaming/clickstream/\n",
            "spark-3.2.1-bin-hadoop3.2/examples/src/main/scala/org/apache/spark/examples/streaming/clickstream/PageViewGenerator.scala\n",
            "spark-3.2.1-bin-hadoop3.2/examples/src/main/scala/org/apache/spark/examples/streaming/clickstream/PageViewStream.scala\n",
            "spark-3.2.1-bin-hadoop3.2/examples/src/main/scripts/\n",
            "spark-3.2.1-bin-hadoop3.2/examples/src/main/scripts/getGpusResources.sh\n",
            "spark-3.2.1-bin-hadoop3.2/jars/\n",
            "spark-3.2.1-bin-hadoop3.2/jars/HikariCP-2.5.1.jar\n",
            "spark-3.2.1-bin-hadoop3.2/jars/JLargeArrays-1.5.jar\n",
            "spark-3.2.1-bin-hadoop3.2/jars/JTransforms-3.1.jar\n",
            "spark-3.2.1-bin-hadoop3.2/jars/RoaringBitmap-0.9.0.jar\n",
            "spark-3.2.1-bin-hadoop3.2/jars/ST4-4.0.4.jar\n",
            "spark-3.2.1-bin-hadoop3.2/jars/activation-1.1.1.jar\n",
            "spark-3.2.1-bin-hadoop3.2/jars/aircompressor-0.21.jar\n",
            "spark-3.2.1-bin-hadoop3.2/jars/algebra_2.12-2.0.1.jar\n",
            "spark-3.2.1-bin-hadoop3.2/jars/annotations-17.0.0.jar\n",
            "spark-3.2.1-bin-hadoop3.2/jars/antlr-runtime-3.5.2.jar\n",
            "spark-3.2.1-bin-hadoop3.2/jars/antlr4-runtime-4.8.jar\n",
            "spark-3.2.1-bin-hadoop3.2/jars/aopalliance-repackaged-2.6.1.jar\n",
            "spark-3.2.1-bin-hadoop3.2/jars/arpack-2.2.1.jar\n",
            "spark-3.2.1-bin-hadoop3.2/jars/arpack_combined_all-0.1.jar\n",
            "spark-3.2.1-bin-hadoop3.2/jars/arrow-format-2.0.0.jar\n",
            "spark-3.2.1-bin-hadoop3.2/jars/arrow-memory-core-2.0.0.jar\n",
            "spark-3.2.1-bin-hadoop3.2/jars/arrow-memory-netty-2.0.0.jar\n",
            "spark-3.2.1-bin-hadoop3.2/jars/arrow-vector-2.0.0.jar\n",
            "spark-3.2.1-bin-hadoop3.2/jars/audience-annotations-0.5.0.jar\n",
            "spark-3.2.1-bin-hadoop3.2/jars/automaton-1.11-8.jar\n",
            "spark-3.2.1-bin-hadoop3.2/jars/avro-1.10.2.jar\n",
            "spark-3.2.1-bin-hadoop3.2/jars/avro-ipc-1.10.2.jar\n",
            "spark-3.2.1-bin-hadoop3.2/jars/avro-mapred-1.10.2.jar\n",
            "spark-3.2.1-bin-hadoop3.2/jars/blas-2.2.1.jar\n",
            "spark-3.2.1-bin-hadoop3.2/jars/bonecp-0.8.0.RELEASE.jar\n",
            "spark-3.2.1-bin-hadoop3.2/jars/breeze-macros_2.12-1.2.jar\n",
            "spark-3.2.1-bin-hadoop3.2/jars/breeze_2.12-1.2.jar\n",
            "spark-3.2.1-bin-hadoop3.2/jars/cats-kernel_2.12-2.1.1.jar\n",
            "spark-3.2.1-bin-hadoop3.2/jars/chill-java-0.10.0.jar\n",
            "spark-3.2.1-bin-hadoop3.2/jars/chill_2.12-0.10.0.jar\n",
            "spark-3.2.1-bin-hadoop3.2/jars/commons-cli-1.2.jar\n",
            "spark-3.2.1-bin-hadoop3.2/jars/commons-codec-1.15.jar\n",
            "spark-3.2.1-bin-hadoop3.2/jars/commons-collections-3.2.2.jar\n",
            "spark-3.2.1-bin-hadoop3.2/jars/commons-compiler-3.0.16.jar\n",
            "spark-3.2.1-bin-hadoop3.2/jars/commons-compress-1.21.jar\n",
            "spark-3.2.1-bin-hadoop3.2/jars/commons-crypto-1.1.0.jar\n",
            "spark-3.2.1-bin-hadoop3.2/jars/commons-dbcp-1.4.jar\n",
            "spark-3.2.1-bin-hadoop3.2/jars/commons-io-2.8.0.jar\n",
            "spark-3.2.1-bin-hadoop3.2/jars/commons-lang-2.6.jar\n",
            "spark-3.2.1-bin-hadoop3.2/jars/commons-lang3-3.12.0.jar\n",
            "spark-3.2.1-bin-hadoop3.2/jars/commons-logging-1.1.3.jar\n",
            "spark-3.2.1-bin-hadoop3.2/jars/commons-math3-3.4.1.jar\n",
            "spark-3.2.1-bin-hadoop3.2/jars/commons-net-3.1.jar\n",
            "spark-3.2.1-bin-hadoop3.2/jars/commons-pool-1.5.4.jar\n",
            "spark-3.2.1-bin-hadoop3.2/jars/commons-text-1.6.jar\n",
            "spark-3.2.1-bin-hadoop3.2/jars/compress-lzf-1.0.3.jar\n",
            "spark-3.2.1-bin-hadoop3.2/jars/core-1.1.2.jar\n",
            "spark-3.2.1-bin-hadoop3.2/jars/curator-client-2.13.0.jar\n",
            "spark-3.2.1-bin-hadoop3.2/jars/curator-framework-2.13.0.jar\n",
            "spark-3.2.1-bin-hadoop3.2/jars/curator-recipes-2.13.0.jar\n",
            "spark-3.2.1-bin-hadoop3.2/jars/datanucleus-api-jdo-4.2.4.jar\n",
            "spark-3.2.1-bin-hadoop3.2/jars/datanucleus-core-4.1.17.jar\n",
            "spark-3.2.1-bin-hadoop3.2/jars/datanucleus-rdbms-4.1.19.jar\n",
            "spark-3.2.1-bin-hadoop3.2/jars/derby-10.14.2.0.jar\n",
            "spark-3.2.1-bin-hadoop3.2/jars/dropwizard-metrics-hadoop-metrics2-reporter-0.1.2.jar\n",
            "spark-3.2.1-bin-hadoop3.2/jars/flatbuffers-java-1.9.0.jar\n",
            "spark-3.2.1-bin-hadoop3.2/jars/generex-1.0.2.jar\n",
            "spark-3.2.1-bin-hadoop3.2/jars/gson-2.2.4.jar\n",
            "spark-3.2.1-bin-hadoop3.2/jars/guava-14.0.1.jar\n",
            "spark-3.2.1-bin-hadoop3.2/jars/hadoop-client-api-3.3.1.jar\n",
            "spark-3.2.1-bin-hadoop3.2/jars/hadoop-client-runtime-3.3.1.jar\n",
            "spark-3.2.1-bin-hadoop3.2/jars/hadoop-shaded-guava-1.1.1.jar\n",
            "spark-3.2.1-bin-hadoop3.2/jars/hadoop-yarn-server-web-proxy-3.3.1.jar\n",
            "spark-3.2.1-bin-hadoop3.2/jars/hive-beeline-2.3.9.jar\n",
            "spark-3.2.1-bin-hadoop3.2/jars/hive-cli-2.3.9.jar\n",
            "spark-3.2.1-bin-hadoop3.2/jars/hive-common-2.3.9.jar\n",
            "spark-3.2.1-bin-hadoop3.2/jars/hive-exec-2.3.9-core.jar\n",
            "spark-3.2.1-bin-hadoop3.2/jars/hive-jdbc-2.3.9.jar\n",
            "spark-3.2.1-bin-hadoop3.2/jars/hive-llap-common-2.3.9.jar\n",
            "spark-3.2.1-bin-hadoop3.2/jars/hive-metastore-2.3.9.jar\n",
            "spark-3.2.1-bin-hadoop3.2/jars/hive-serde-2.3.9.jar\n",
            "spark-3.2.1-bin-hadoop3.2/jars/hive-service-rpc-3.1.2.jar\n",
            "spark-3.2.1-bin-hadoop3.2/jars/hive-shims-0.23-2.3.9.jar\n",
            "spark-3.2.1-bin-hadoop3.2/jars/hive-shims-2.3.9.jar\n",
            "spark-3.2.1-bin-hadoop3.2/jars/hive-shims-common-2.3.9.jar\n",
            "spark-3.2.1-bin-hadoop3.2/jars/hive-shims-scheduler-2.3.9.jar\n",
            "spark-3.2.1-bin-hadoop3.2/jars/hive-storage-api-2.7.2.jar\n",
            "spark-3.2.1-bin-hadoop3.2/jars/hive-vector-code-gen-2.3.9.jar\n",
            "spark-3.2.1-bin-hadoop3.2/jars/hk2-api-2.6.1.jar\n",
            "spark-3.2.1-bin-hadoop3.2/jars/hk2-locator-2.6.1.jar\n",
            "spark-3.2.1-bin-hadoop3.2/jars/hk2-utils-2.6.1.jar\n",
            "spark-3.2.1-bin-hadoop3.2/jars/htrace-core4-4.1.0-incubating.jar\n",
            "spark-3.2.1-bin-hadoop3.2/jars/httpclient-4.5.13.jar\n",
            "spark-3.2.1-bin-hadoop3.2/jars/httpcore-4.4.14.jar\n",
            "spark-3.2.1-bin-hadoop3.2/jars/istack-commons-runtime-3.0.8.jar\n",
            "spark-3.2.1-bin-hadoop3.2/jars/ivy-2.5.0.jar\n",
            "spark-3.2.1-bin-hadoop3.2/jars/jackson-annotations-2.12.3.jar\n",
            "spark-3.2.1-bin-hadoop3.2/jars/jackson-core-2.12.3.jar\n",
            "spark-3.2.1-bin-hadoop3.2/jars/jackson-core-asl-1.9.13.jar\n",
            "spark-3.2.1-bin-hadoop3.2/jars/jackson-databind-2.12.3.jar\n",
            "spark-3.2.1-bin-hadoop3.2/jars/jackson-dataformat-yaml-2.12.3.jar\n",
            "spark-3.2.1-bin-hadoop3.2/jars/jackson-datatype-jsr310-2.11.2.jar\n",
            "spark-3.2.1-bin-hadoop3.2/jars/jackson-mapper-asl-1.9.13.jar\n",
            "spark-3.2.1-bin-hadoop3.2/jars/jackson-module-scala_2.12-2.12.3.jar\n",
            "spark-3.2.1-bin-hadoop3.2/jars/jakarta.annotation-api-1.3.5.jar\n",
            "spark-3.2.1-bin-hadoop3.2/jars/jakarta.inject-2.6.1.jar\n",
            "spark-3.2.1-bin-hadoop3.2/jars/jakarta.servlet-api-4.0.3.jar\n",
            "spark-3.2.1-bin-hadoop3.2/jars/jakarta.validation-api-2.0.2.jar\n",
            "spark-3.2.1-bin-hadoop3.2/jars/jakarta.ws.rs-api-2.1.6.jar\n",
            "spark-3.2.1-bin-hadoop3.2/jars/jakarta.xml.bind-api-2.3.2.jar\n",
            "spark-3.2.1-bin-hadoop3.2/jars/janino-3.0.16.jar\n",
            "spark-3.2.1-bin-hadoop3.2/jars/javassist-3.25.0-GA.jar\n",
            "spark-3.2.1-bin-hadoop3.2/jars/javax.jdo-3.2.0-m3.jar\n",
            "spark-3.2.1-bin-hadoop3.2/jars/javolution-5.5.1.jar\n",
            "spark-3.2.1-bin-hadoop3.2/jars/jaxb-api-2.2.11.jar\n",
            "spark-3.2.1-bin-hadoop3.2/jars/jaxb-runtime-2.3.2.jar\n",
            "spark-3.2.1-bin-hadoop3.2/jars/jcl-over-slf4j-1.7.30.jar\n",
            "spark-3.2.1-bin-hadoop3.2/jars/jdo-api-3.0.1.jar\n",
            "spark-3.2.1-bin-hadoop3.2/jars/jersey-client-2.34.jar\n",
            "spark-3.2.1-bin-hadoop3.2/jars/jersey-common-2.34.jar\n",
            "spark-3.2.1-bin-hadoop3.2/jars/jersey-container-servlet-2.34.jar\n",
            "spark-3.2.1-bin-hadoop3.2/jars/jersey-container-servlet-core-2.34.jar\n",
            "spark-3.2.1-bin-hadoop3.2/jars/jersey-hk2-2.34.jar\n",
            "spark-3.2.1-bin-hadoop3.2/jars/jersey-server-2.34.jar\n",
            "spark-3.2.1-bin-hadoop3.2/jars/jline-2.14.6.jar\n",
            "spark-3.2.1-bin-hadoop3.2/jars/joda-time-2.10.10.jar\n",
            "spark-3.2.1-bin-hadoop3.2/jars/jodd-core-3.5.2.jar\n",
            "spark-3.2.1-bin-hadoop3.2/jars/jpam-1.1.jar\n",
            "spark-3.2.1-bin-hadoop3.2/jars/json-1.8.jar\n",
            "spark-3.2.1-bin-hadoop3.2/jars/json4s-ast_2.12-3.7.0-M11.jar\n",
            "spark-3.2.1-bin-hadoop3.2/jars/json4s-core_2.12-3.7.0-M11.jar\n",
            "spark-3.2.1-bin-hadoop3.2/jars/json4s-jackson_2.12-3.7.0-M11.jar\n",
            "spark-3.2.1-bin-hadoop3.2/jars/json4s-scalap_2.12-3.7.0-M11.jar\n",
            "spark-3.2.1-bin-hadoop3.2/jars/jsr305-3.0.0.jar\n",
            "spark-3.2.1-bin-hadoop3.2/jars/jta-1.1.jar\n",
            "spark-3.2.1-bin-hadoop3.2/jars/jul-to-slf4j-1.7.30.jar\n",
            "spark-3.2.1-bin-hadoop3.2/jars/kryo-shaded-4.0.2.jar\n",
            "spark-3.2.1-bin-hadoop3.2/jars/kubernetes-client-5.4.1.jar\n",
            "spark-3.2.1-bin-hadoop3.2/jars/kubernetes-model-admissionregistration-5.4.1.jar\n",
            "spark-3.2.1-bin-hadoop3.2/jars/kubernetes-model-apiextensions-5.4.1.jar\n",
            "spark-3.2.1-bin-hadoop3.2/jars/kubernetes-model-apps-5.4.1.jar\n",
            "spark-3.2.1-bin-hadoop3.2/jars/kubernetes-model-autoscaling-5.4.1.jar\n",
            "spark-3.2.1-bin-hadoop3.2/jars/kubernetes-model-batch-5.4.1.jar\n",
            "spark-3.2.1-bin-hadoop3.2/jars/kubernetes-model-certificates-5.4.1.jar\n",
            "spark-3.2.1-bin-hadoop3.2/jars/kubernetes-model-common-5.4.1.jar\n",
            "spark-3.2.1-bin-hadoop3.2/jars/kubernetes-model-coordination-5.4.1.jar\n",
            "spark-3.2.1-bin-hadoop3.2/jars/kubernetes-model-core-5.4.1.jar\n",
            "spark-3.2.1-bin-hadoop3.2/jars/kubernetes-model-discovery-5.4.1.jar\n",
            "spark-3.2.1-bin-hadoop3.2/jars/kubernetes-model-events-5.4.1.jar\n",
            "spark-3.2.1-bin-hadoop3.2/jars/kubernetes-model-extensions-5.4.1.jar\n",
            "spark-3.2.1-bin-hadoop3.2/jars/kubernetes-model-flowcontrol-5.4.1.jar\n",
            "spark-3.2.1-bin-hadoop3.2/jars/kubernetes-model-metrics-5.4.1.jar\n",
            "spark-3.2.1-bin-hadoop3.2/jars/kubernetes-model-networking-5.4.1.jar\n",
            "spark-3.2.1-bin-hadoop3.2/jars/kubernetes-model-node-5.4.1.jar\n",
            "spark-3.2.1-bin-hadoop3.2/jars/kubernetes-model-policy-5.4.1.jar\n",
            "spark-3.2.1-bin-hadoop3.2/jars/kubernetes-model-rbac-5.4.1.jar\n",
            "spark-3.2.1-bin-hadoop3.2/jars/kubernetes-model-scheduling-5.4.1.jar\n",
            "spark-3.2.1-bin-hadoop3.2/jars/kubernetes-model-storageclass-5.4.1.jar\n",
            "spark-3.2.1-bin-hadoop3.2/jars/lapack-2.2.1.jar\n",
            "spark-3.2.1-bin-hadoop3.2/jars/leveldbjni-all-1.8.jar\n",
            "spark-3.2.1-bin-hadoop3.2/jars/libfb303-0.9.3.jar\n",
            "spark-3.2.1-bin-hadoop3.2/jars/libthrift-0.12.0.jar\n",
            "spark-3.2.1-bin-hadoop3.2/jars/log4j-1.2.17.jar\n",
            "spark-3.2.1-bin-hadoop3.2/jars/logging-interceptor-3.12.12.jar\n",
            "spark-3.2.1-bin-hadoop3.2/jars/lz4-java-1.7.1.jar\n",
            "spark-3.2.1-bin-hadoop3.2/jars/macro-compat_2.12-1.1.1.jar\n",
            "spark-3.2.1-bin-hadoop3.2/jars/mesos-1.4.0-shaded-protobuf.jar\n",
            "spark-3.2.1-bin-hadoop3.2/jars/metrics-core-4.2.0.jar\n",
            "spark-3.2.1-bin-hadoop3.2/jars/metrics-graphite-4.2.0.jar\n",
            "spark-3.2.1-bin-hadoop3.2/jars/metrics-jmx-4.2.0.jar\n",
            "spark-3.2.1-bin-hadoop3.2/jars/metrics-json-4.2.0.jar\n",
            "spark-3.2.1-bin-hadoop3.2/jars/metrics-jvm-4.2.0.jar\n",
            "spark-3.2.1-bin-hadoop3.2/jars/minlog-1.3.0.jar\n",
            "spark-3.2.1-bin-hadoop3.2/jars/netty-all-4.1.68.Final.jar\n",
            "spark-3.2.1-bin-hadoop3.2/jars/objenesis-2.6.jar\n",
            "spark-3.2.1-bin-hadoop3.2/jars/okhttp-3.12.12.jar\n",
            "spark-3.2.1-bin-hadoop3.2/jars/okio-1.14.0.jar\n",
            "spark-3.2.1-bin-hadoop3.2/jars/opencsv-2.3.jar\n",
            "spark-3.2.1-bin-hadoop3.2/jars/orc-core-1.6.12.jar\n",
            "spark-3.2.1-bin-hadoop3.2/jars/orc-mapreduce-1.6.12.jar\n",
            "spark-3.2.1-bin-hadoop3.2/jars/orc-shims-1.6.12.jar\n",
            "spark-3.2.1-bin-hadoop3.2/jars/oro-2.0.8.jar\n",
            "spark-3.2.1-bin-hadoop3.2/jars/osgi-resource-locator-1.0.3.jar\n",
            "spark-3.2.1-bin-hadoop3.2/jars/paranamer-2.8.jar\n",
            "spark-3.2.1-bin-hadoop3.2/jars/parquet-column-1.12.2.jar\n",
            "spark-3.2.1-bin-hadoop3.2/jars/parquet-common-1.12.2.jar\n",
            "spark-3.2.1-bin-hadoop3.2/jars/parquet-encoding-1.12.2.jar\n",
            "spark-3.2.1-bin-hadoop3.2/jars/parquet-format-structures-1.12.2.jar\n",
            "spark-3.2.1-bin-hadoop3.2/jars/parquet-hadoop-1.12.2.jar\n",
            "spark-3.2.1-bin-hadoop3.2/jars/parquet-jackson-1.12.2.jar\n",
            "spark-3.2.1-bin-hadoop3.2/jars/protobuf-java-2.5.0.jar\n",
            "spark-3.2.1-bin-hadoop3.2/jars/py4j-0.10.9.3.jar\n",
            "spark-3.2.1-bin-hadoop3.2/jars/pyrolite-4.30.jar\n",
            "spark-3.2.1-bin-hadoop3.2/jars/rocksdbjni-6.20.3.jar\n",
            "spark-3.2.1-bin-hadoop3.2/jars/scala-collection-compat_2.12-2.1.1.jar\n",
            "spark-3.2.1-bin-hadoop3.2/jars/scala-compiler-2.12.15.jar\n",
            "spark-3.2.1-bin-hadoop3.2/jars/scala-library-2.12.15.jar\n",
            "spark-3.2.1-bin-hadoop3.2/jars/scala-parser-combinators_2.12-1.1.2.jar\n",
            "spark-3.2.1-bin-hadoop3.2/jars/scala-reflect-2.12.15.jar\n",
            "spark-3.2.1-bin-hadoop3.2/jars/scala-xml_2.12-1.2.0.jar\n",
            "spark-3.2.1-bin-hadoop3.2/jars/shapeless_2.12-2.3.3.jar\n",
            "spark-3.2.1-bin-hadoop3.2/jars/shims-0.9.0.jar\n",
            "spark-3.2.1-bin-hadoop3.2/jars/slf4j-api-1.7.30.jar\n",
            "spark-3.2.1-bin-hadoop3.2/jars/slf4j-log4j12-1.7.30.jar\n",
            "spark-3.2.1-bin-hadoop3.2/jars/snakeyaml-1.27.jar\n",
            "spark-3.2.1-bin-hadoop3.2/jars/snappy-java-1.1.8.4.jar\n",
            "spark-3.2.1-bin-hadoop3.2/jars/spark-catalyst_2.12-3.2.1.jar\n",
            "spark-3.2.1-bin-hadoop3.2/jars/spark-core_2.12-3.2.1.jar\n",
            "spark-3.2.1-bin-hadoop3.2/jars/spark-graphx_2.12-3.2.1.jar\n",
            "spark-3.2.1-bin-hadoop3.2/jars/spark-hive-thriftserver_2.12-3.2.1.jar\n",
            "spark-3.2.1-bin-hadoop3.2/jars/spark-hive_2.12-3.2.1.jar\n",
            "spark-3.2.1-bin-hadoop3.2/jars/spark-kubernetes_2.12-3.2.1.jar\n",
            "spark-3.2.1-bin-hadoop3.2/jars/spark-kvstore_2.12-3.2.1.jar\n",
            "spark-3.2.1-bin-hadoop3.2/jars/spark-launcher_2.12-3.2.1.jar\n",
            "spark-3.2.1-bin-hadoop3.2/jars/spark-mesos_2.12-3.2.1.jar\n",
            "spark-3.2.1-bin-hadoop3.2/jars/spark-mllib-local_2.12-3.2.1.jar\n",
            "spark-3.2.1-bin-hadoop3.2/jars/spark-mllib_2.12-3.2.1.jar\n",
            "spark-3.2.1-bin-hadoop3.2/jars/spark-network-common_2.12-3.2.1.jar\n",
            "spark-3.2.1-bin-hadoop3.2/jars/spark-network-shuffle_2.12-3.2.1.jar\n",
            "spark-3.2.1-bin-hadoop3.2/jars/spark-repl_2.12-3.2.1.jar\n",
            "spark-3.2.1-bin-hadoop3.2/jars/spark-sketch_2.12-3.2.1.jar\n",
            "spark-3.2.1-bin-hadoop3.2/jars/spark-sql_2.12-3.2.1.jar\n",
            "spark-3.2.1-bin-hadoop3.2/jars/spark-streaming_2.12-3.2.1.jar\n",
            "spark-3.2.1-bin-hadoop3.2/jars/spark-tags_2.12-3.2.1-tests.jar\n",
            "spark-3.2.1-bin-hadoop3.2/jars/spark-tags_2.12-3.2.1.jar\n",
            "spark-3.2.1-bin-hadoop3.2/jars/spark-unsafe_2.12-3.2.1.jar\n",
            "spark-3.2.1-bin-hadoop3.2/jars/spark-yarn_2.12-3.2.1.jar\n",
            "spark-3.2.1-bin-hadoop3.2/jars/spire-macros_2.12-0.17.0.jar\n",
            "spark-3.2.1-bin-hadoop3.2/jars/spire-platform_2.12-0.17.0.jar\n",
            "spark-3.2.1-bin-hadoop3.2/jars/spire-util_2.12-0.17.0.jar\n",
            "spark-3.2.1-bin-hadoop3.2/jars/spire_2.12-0.17.0.jar\n",
            "spark-3.2.1-bin-hadoop3.2/jars/stax-api-1.0.1.jar\n",
            "spark-3.2.1-bin-hadoop3.2/jars/stream-2.9.6.jar\n",
            "spark-3.2.1-bin-hadoop3.2/jars/super-csv-2.2.0.jar\n",
            "spark-3.2.1-bin-hadoop3.2/jars/threeten-extra-1.5.0.jar\n",
            "spark-3.2.1-bin-hadoop3.2/jars/tink-1.6.0.jar\n",
            "spark-3.2.1-bin-hadoop3.2/jars/transaction-api-1.1.jar\n",
            "spark-3.2.1-bin-hadoop3.2/jars/univocity-parsers-2.9.1.jar\n",
            "spark-3.2.1-bin-hadoop3.2/jars/velocity-1.5.jar\n",
            "spark-3.2.1-bin-hadoop3.2/jars/xbean-asm9-shaded-4.20.jar\n",
            "spark-3.2.1-bin-hadoop3.2/jars/xz-1.8.jar\n",
            "spark-3.2.1-bin-hadoop3.2/jars/zjsonpatch-0.3.0.jar\n",
            "spark-3.2.1-bin-hadoop3.2/jars/zookeeper-3.6.2.jar\n",
            "spark-3.2.1-bin-hadoop3.2/jars/zookeeper-jute-3.6.2.jar\n",
            "spark-3.2.1-bin-hadoop3.2/jars/zstd-jni-1.5.0-4.jar\n",
            "spark-3.2.1-bin-hadoop3.2/kubernetes/\n",
            "spark-3.2.1-bin-hadoop3.2/kubernetes/dockerfiles/\n",
            "spark-3.2.1-bin-hadoop3.2/kubernetes/dockerfiles/spark/\n",
            "spark-3.2.1-bin-hadoop3.2/kubernetes/dockerfiles/spark/Dockerfile\n",
            "spark-3.2.1-bin-hadoop3.2/kubernetes/dockerfiles/spark/bindings/\n",
            "spark-3.2.1-bin-hadoop3.2/kubernetes/dockerfiles/spark/bindings/R/\n",
            "spark-3.2.1-bin-hadoop3.2/kubernetes/dockerfiles/spark/bindings/R/Dockerfile\n",
            "spark-3.2.1-bin-hadoop3.2/kubernetes/dockerfiles/spark/bindings/python/\n",
            "spark-3.2.1-bin-hadoop3.2/kubernetes/dockerfiles/spark/bindings/python/Dockerfile\n",
            "spark-3.2.1-bin-hadoop3.2/kubernetes/dockerfiles/spark/decom.sh\n",
            "spark-3.2.1-bin-hadoop3.2/kubernetes/dockerfiles/spark/entrypoint.sh\n",
            "spark-3.2.1-bin-hadoop3.2/kubernetes/tests/\n",
            "spark-3.2.1-bin-hadoop3.2/kubernetes/tests/autoscale.py\n",
            "spark-3.2.1-bin-hadoop3.2/kubernetes/tests/decommissioning.py\n",
            "spark-3.2.1-bin-hadoop3.2/kubernetes/tests/decommissioning_cleanup.py\n",
            "spark-3.2.1-bin-hadoop3.2/kubernetes/tests/py_container_checks.py\n",
            "spark-3.2.1-bin-hadoop3.2/kubernetes/tests/pyfiles.py\n",
            "spark-3.2.1-bin-hadoop3.2/kubernetes/tests/python_executable_check.py\n",
            "spark-3.2.1-bin-hadoop3.2/kubernetes/tests/worker_memory_check.py\n",
            "spark-3.2.1-bin-hadoop3.2/licenses/\n",
            "spark-3.2.1-bin-hadoop3.2/licenses/LICENSE-AnchorJS.txt\n",
            "spark-3.2.1-bin-hadoop3.2/licenses/LICENSE-CC0.txt\n",
            "spark-3.2.1-bin-hadoop3.2/licenses/LICENSE-JLargeArrays.txt\n",
            "spark-3.2.1-bin-hadoop3.2/licenses/LICENSE-JTransforms.txt\n",
            "spark-3.2.1-bin-hadoop3.2/licenses/LICENSE-antlr.txt\n",
            "spark-3.2.1-bin-hadoop3.2/licenses/LICENSE-arpack.txt\n",
            "spark-3.2.1-bin-hadoop3.2/licenses/LICENSE-automaton.txt\n",
            "spark-3.2.1-bin-hadoop3.2/licenses/LICENSE-blas.txt\n",
            "spark-3.2.1-bin-hadoop3.2/licenses/LICENSE-bootstrap.txt\n",
            "spark-3.2.1-bin-hadoop3.2/licenses/LICENSE-cloudpickle.txt\n",
            "spark-3.2.1-bin-hadoop3.2/licenses/LICENSE-d3.min.js.txt\n",
            "spark-3.2.1-bin-hadoop3.2/licenses/LICENSE-dagre-d3.txt\n",
            "spark-3.2.1-bin-hadoop3.2/licenses/LICENSE-datatables.txt\n",
            "spark-3.2.1-bin-hadoop3.2/licenses/LICENSE-dnsjava.txt\n",
            "spark-3.2.1-bin-hadoop3.2/licenses/LICENSE-f2j.txt\n",
            "spark-3.2.1-bin-hadoop3.2/licenses/LICENSE-graphlib-dot.txt\n",
            "spark-3.2.1-bin-hadoop3.2/licenses/LICENSE-istack-commons-runtime.txt\n",
            "spark-3.2.1-bin-hadoop3.2/licenses/LICENSE-jakarta-annotation-api\n",
            "spark-3.2.1-bin-hadoop3.2/licenses/LICENSE-jakarta-ws-rs-api\n",
            "spark-3.2.1-bin-hadoop3.2/licenses/LICENSE-jakarta.activation-api.txt\n",
            "spark-3.2.1-bin-hadoop3.2/licenses/LICENSE-jakarta.xml.bind-api.txt\n",
            "spark-3.2.1-bin-hadoop3.2/licenses/LICENSE-janino.txt\n",
            "spark-3.2.1-bin-hadoop3.2/licenses/LICENSE-javassist.html\n",
            "spark-3.2.1-bin-hadoop3.2/licenses/LICENSE-javax-transaction-transaction-api.txt\n",
            "spark-3.2.1-bin-hadoop3.2/licenses/LICENSE-javolution.txt\n",
            "spark-3.2.1-bin-hadoop3.2/licenses/LICENSE-jaxb-runtime.txt\n",
            "spark-3.2.1-bin-hadoop3.2/licenses/LICENSE-jline.txt\n",
            "spark-3.2.1-bin-hadoop3.2/licenses/LICENSE-jodd.txt\n",
            "spark-3.2.1-bin-hadoop3.2/licenses/LICENSE-join.txt\n",
            "spark-3.2.1-bin-hadoop3.2/licenses/LICENSE-jquery.txt\n",
            "spark-3.2.1-bin-hadoop3.2/licenses/LICENSE-json-formatter.txt\n",
            "spark-3.2.1-bin-hadoop3.2/licenses/LICENSE-jsp-api.txt\n",
            "spark-3.2.1-bin-hadoop3.2/licenses/LICENSE-kryo.txt\n",
            "spark-3.2.1-bin-hadoop3.2/licenses/LICENSE-leveldbjni.txt\n",
            "spark-3.2.1-bin-hadoop3.2/licenses/LICENSE-machinist.txt\n",
            "spark-3.2.1-bin-hadoop3.2/licenses/LICENSE-matchMedia-polyfill.txt\n",
            "spark-3.2.1-bin-hadoop3.2/licenses/LICENSE-minlog.txt\n",
            "spark-3.2.1-bin-hadoop3.2/licenses/LICENSE-modernizr.txt\n",
            "spark-3.2.1-bin-hadoop3.2/licenses/LICENSE-mustache.txt\n",
            "spark-3.2.1-bin-hadoop3.2/licenses/LICENSE-netlib.txt\n",
            "spark-3.2.1-bin-hadoop3.2/licenses/LICENSE-paranamer.txt\n",
            "spark-3.2.1-bin-hadoop3.2/licenses/LICENSE-pmml-model.txt\n",
            "spark-3.2.1-bin-hadoop3.2/licenses/LICENSE-protobuf.txt\n",
            "spark-3.2.1-bin-hadoop3.2/licenses/LICENSE-py4j.txt\n",
            "spark-3.2.1-bin-hadoop3.2/licenses/LICENSE-pyrolite.txt\n",
            "spark-3.2.1-bin-hadoop3.2/licenses/LICENSE-re2j.txt\n",
            "spark-3.2.1-bin-hadoop3.2/licenses/LICENSE-reflectasm.txt\n",
            "spark-3.2.1-bin-hadoop3.2/licenses/LICENSE-respond.txt\n",
            "spark-3.2.1-bin-hadoop3.2/licenses/LICENSE-sbt-launch-lib.txt\n",
            "spark-3.2.1-bin-hadoop3.2/licenses/LICENSE-scala.txt\n",
            "spark-3.2.1-bin-hadoop3.2/licenses/LICENSE-scopt.txt\n",
            "spark-3.2.1-bin-hadoop3.2/licenses/LICENSE-slf4j.txt\n",
            "spark-3.2.1-bin-hadoop3.2/licenses/LICENSE-sorttable.js.txt\n",
            "spark-3.2.1-bin-hadoop3.2/licenses/LICENSE-spire.txt\n",
            "spark-3.2.1-bin-hadoop3.2/licenses/LICENSE-vis-timeline.txt\n",
            "spark-3.2.1-bin-hadoop3.2/licenses/LICENSE-xmlenc.txt\n",
            "spark-3.2.1-bin-hadoop3.2/licenses/LICENSE-zstd-jni.txt\n",
            "spark-3.2.1-bin-hadoop3.2/licenses/LICENSE-zstd.txt\n",
            "spark-3.2.1-bin-hadoop3.2/python/\n",
            "spark-3.2.1-bin-hadoop3.2/python/.coveragerc\n",
            "spark-3.2.1-bin-hadoop3.2/python/.gitignore\n",
            "spark-3.2.1-bin-hadoop3.2/python/MANIFEST.in\n",
            "spark-3.2.1-bin-hadoop3.2/python/README.md\n",
            "spark-3.2.1-bin-hadoop3.2/python/dist/\n",
            "spark-3.2.1-bin-hadoop3.2/python/docs/\n",
            "spark-3.2.1-bin-hadoop3.2/python/docs/Makefile\n",
            "spark-3.2.1-bin-hadoop3.2/python/docs/make.bat\n",
            "spark-3.2.1-bin-hadoop3.2/python/docs/make2.bat\n",
            "spark-3.2.1-bin-hadoop3.2/python/docs/source/\n",
            "spark-3.2.1-bin-hadoop3.2/python/docs/source/_static/\n",
            "spark-3.2.1-bin-hadoop3.2/python/docs/source/_static/copybutton.js\n",
            "spark-3.2.1-bin-hadoop3.2/python/docs/source/_static/css/\n",
            "spark-3.2.1-bin-hadoop3.2/python/docs/source/_static/css/pyspark.css\n",
            "spark-3.2.1-bin-hadoop3.2/python/docs/source/_templates/\n",
            "spark-3.2.1-bin-hadoop3.2/python/docs/source/_templates/autosummary/\n",
            "spark-3.2.1-bin-hadoop3.2/python/docs/source/_templates/autosummary/class.rst\n",
            "spark-3.2.1-bin-hadoop3.2/python/docs/source/_templates/autosummary/class_with_docs.rst\n",
            "spark-3.2.1-bin-hadoop3.2/python/docs/source/conf.py\n",
            "spark-3.2.1-bin-hadoop3.2/python/docs/source/development/\n",
            "spark-3.2.1-bin-hadoop3.2/python/docs/source/development/contributing.rst\n",
            "spark-3.2.1-bin-hadoop3.2/python/docs/source/development/debugging.rst\n",
            "spark-3.2.1-bin-hadoop3.2/python/docs/source/development/index.rst\n",
            "spark-3.2.1-bin-hadoop3.2/python/docs/source/development/setting_ide.rst\n",
            "spark-3.2.1-bin-hadoop3.2/python/docs/source/development/testing.rst\n",
            "spark-3.2.1-bin-hadoop3.2/python/docs/source/getting_started/\n",
            "spark-3.2.1-bin-hadoop3.2/python/docs/source/getting_started/index.rst\n",
            "spark-3.2.1-bin-hadoop3.2/python/docs/source/getting_started/install.rst\n",
            "spark-3.2.1-bin-hadoop3.2/python/docs/source/getting_started/quickstart_df.ipynb\n",
            "spark-3.2.1-bin-hadoop3.2/python/docs/source/getting_started/quickstart_ps.ipynb\n",
            "spark-3.2.1-bin-hadoop3.2/python/docs/source/index.rst\n",
            "spark-3.2.1-bin-hadoop3.2/python/docs/source/migration_guide/\n",
            "spark-3.2.1-bin-hadoop3.2/python/docs/source/migration_guide/index.rst\n",
            "spark-3.2.1-bin-hadoop3.2/python/docs/source/migration_guide/koalas_to_pyspark.rst\n",
            "spark-3.2.1-bin-hadoop3.2/python/docs/source/migration_guide/pyspark_1.0_1.2_to_1.3.rst\n",
            "spark-3.2.1-bin-hadoop3.2/python/docs/source/migration_guide/pyspark_1.4_to_1.5.rst\n",
            "spark-3.2.1-bin-hadoop3.2/python/docs/source/migration_guide/pyspark_2.2_to_2.3.rst\n",
            "spark-3.2.1-bin-hadoop3.2/python/docs/source/migration_guide/pyspark_2.3.0_to_2.3.1_above.rst\n",
            "spark-3.2.1-bin-hadoop3.2/python/docs/source/migration_guide/pyspark_2.3_to_2.4.rst\n",
            "spark-3.2.1-bin-hadoop3.2/python/docs/source/migration_guide/pyspark_2.4_to_3.0.rst\n",
            "spark-3.2.1-bin-hadoop3.2/python/docs/source/migration_guide/pyspark_3.1_to_3.2.rst\n",
            "spark-3.2.1-bin-hadoop3.2/python/docs/source/reference/\n",
            "spark-3.2.1-bin-hadoop3.2/python/docs/source/reference/index.rst\n",
            "spark-3.2.1-bin-hadoop3.2/python/docs/source/reference/pyspark.ml.rst\n",
            "spark-3.2.1-bin-hadoop3.2/python/docs/source/reference/pyspark.mllib.rst\n",
            "spark-3.2.1-bin-hadoop3.2/python/docs/source/reference/pyspark.pandas/\n",
            "spark-3.2.1-bin-hadoop3.2/python/docs/source/reference/pyspark.pandas/extensions.rst\n",
            "spark-3.2.1-bin-hadoop3.2/python/docs/source/reference/pyspark.pandas/frame.rst\n",
            "spark-3.2.1-bin-hadoop3.2/python/docs/source/reference/pyspark.pandas/general_functions.rst\n",
            "spark-3.2.1-bin-hadoop3.2/python/docs/source/reference/pyspark.pandas/groupby.rst\n",
            "spark-3.2.1-bin-hadoop3.2/python/docs/source/reference/pyspark.pandas/index.rst\n",
            "spark-3.2.1-bin-hadoop3.2/python/docs/source/reference/pyspark.pandas/indexing.rst\n",
            "spark-3.2.1-bin-hadoop3.2/python/docs/source/reference/pyspark.pandas/io.rst\n",
            "spark-3.2.1-bin-hadoop3.2/python/docs/source/reference/pyspark.pandas/ml.rst\n",
            "spark-3.2.1-bin-hadoop3.2/python/docs/source/reference/pyspark.pandas/series.rst\n",
            "spark-3.2.1-bin-hadoop3.2/python/docs/source/reference/pyspark.pandas/window.rst\n",
            "spark-3.2.1-bin-hadoop3.2/python/docs/source/reference/pyspark.resource.rst\n",
            "spark-3.2.1-bin-hadoop3.2/python/docs/source/reference/pyspark.rst\n",
            "spark-3.2.1-bin-hadoop3.2/python/docs/source/reference/pyspark.sql.rst\n",
            "spark-3.2.1-bin-hadoop3.2/python/docs/source/reference/pyspark.ss.rst\n",
            "spark-3.2.1-bin-hadoop3.2/python/docs/source/reference/pyspark.streaming.rst\n",
            "spark-3.2.1-bin-hadoop3.2/python/docs/source/user_guide/\n",
            "spark-3.2.1-bin-hadoop3.2/python/docs/source/user_guide/arrow_pandas.rst\n",
            "spark-3.2.1-bin-hadoop3.2/python/docs/source/user_guide/index.rst\n",
            "spark-3.2.1-bin-hadoop3.2/python/docs/source/user_guide/pandas_on_spark/\n",
            "spark-3.2.1-bin-hadoop3.2/python/docs/source/user_guide/pandas_on_spark/best_practices.rst\n",
            "spark-3.2.1-bin-hadoop3.2/python/docs/source/user_guide/pandas_on_spark/faq.rst\n",
            "spark-3.2.1-bin-hadoop3.2/python/docs/source/user_guide/pandas_on_spark/from_to_dbms.rst\n",
            "spark-3.2.1-bin-hadoop3.2/python/docs/source/user_guide/pandas_on_spark/index.rst\n",
            "spark-3.2.1-bin-hadoop3.2/python/docs/source/user_guide/pandas_on_spark/options.rst\n",
            "spark-3.2.1-bin-hadoop3.2/python/docs/source/user_guide/pandas_on_spark/pandas_pyspark.rst\n",
            "spark-3.2.1-bin-hadoop3.2/python/docs/source/user_guide/pandas_on_spark/transform_apply.rst\n",
            "spark-3.2.1-bin-hadoop3.2/python/docs/source/user_guide/pandas_on_spark/typehints.rst\n",
            "spark-3.2.1-bin-hadoop3.2/python/docs/source/user_guide/pandas_on_spark/types.rst\n",
            "spark-3.2.1-bin-hadoop3.2/python/docs/source/user_guide/python_packaging.rst\n",
            "spark-3.2.1-bin-hadoop3.2/python/docs/source/user_guide/sql/\n",
            "spark-3.2.1-bin-hadoop3.2/python/docs/source/user_guide/sql/arrow_pandas.rst\n",
            "spark-3.2.1-bin-hadoop3.2/python/docs/source/user_guide/sql/index.rst\n",
            "spark-3.2.1-bin-hadoop3.2/python/lib/\n",
            "spark-3.2.1-bin-hadoop3.2/python/lib/PY4J_LICENSE.txt\n",
            "spark-3.2.1-bin-hadoop3.2/python/lib/py4j-0.10.9.3-src.zip\n",
            "spark-3.2.1-bin-hadoop3.2/python/lib/pyspark.zip\n",
            "spark-3.2.1-bin-hadoop3.2/python/mypy.ini\n",
            "spark-3.2.1-bin-hadoop3.2/python/pylintrc\n",
            "spark-3.2.1-bin-hadoop3.2/python/pyspark/\n",
            "spark-3.2.1-bin-hadoop3.2/python/pyspark/__init__.py\n",
            "spark-3.2.1-bin-hadoop3.2/python/pyspark/__init__.pyi\n",
            "spark-3.2.1-bin-hadoop3.2/python/pyspark/__pycache__/\n",
            "spark-3.2.1-bin-hadoop3.2/python/pyspark/__pycache__/install.cpython-38.pyc\n",
            "spark-3.2.1-bin-hadoop3.2/python/pyspark/_globals.py\n",
            "spark-3.2.1-bin-hadoop3.2/python/pyspark/_typing.pyi\n",
            "spark-3.2.1-bin-hadoop3.2/python/pyspark/accumulators.py\n",
            "spark-3.2.1-bin-hadoop3.2/python/pyspark/accumulators.pyi\n",
            "spark-3.2.1-bin-hadoop3.2/python/pyspark/broadcast.py\n",
            "spark-3.2.1-bin-hadoop3.2/python/pyspark/broadcast.pyi\n",
            "spark-3.2.1-bin-hadoop3.2/python/pyspark/cloudpickle/\n",
            "spark-3.2.1-bin-hadoop3.2/python/pyspark/cloudpickle/__init__.py\n",
            "spark-3.2.1-bin-hadoop3.2/python/pyspark/cloudpickle/cloudpickle.py\n",
            "spark-3.2.1-bin-hadoop3.2/python/pyspark/cloudpickle/cloudpickle_fast.py\n",
            "spark-3.2.1-bin-hadoop3.2/python/pyspark/cloudpickle/compat.py\n",
            "spark-3.2.1-bin-hadoop3.2/python/pyspark/conf.py\n",
            "spark-3.2.1-bin-hadoop3.2/python/pyspark/conf.pyi\n",
            "spark-3.2.1-bin-hadoop3.2/python/pyspark/context.py\n",
            "spark-3.2.1-bin-hadoop3.2/python/pyspark/context.pyi\n",
            "spark-3.2.1-bin-hadoop3.2/python/pyspark/daemon.py\n",
            "spark-3.2.1-bin-hadoop3.2/python/pyspark/files.py\n",
            "spark-3.2.1-bin-hadoop3.2/python/pyspark/files.pyi\n",
            "spark-3.2.1-bin-hadoop3.2/python/pyspark/find_spark_home.py\n",
            "spark-3.2.1-bin-hadoop3.2/python/pyspark/install.py\n",
            "spark-3.2.1-bin-hadoop3.2/python/pyspark/java_gateway.py\n",
            "spark-3.2.1-bin-hadoop3.2/python/pyspark/join.py\n",
            "spark-3.2.1-bin-hadoop3.2/python/pyspark/ml/\n",
            "spark-3.2.1-bin-hadoop3.2/python/pyspark/ml/__init__.py\n",
            "spark-3.2.1-bin-hadoop3.2/python/pyspark/ml/_typing.pyi\n",
            "spark-3.2.1-bin-hadoop3.2/python/pyspark/ml/base.py\n",
            "spark-3.2.1-bin-hadoop3.2/python/pyspark/ml/base.pyi\n",
            "spark-3.2.1-bin-hadoop3.2/python/pyspark/ml/classification.py\n",
            "spark-3.2.1-bin-hadoop3.2/python/pyspark/ml/classification.pyi\n",
            "spark-3.2.1-bin-hadoop3.2/python/pyspark/ml/clustering.py\n",
            "spark-3.2.1-bin-hadoop3.2/python/pyspark/ml/clustering.pyi\n",
            "spark-3.2.1-bin-hadoop3.2/python/pyspark/ml/common.py\n",
            "spark-3.2.1-bin-hadoop3.2/python/pyspark/ml/common.pyi\n",
            "spark-3.2.1-bin-hadoop3.2/python/pyspark/ml/evaluation.py\n",
            "spark-3.2.1-bin-hadoop3.2/python/pyspark/ml/evaluation.pyi\n",
            "spark-3.2.1-bin-hadoop3.2/python/pyspark/ml/feature.py\n",
            "spark-3.2.1-bin-hadoop3.2/python/pyspark/ml/feature.pyi\n",
            "spark-3.2.1-bin-hadoop3.2/python/pyspark/ml/fpm.py\n",
            "spark-3.2.1-bin-hadoop3.2/python/pyspark/ml/fpm.pyi\n",
            "spark-3.2.1-bin-hadoop3.2/python/pyspark/ml/functions.py\n",
            "spark-3.2.1-bin-hadoop3.2/python/pyspark/ml/functions.pyi\n",
            "spark-3.2.1-bin-hadoop3.2/python/pyspark/ml/image.py\n",
            "spark-3.2.1-bin-hadoop3.2/python/pyspark/ml/image.pyi\n",
            "spark-3.2.1-bin-hadoop3.2/python/pyspark/ml/linalg/\n",
            "spark-3.2.1-bin-hadoop3.2/python/pyspark/ml/linalg/__init__.py\n",
            "spark-3.2.1-bin-hadoop3.2/python/pyspark/ml/linalg/__init__.pyi\n",
            "spark-3.2.1-bin-hadoop3.2/python/pyspark/ml/param/\n",
            "spark-3.2.1-bin-hadoop3.2/python/pyspark/ml/param/__init__.py\n",
            "spark-3.2.1-bin-hadoop3.2/python/pyspark/ml/param/__init__.pyi\n",
            "spark-3.2.1-bin-hadoop3.2/python/pyspark/ml/param/_shared_params_code_gen.py\n",
            "spark-3.2.1-bin-hadoop3.2/python/pyspark/ml/param/_shared_params_code_gen.pyi\n",
            "spark-3.2.1-bin-hadoop3.2/python/pyspark/ml/param/shared.py\n",
            "spark-3.2.1-bin-hadoop3.2/python/pyspark/ml/param/shared.pyi\n",
            "spark-3.2.1-bin-hadoop3.2/python/pyspark/ml/pipeline.py\n",
            "spark-3.2.1-bin-hadoop3.2/python/pyspark/ml/pipeline.pyi\n",
            "spark-3.2.1-bin-hadoop3.2/python/pyspark/ml/recommendation.py\n",
            "spark-3.2.1-bin-hadoop3.2/python/pyspark/ml/recommendation.pyi\n",
            "spark-3.2.1-bin-hadoop3.2/python/pyspark/ml/regression.py\n",
            "spark-3.2.1-bin-hadoop3.2/python/pyspark/ml/regression.pyi\n",
            "spark-3.2.1-bin-hadoop3.2/python/pyspark/ml/stat.py\n",
            "spark-3.2.1-bin-hadoop3.2/python/pyspark/ml/stat.pyi\n",
            "spark-3.2.1-bin-hadoop3.2/python/pyspark/ml/tests/\n",
            "spark-3.2.1-bin-hadoop3.2/python/pyspark/ml/tests/__init__.py\n",
            "spark-3.2.1-bin-hadoop3.2/python/pyspark/ml/tests/test_algorithms.py\n",
            "spark-3.2.1-bin-hadoop3.2/python/pyspark/ml/tests/test_base.py\n",
            "spark-3.2.1-bin-hadoop3.2/python/pyspark/ml/tests/test_evaluation.py\n",
            "spark-3.2.1-bin-hadoop3.2/python/pyspark/ml/tests/test_feature.py\n",
            "spark-3.2.1-bin-hadoop3.2/python/pyspark/ml/tests/test_image.py\n",
            "spark-3.2.1-bin-hadoop3.2/python/pyspark/ml/tests/test_linalg.py\n",
            "spark-3.2.1-bin-hadoop3.2/python/pyspark/ml/tests/test_param.py\n",
            "spark-3.2.1-bin-hadoop3.2/python/pyspark/ml/tests/test_persistence.py\n",
            "spark-3.2.1-bin-hadoop3.2/python/pyspark/ml/tests/test_pipeline.py\n",
            "spark-3.2.1-bin-hadoop3.2/python/pyspark/ml/tests/test_stat.py\n",
            "spark-3.2.1-bin-hadoop3.2/python/pyspark/ml/tests/test_training_summary.py\n",
            "spark-3.2.1-bin-hadoop3.2/python/pyspark/ml/tests/test_tuning.py\n",
            "spark-3.2.1-bin-hadoop3.2/python/pyspark/ml/tests/test_util.py\n",
            "spark-3.2.1-bin-hadoop3.2/python/pyspark/ml/tests/test_wrapper.py\n",
            "spark-3.2.1-bin-hadoop3.2/python/pyspark/ml/tree.py\n",
            "spark-3.2.1-bin-hadoop3.2/python/pyspark/ml/tree.pyi\n",
            "spark-3.2.1-bin-hadoop3.2/python/pyspark/ml/tuning.py\n",
            "spark-3.2.1-bin-hadoop3.2/python/pyspark/ml/tuning.pyi\n",
            "spark-3.2.1-bin-hadoop3.2/python/pyspark/ml/util.py\n",
            "spark-3.2.1-bin-hadoop3.2/python/pyspark/ml/util.pyi\n",
            "spark-3.2.1-bin-hadoop3.2/python/pyspark/ml/wrapper.py\n",
            "spark-3.2.1-bin-hadoop3.2/python/pyspark/ml/wrapper.pyi\n",
            "spark-3.2.1-bin-hadoop3.2/python/pyspark/mllib/\n",
            "spark-3.2.1-bin-hadoop3.2/python/pyspark/mllib/__init__.py\n",
            "spark-3.2.1-bin-hadoop3.2/python/pyspark/mllib/_typing.pyi\n",
            "spark-3.2.1-bin-hadoop3.2/python/pyspark/mllib/classification.py\n",
            "spark-3.2.1-bin-hadoop3.2/python/pyspark/mllib/classification.pyi\n",
            "spark-3.2.1-bin-hadoop3.2/python/pyspark/mllib/clustering.py\n",
            "spark-3.2.1-bin-hadoop3.2/python/pyspark/mllib/clustering.pyi\n",
            "spark-3.2.1-bin-hadoop3.2/python/pyspark/mllib/common.py\n",
            "spark-3.2.1-bin-hadoop3.2/python/pyspark/mllib/common.pyi\n",
            "spark-3.2.1-bin-hadoop3.2/python/pyspark/mllib/evaluation.py\n",
            "spark-3.2.1-bin-hadoop3.2/python/pyspark/mllib/evaluation.pyi\n",
            "spark-3.2.1-bin-hadoop3.2/python/pyspark/mllib/feature.py\n",
            "spark-3.2.1-bin-hadoop3.2/python/pyspark/mllib/feature.pyi\n",
            "spark-3.2.1-bin-hadoop3.2/python/pyspark/mllib/fpm.py\n",
            "spark-3.2.1-bin-hadoop3.2/python/pyspark/mllib/fpm.pyi\n",
            "spark-3.2.1-bin-hadoop3.2/python/pyspark/mllib/linalg/\n",
            "spark-3.2.1-bin-hadoop3.2/python/pyspark/mllib/linalg/__init__.py\n",
            "spark-3.2.1-bin-hadoop3.2/python/pyspark/mllib/linalg/__init__.pyi\n",
            "spark-3.2.1-bin-hadoop3.2/python/pyspark/mllib/linalg/distributed.py\n",
            "spark-3.2.1-bin-hadoop3.2/python/pyspark/mllib/linalg/distributed.pyi\n",
            "spark-3.2.1-bin-hadoop3.2/python/pyspark/mllib/random.py\n",
            "spark-3.2.1-bin-hadoop3.2/python/pyspark/mllib/random.pyi\n",
            "spark-3.2.1-bin-hadoop3.2/python/pyspark/mllib/recommendation.py\n",
            "spark-3.2.1-bin-hadoop3.2/python/pyspark/mllib/recommendation.pyi\n",
            "spark-3.2.1-bin-hadoop3.2/python/pyspark/mllib/regression.py\n",
            "spark-3.2.1-bin-hadoop3.2/python/pyspark/mllib/regression.pyi\n",
            "spark-3.2.1-bin-hadoop3.2/python/pyspark/mllib/stat/\n",
            "spark-3.2.1-bin-hadoop3.2/python/pyspark/mllib/stat/KernelDensity.py\n",
            "spark-3.2.1-bin-hadoop3.2/python/pyspark/mllib/stat/KernelDensity.pyi\n",
            "spark-3.2.1-bin-hadoop3.2/python/pyspark/mllib/stat/__init__.py\n",
            "spark-3.2.1-bin-hadoop3.2/python/pyspark/mllib/stat/__init__.pyi\n",
            "spark-3.2.1-bin-hadoop3.2/python/pyspark/mllib/stat/_statistics.py\n",
            "spark-3.2.1-bin-hadoop3.2/python/pyspark/mllib/stat/_statistics.pyi\n",
            "spark-3.2.1-bin-hadoop3.2/python/pyspark/mllib/stat/distribution.py\n",
            "spark-3.2.1-bin-hadoop3.2/python/pyspark/mllib/stat/distribution.pyi\n",
            "spark-3.2.1-bin-hadoop3.2/python/pyspark/mllib/stat/test.py\n",
            "spark-3.2.1-bin-hadoop3.2/python/pyspark/mllib/stat/test.pyi\n",
            "spark-3.2.1-bin-hadoop3.2/python/pyspark/mllib/tests/\n",
            "spark-3.2.1-bin-hadoop3.2/python/pyspark/mllib/tests/__init__.py\n",
            "spark-3.2.1-bin-hadoop3.2/python/pyspark/mllib/tests/test_algorithms.py\n",
            "spark-3.2.1-bin-hadoop3.2/python/pyspark/mllib/tests/test_feature.py\n",
            "spark-3.2.1-bin-hadoop3.2/python/pyspark/mllib/tests/test_linalg.py\n",
            "spark-3.2.1-bin-hadoop3.2/python/pyspark/mllib/tests/test_stat.py\n",
            "spark-3.2.1-bin-hadoop3.2/python/pyspark/mllib/tests/test_streaming_algorithms.py\n",
            "spark-3.2.1-bin-hadoop3.2/python/pyspark/mllib/tests/test_util.py\n",
            "spark-3.2.1-bin-hadoop3.2/python/pyspark/mllib/tree.py\n",
            "spark-3.2.1-bin-hadoop3.2/python/pyspark/mllib/tree.pyi\n",
            "spark-3.2.1-bin-hadoop3.2/python/pyspark/mllib/util.py\n",
            "spark-3.2.1-bin-hadoop3.2/python/pyspark/mllib/util.pyi\n",
            "spark-3.2.1-bin-hadoop3.2/python/pyspark/pandas/\n",
            "spark-3.2.1-bin-hadoop3.2/python/pyspark/pandas/__init__.py\n",
            "spark-3.2.1-bin-hadoop3.2/python/pyspark/pandas/_typing.py\n",
            "spark-3.2.1-bin-hadoop3.2/python/pyspark/pandas/accessors.py\n",
            "spark-3.2.1-bin-hadoop3.2/python/pyspark/pandas/base.py\n",
            "spark-3.2.1-bin-hadoop3.2/python/pyspark/pandas/categorical.py\n",
            "spark-3.2.1-bin-hadoop3.2/python/pyspark/pandas/config.py\n",
            "spark-3.2.1-bin-hadoop3.2/python/pyspark/pandas/data_type_ops/\n",
            "spark-3.2.1-bin-hadoop3.2/python/pyspark/pandas/data_type_ops/__init__.py\n",
            "spark-3.2.1-bin-hadoop3.2/python/pyspark/pandas/data_type_ops/base.py\n",
            "spark-3.2.1-bin-hadoop3.2/python/pyspark/pandas/data_type_ops/binary_ops.py\n",
            "spark-3.2.1-bin-hadoop3.2/python/pyspark/pandas/data_type_ops/boolean_ops.py\n",
            "spark-3.2.1-bin-hadoop3.2/python/pyspark/pandas/data_type_ops/categorical_ops.py\n",
            "spark-3.2.1-bin-hadoop3.2/python/pyspark/pandas/data_type_ops/complex_ops.py\n",
            "spark-3.2.1-bin-hadoop3.2/python/pyspark/pandas/data_type_ops/date_ops.py\n",
            "spark-3.2.1-bin-hadoop3.2/python/pyspark/pandas/data_type_ops/datetime_ops.py\n",
            "spark-3.2.1-bin-hadoop3.2/python/pyspark/pandas/data_type_ops/null_ops.py\n",
            "spark-3.2.1-bin-hadoop3.2/python/pyspark/pandas/data_type_ops/num_ops.py\n",
            "spark-3.2.1-bin-hadoop3.2/python/pyspark/pandas/data_type_ops/string_ops.py\n",
            "spark-3.2.1-bin-hadoop3.2/python/pyspark/pandas/data_type_ops/udt_ops.py\n",
            "spark-3.2.1-bin-hadoop3.2/python/pyspark/pandas/datetimes.py\n",
            "spark-3.2.1-bin-hadoop3.2/python/pyspark/pandas/exceptions.py\n",
            "spark-3.2.1-bin-hadoop3.2/python/pyspark/pandas/extensions.py\n",
            "spark-3.2.1-bin-hadoop3.2/python/pyspark/pandas/frame.py\n",
            "spark-3.2.1-bin-hadoop3.2/python/pyspark/pandas/generic.py\n",
            "spark-3.2.1-bin-hadoop3.2/python/pyspark/pandas/groupby.py\n",
            "spark-3.2.1-bin-hadoop3.2/python/pyspark/pandas/indexes/\n",
            "spark-3.2.1-bin-hadoop3.2/python/pyspark/pandas/indexes/__init__.py\n",
            "spark-3.2.1-bin-hadoop3.2/python/pyspark/pandas/indexes/base.py\n",
            "spark-3.2.1-bin-hadoop3.2/python/pyspark/pandas/indexes/category.py\n",
            "spark-3.2.1-bin-hadoop3.2/python/pyspark/pandas/indexes/datetimes.py\n",
            "spark-3.2.1-bin-hadoop3.2/python/pyspark/pandas/indexes/multi.py\n",
            "spark-3.2.1-bin-hadoop3.2/python/pyspark/pandas/indexes/numeric.py\n",
            "spark-3.2.1-bin-hadoop3.2/python/pyspark/pandas/indexing.py\n",
            "spark-3.2.1-bin-hadoop3.2/python/pyspark/pandas/internal.py\n",
            "spark-3.2.1-bin-hadoop3.2/python/pyspark/pandas/missing/\n",
            "spark-3.2.1-bin-hadoop3.2/python/pyspark/pandas/missing/__init__.py\n",
            "spark-3.2.1-bin-hadoop3.2/python/pyspark/pandas/missing/common.py\n",
            "spark-3.2.1-bin-hadoop3.2/python/pyspark/pandas/missing/frame.py\n",
            "spark-3.2.1-bin-hadoop3.2/python/pyspark/pandas/missing/groupby.py\n",
            "spark-3.2.1-bin-hadoop3.2/python/pyspark/pandas/missing/indexes.py\n",
            "spark-3.2.1-bin-hadoop3.2/python/pyspark/pandas/missing/series.py\n",
            "spark-3.2.1-bin-hadoop3.2/python/pyspark/pandas/missing/window.py\n",
            "spark-3.2.1-bin-hadoop3.2/python/pyspark/pandas/ml.py\n",
            "spark-3.2.1-bin-hadoop3.2/python/pyspark/pandas/mlflow.py\n",
            "spark-3.2.1-bin-hadoop3.2/python/pyspark/pandas/namespace.py\n",
            "spark-3.2.1-bin-hadoop3.2/python/pyspark/pandas/numpy_compat.py\n",
            "spark-3.2.1-bin-hadoop3.2/python/pyspark/pandas/plot/\n",
            "spark-3.2.1-bin-hadoop3.2/python/pyspark/pandas/plot/__init__.py\n",
            "spark-3.2.1-bin-hadoop3.2/python/pyspark/pandas/plot/core.py\n",
            "spark-3.2.1-bin-hadoop3.2/python/pyspark/pandas/plot/matplotlib.py\n",
            "spark-3.2.1-bin-hadoop3.2/python/pyspark/pandas/plot/plotly.py\n",
            "spark-3.2.1-bin-hadoop3.2/python/pyspark/pandas/series.py\n",
            "spark-3.2.1-bin-hadoop3.2/python/pyspark/pandas/spark/\n",
            "spark-3.2.1-bin-hadoop3.2/python/pyspark/pandas/spark/__init__.py\n",
            "spark-3.2.1-bin-hadoop3.2/python/pyspark/pandas/spark/accessors.py\n",
            "spark-3.2.1-bin-hadoop3.2/python/pyspark/pandas/spark/functions.py\n",
            "spark-3.2.1-bin-hadoop3.2/python/pyspark/pandas/spark/utils.py\n",
            "spark-3.2.1-bin-hadoop3.2/python/pyspark/pandas/sql_processor.py\n",
            "spark-3.2.1-bin-hadoop3.2/python/pyspark/pandas/strings.py\n",
            "spark-3.2.1-bin-hadoop3.2/python/pyspark/pandas/tests/\n",
            "spark-3.2.1-bin-hadoop3.2/python/pyspark/pandas/tests/__init__.py\n",
            "spark-3.2.1-bin-hadoop3.2/python/pyspark/pandas/tests/data_type_ops/\n",
            "spark-3.2.1-bin-hadoop3.2/python/pyspark/pandas/tests/data_type_ops/__init__.py\n",
            "spark-3.2.1-bin-hadoop3.2/python/pyspark/pandas/tests/data_type_ops/test_base.py\n",
            "spark-3.2.1-bin-hadoop3.2/python/pyspark/pandas/tests/data_type_ops/test_binary_ops.py\n",
            "spark-3.2.1-bin-hadoop3.2/python/pyspark/pandas/tests/data_type_ops/test_boolean_ops.py\n",
            "spark-3.2.1-bin-hadoop3.2/python/pyspark/pandas/tests/data_type_ops/test_categorical_ops.py\n",
            "spark-3.2.1-bin-hadoop3.2/python/pyspark/pandas/tests/data_type_ops/test_complex_ops.py\n",
            "spark-3.2.1-bin-hadoop3.2/python/pyspark/pandas/tests/data_type_ops/test_date_ops.py\n",
            "spark-3.2.1-bin-hadoop3.2/python/pyspark/pandas/tests/data_type_ops/test_datetime_ops.py\n",
            "spark-3.2.1-bin-hadoop3.2/python/pyspark/pandas/tests/data_type_ops/test_null_ops.py\n",
            "spark-3.2.1-bin-hadoop3.2/python/pyspark/pandas/tests/data_type_ops/test_num_ops.py\n",
            "spark-3.2.1-bin-hadoop3.2/python/pyspark/pandas/tests/data_type_ops/test_string_ops.py\n",
            "spark-3.2.1-bin-hadoop3.2/python/pyspark/pandas/tests/data_type_ops/test_udt_ops.py\n",
            "spark-3.2.1-bin-hadoop3.2/python/pyspark/pandas/tests/data_type_ops/testing_utils.py\n",
            "spark-3.2.1-bin-hadoop3.2/python/pyspark/pandas/tests/indexes/\n",
            "spark-3.2.1-bin-hadoop3.2/python/pyspark/pandas/tests/indexes/__init__.py\n",
            "spark-3.2.1-bin-hadoop3.2/python/pyspark/pandas/tests/indexes/test_base.py\n",
            "spark-3.2.1-bin-hadoop3.2/python/pyspark/pandas/tests/indexes/test_category.py\n",
            "spark-3.2.1-bin-hadoop3.2/python/pyspark/pandas/tests/indexes/test_datetime.py\n",
            "spark-3.2.1-bin-hadoop3.2/python/pyspark/pandas/tests/plot/\n",
            "spark-3.2.1-bin-hadoop3.2/python/pyspark/pandas/tests/plot/__init__.py\n",
            "spark-3.2.1-bin-hadoop3.2/python/pyspark/pandas/tests/plot/test_frame_plot.py\n",
            "spark-3.2.1-bin-hadoop3.2/python/pyspark/pandas/tests/plot/test_frame_plot_matplotlib.py\n",
            "spark-3.2.1-bin-hadoop3.2/python/pyspark/pandas/tests/plot/test_frame_plot_plotly.py\n",
            "spark-3.2.1-bin-hadoop3.2/python/pyspark/pandas/tests/plot/test_series_plot.py\n",
            "spark-3.2.1-bin-hadoop3.2/python/pyspark/pandas/tests/plot/test_series_plot_matplotlib.py\n",
            "spark-3.2.1-bin-hadoop3.2/python/pyspark/pandas/tests/plot/test_series_plot_plotly.py\n",
            "spark-3.2.1-bin-hadoop3.2/python/pyspark/pandas/tests/test_categorical.py\n",
            "spark-3.2.1-bin-hadoop3.2/python/pyspark/pandas/tests/test_config.py\n",
            "spark-3.2.1-bin-hadoop3.2/python/pyspark/pandas/tests/test_csv.py\n",
            "spark-3.2.1-bin-hadoop3.2/python/pyspark/pandas/tests/test_dataframe.py\n",
            "spark-3.2.1-bin-hadoop3.2/python/pyspark/pandas/tests/test_dataframe_conversion.py\n",
            "spark-3.2.1-bin-hadoop3.2/python/pyspark/pandas/tests/test_dataframe_spark_io.py\n",
            "spark-3.2.1-bin-hadoop3.2/python/pyspark/pandas/tests/test_default_index.py\n",
            "spark-3.2.1-bin-hadoop3.2/python/pyspark/pandas/tests/test_expanding.py\n",
            "spark-3.2.1-bin-hadoop3.2/python/pyspark/pandas/tests/test_extension.py\n",
            "spark-3.2.1-bin-hadoop3.2/python/pyspark/pandas/tests/test_frame_spark.py\n",
            "spark-3.2.1-bin-hadoop3.2/python/pyspark/pandas/tests/test_groupby.py\n",
            "spark-3.2.1-bin-hadoop3.2/python/pyspark/pandas/tests/test_indexing.py\n",
            "spark-3.2.1-bin-hadoop3.2/python/pyspark/pandas/tests/test_indexops_spark.py\n",
            "spark-3.2.1-bin-hadoop3.2/python/pyspark/pandas/tests/test_internal.py\n",
            "spark-3.2.1-bin-hadoop3.2/python/pyspark/pandas/tests/test_namespace.py\n",
            "spark-3.2.1-bin-hadoop3.2/python/pyspark/pandas/tests/test_numpy_compat.py\n",
            "spark-3.2.1-bin-hadoop3.2/python/pyspark/pandas/tests/test_ops_on_diff_frames.py\n",
            "spark-3.2.1-bin-hadoop3.2/python/pyspark/pandas/tests/test_ops_on_diff_frames_groupby.py\n",
            "spark-3.2.1-bin-hadoop3.2/python/pyspark/pandas/tests/test_ops_on_diff_frames_groupby_expanding.py\n",
            "spark-3.2.1-bin-hadoop3.2/python/pyspark/pandas/tests/test_ops_on_diff_frames_groupby_rolling.py\n",
            "spark-3.2.1-bin-hadoop3.2/python/pyspark/pandas/tests/test_repr.py\n",
            "spark-3.2.1-bin-hadoop3.2/python/pyspark/pandas/tests/test_reshape.py\n",
            "spark-3.2.1-bin-hadoop3.2/python/pyspark/pandas/tests/test_rolling.py\n",
            "spark-3.2.1-bin-hadoop3.2/python/pyspark/pandas/tests/test_series.py\n",
            "spark-3.2.1-bin-hadoop3.2/python/pyspark/pandas/tests/test_series_conversion.py\n",
            "spark-3.2.1-bin-hadoop3.2/python/pyspark/pandas/tests/test_series_datetime.py\n",
            "spark-3.2.1-bin-hadoop3.2/python/pyspark/pandas/tests/test_series_string.py\n",
            "spark-3.2.1-bin-hadoop3.2/python/pyspark/pandas/tests/test_spark_functions.py\n",
            "spark-3.2.1-bin-hadoop3.2/python/pyspark/pandas/tests/test_sql.py\n",
            "spark-3.2.1-bin-hadoop3.2/python/pyspark/pandas/tests/test_stats.py\n",
            "spark-3.2.1-bin-hadoop3.2/python/pyspark/pandas/tests/test_typedef.py\n",
            "spark-3.2.1-bin-hadoop3.2/python/pyspark/pandas/tests/test_utils.py\n",
            "spark-3.2.1-bin-hadoop3.2/python/pyspark/pandas/tests/test_window.py\n",
            "spark-3.2.1-bin-hadoop3.2/python/pyspark/pandas/typedef/\n",
            "spark-3.2.1-bin-hadoop3.2/python/pyspark/pandas/typedef/__init__.py\n",
            "spark-3.2.1-bin-hadoop3.2/python/pyspark/pandas/typedef/string_typehints.py\n",
            "spark-3.2.1-bin-hadoop3.2/python/pyspark/pandas/typedef/typehints.py\n",
            "spark-3.2.1-bin-hadoop3.2/python/pyspark/pandas/usage_logging/\n",
            "spark-3.2.1-bin-hadoop3.2/python/pyspark/pandas/usage_logging/__init__.py\n",
            "spark-3.2.1-bin-hadoop3.2/python/pyspark/pandas/usage_logging/usage_logger.py\n",
            "spark-3.2.1-bin-hadoop3.2/python/pyspark/pandas/utils.py\n",
            "spark-3.2.1-bin-hadoop3.2/python/pyspark/pandas/window.py\n",
            "spark-3.2.1-bin-hadoop3.2/python/pyspark/profiler.py\n",
            "spark-3.2.1-bin-hadoop3.2/python/pyspark/profiler.pyi\n",
            "spark-3.2.1-bin-hadoop3.2/python/pyspark/py.typed\n",
            "spark-3.2.1-bin-hadoop3.2/python/pyspark/python/\n",
            "spark-3.2.1-bin-hadoop3.2/python/pyspark/python/pyspark/\n",
            "spark-3.2.1-bin-hadoop3.2/python/pyspark/python/pyspark/shell.py\n",
            "spark-3.2.1-bin-hadoop3.2/python/pyspark/rdd.py\n",
            "spark-3.2.1-bin-hadoop3.2/python/pyspark/rdd.pyi\n",
            "spark-3.2.1-bin-hadoop3.2/python/pyspark/rddsampler.py\n",
            "spark-3.2.1-bin-hadoop3.2/python/pyspark/resource/\n",
            "spark-3.2.1-bin-hadoop3.2/python/pyspark/resource/__init__.py\n",
            "spark-3.2.1-bin-hadoop3.2/python/pyspark/resource/information.py\n",
            "spark-3.2.1-bin-hadoop3.2/python/pyspark/resource/information.pyi\n",
            "spark-3.2.1-bin-hadoop3.2/python/pyspark/resource/profile.py\n",
            "spark-3.2.1-bin-hadoop3.2/python/pyspark/resource/profile.pyi\n",
            "spark-3.2.1-bin-hadoop3.2/python/pyspark/resource/requests.py\n",
            "spark-3.2.1-bin-hadoop3.2/python/pyspark/resource/requests.pyi\n",
            "spark-3.2.1-bin-hadoop3.2/python/pyspark/resource/tests/\n",
            "spark-3.2.1-bin-hadoop3.2/python/pyspark/resource/tests/__init__.py\n",
            "spark-3.2.1-bin-hadoop3.2/python/pyspark/resource/tests/test_resources.py\n",
            "spark-3.2.1-bin-hadoop3.2/python/pyspark/resultiterable.py\n",
            "spark-3.2.1-bin-hadoop3.2/python/pyspark/resultiterable.pyi\n",
            "spark-3.2.1-bin-hadoop3.2/python/pyspark/serializers.py\n",
            "spark-3.2.1-bin-hadoop3.2/python/pyspark/shell.py\n",
            "spark-3.2.1-bin-hadoop3.2/python/pyspark/shuffle.py\n",
            "spark-3.2.1-bin-hadoop3.2/python/pyspark/sql/\n",
            "spark-3.2.1-bin-hadoop3.2/python/pyspark/sql/__init__.py\n",
            "spark-3.2.1-bin-hadoop3.2/python/pyspark/sql/__init__.pyi\n",
            "spark-3.2.1-bin-hadoop3.2/python/pyspark/sql/_typing.pyi\n",
            "spark-3.2.1-bin-hadoop3.2/python/pyspark/sql/avro/\n",
            "spark-3.2.1-bin-hadoop3.2/python/pyspark/sql/avro/__init__.py\n",
            "spark-3.2.1-bin-hadoop3.2/python/pyspark/sql/avro/functions.py\n",
            "spark-3.2.1-bin-hadoop3.2/python/pyspark/sql/avro/functions.pyi\n",
            "spark-3.2.1-bin-hadoop3.2/python/pyspark/sql/catalog.py\n",
            "spark-3.2.1-bin-hadoop3.2/python/pyspark/sql/catalog.pyi\n",
            "spark-3.2.1-bin-hadoop3.2/python/pyspark/sql/column.py\n",
            "spark-3.2.1-bin-hadoop3.2/python/pyspark/sql/column.pyi\n",
            "spark-3.2.1-bin-hadoop3.2/python/pyspark/sql/conf.py\n",
            "spark-3.2.1-bin-hadoop3.2/python/pyspark/sql/conf.pyi\n",
            "spark-3.2.1-bin-hadoop3.2/python/pyspark/sql/context.py\n",
            "spark-3.2.1-bin-hadoop3.2/python/pyspark/sql/context.pyi\n",
            "spark-3.2.1-bin-hadoop3.2/python/pyspark/sql/dataframe.py\n",
            "spark-3.2.1-bin-hadoop3.2/python/pyspark/sql/dataframe.pyi\n",
            "spark-3.2.1-bin-hadoop3.2/python/pyspark/sql/functions.py\n",
            "spark-3.2.1-bin-hadoop3.2/python/pyspark/sql/functions.pyi\n",
            "spark-3.2.1-bin-hadoop3.2/python/pyspark/sql/group.py\n",
            "spark-3.2.1-bin-hadoop3.2/python/pyspark/sql/group.pyi\n",
            "spark-3.2.1-bin-hadoop3.2/python/pyspark/sql/pandas/\n",
            "spark-3.2.1-bin-hadoop3.2/python/pyspark/sql/pandas/__init__.py\n",
            "spark-3.2.1-bin-hadoop3.2/python/pyspark/sql/pandas/_typing/\n",
            "spark-3.2.1-bin-hadoop3.2/python/pyspark/sql/pandas/_typing/__init__.pyi\n",
            "spark-3.2.1-bin-hadoop3.2/python/pyspark/sql/pandas/_typing/protocols/\n",
            "spark-3.2.1-bin-hadoop3.2/python/pyspark/sql/pandas/_typing/protocols/__init__.pyi\n",
            "spark-3.2.1-bin-hadoop3.2/python/pyspark/sql/pandas/_typing/protocols/frame.pyi\n",
            "spark-3.2.1-bin-hadoop3.2/python/pyspark/sql/pandas/_typing/protocols/series.pyi\n",
            "spark-3.2.1-bin-hadoop3.2/python/pyspark/sql/pandas/conversion.py\n",
            "spark-3.2.1-bin-hadoop3.2/python/pyspark/sql/pandas/conversion.pyi\n",
            "spark-3.2.1-bin-hadoop3.2/python/pyspark/sql/pandas/functions.py\n",
            "spark-3.2.1-bin-hadoop3.2/python/pyspark/sql/pandas/functions.pyi\n",
            "spark-3.2.1-bin-hadoop3.2/python/pyspark/sql/pandas/group_ops.py\n",
            "spark-3.2.1-bin-hadoop3.2/python/pyspark/sql/pandas/group_ops.pyi\n",
            "spark-3.2.1-bin-hadoop3.2/python/pyspark/sql/pandas/map_ops.py\n",
            "spark-3.2.1-bin-hadoop3.2/python/pyspark/sql/pandas/map_ops.pyi\n",
            "spark-3.2.1-bin-hadoop3.2/python/pyspark/sql/pandas/serializers.py\n",
            "spark-3.2.1-bin-hadoop3.2/python/pyspark/sql/pandas/typehints.py\n",
            "spark-3.2.1-bin-hadoop3.2/python/pyspark/sql/pandas/types.py\n",
            "spark-3.2.1-bin-hadoop3.2/python/pyspark/sql/pandas/utils.py\n",
            "spark-3.2.1-bin-hadoop3.2/python/pyspark/sql/readwriter.py\n",
            "spark-3.2.1-bin-hadoop3.2/python/pyspark/sql/readwriter.pyi\n",
            "spark-3.2.1-bin-hadoop3.2/python/pyspark/sql/session.py\n",
            "spark-3.2.1-bin-hadoop3.2/python/pyspark/sql/session.pyi\n",
            "spark-3.2.1-bin-hadoop3.2/python/pyspark/sql/streaming.py\n",
            "spark-3.2.1-bin-hadoop3.2/python/pyspark/sql/streaming.pyi\n",
            "spark-3.2.1-bin-hadoop3.2/python/pyspark/sql/tests/\n",
            "spark-3.2.1-bin-hadoop3.2/python/pyspark/sql/tests/__init__.py\n",
            "spark-3.2.1-bin-hadoop3.2/python/pyspark/sql/tests/test_arrow.py\n",
            "spark-3.2.1-bin-hadoop3.2/python/pyspark/sql/tests/test_catalog.py\n",
            "spark-3.2.1-bin-hadoop3.2/python/pyspark/sql/tests/test_column.py\n",
            "spark-3.2.1-bin-hadoop3.2/python/pyspark/sql/tests/test_conf.py\n",
            "spark-3.2.1-bin-hadoop3.2/python/pyspark/sql/tests/test_context.py\n",
            "spark-3.2.1-bin-hadoop3.2/python/pyspark/sql/tests/test_dataframe.py\n",
            "spark-3.2.1-bin-hadoop3.2/python/pyspark/sql/tests/test_datasources.py\n",
            "spark-3.2.1-bin-hadoop3.2/python/pyspark/sql/tests/test_functions.py\n",
            "spark-3.2.1-bin-hadoop3.2/python/pyspark/sql/tests/test_group.py\n",
            "spark-3.2.1-bin-hadoop3.2/python/pyspark/sql/tests/test_pandas_cogrouped_map.py\n",
            "spark-3.2.1-bin-hadoop3.2/python/pyspark/sql/tests/test_pandas_grouped_map.py\n",
            "spark-3.2.1-bin-hadoop3.2/python/pyspark/sql/tests/test_pandas_map.py\n",
            "spark-3.2.1-bin-hadoop3.2/python/pyspark/sql/tests/test_pandas_udf.py\n",
            "spark-3.2.1-bin-hadoop3.2/python/pyspark/sql/tests/test_pandas_udf_grouped_agg.py\n",
            "spark-3.2.1-bin-hadoop3.2/python/pyspark/sql/tests/test_pandas_udf_scalar.py\n",
            "spark-3.2.1-bin-hadoop3.2/python/pyspark/sql/tests/test_pandas_udf_typehints.py\n",
            "spark-3.2.1-bin-hadoop3.2/python/pyspark/sql/tests/test_pandas_udf_window.py\n",
            "spark-3.2.1-bin-hadoop3.2/python/pyspark/sql/tests/test_readwriter.py\n",
            "spark-3.2.1-bin-hadoop3.2/python/pyspark/sql/tests/test_serde.py\n",
            "spark-3.2.1-bin-hadoop3.2/python/pyspark/sql/tests/test_session.py\n",
            "spark-3.2.1-bin-hadoop3.2/python/pyspark/sql/tests/test_streaming.py\n",
            "spark-3.2.1-bin-hadoop3.2/python/pyspark/sql/tests/test_types.py\n",
            "spark-3.2.1-bin-hadoop3.2/python/pyspark/sql/tests/test_udf.py\n",
            "spark-3.2.1-bin-hadoop3.2/python/pyspark/sql/tests/test_utils.py\n",
            "spark-3.2.1-bin-hadoop3.2/python/pyspark/sql/types.py\n",
            "spark-3.2.1-bin-hadoop3.2/python/pyspark/sql/types.pyi\n",
            "spark-3.2.1-bin-hadoop3.2/python/pyspark/sql/udf.py\n",
            "spark-3.2.1-bin-hadoop3.2/python/pyspark/sql/udf.pyi\n",
            "spark-3.2.1-bin-hadoop3.2/python/pyspark/sql/utils.py\n",
            "spark-3.2.1-bin-hadoop3.2/python/pyspark/sql/window.py\n",
            "spark-3.2.1-bin-hadoop3.2/python/pyspark/sql/window.pyi\n",
            "spark-3.2.1-bin-hadoop3.2/python/pyspark/statcounter.py\n",
            "spark-3.2.1-bin-hadoop3.2/python/pyspark/statcounter.pyi\n",
            "spark-3.2.1-bin-hadoop3.2/python/pyspark/status.py\n",
            "spark-3.2.1-bin-hadoop3.2/python/pyspark/status.pyi\n",
            "spark-3.2.1-bin-hadoop3.2/python/pyspark/storagelevel.py\n",
            "spark-3.2.1-bin-hadoop3.2/python/pyspark/storagelevel.pyi\n",
            "spark-3.2.1-bin-hadoop3.2/python/pyspark/streaming/\n",
            "spark-3.2.1-bin-hadoop3.2/python/pyspark/streaming/__init__.py\n",
            "spark-3.2.1-bin-hadoop3.2/python/pyspark/streaming/context.py\n",
            "spark-3.2.1-bin-hadoop3.2/python/pyspark/streaming/context.pyi\n",
            "spark-3.2.1-bin-hadoop3.2/python/pyspark/streaming/dstream.py\n",
            "spark-3.2.1-bin-hadoop3.2/python/pyspark/streaming/dstream.pyi\n",
            "spark-3.2.1-bin-hadoop3.2/python/pyspark/streaming/kinesis.py\n",
            "spark-3.2.1-bin-hadoop3.2/python/pyspark/streaming/kinesis.pyi\n",
            "spark-3.2.1-bin-hadoop3.2/python/pyspark/streaming/listener.py\n",
            "spark-3.2.1-bin-hadoop3.2/python/pyspark/streaming/listener.pyi\n",
            "spark-3.2.1-bin-hadoop3.2/python/pyspark/streaming/tests/\n",
            "spark-3.2.1-bin-hadoop3.2/python/pyspark/streaming/tests/__init__.py\n",
            "spark-3.2.1-bin-hadoop3.2/python/pyspark/streaming/tests/test_context.py\n",
            "spark-3.2.1-bin-hadoop3.2/python/pyspark/streaming/tests/test_dstream.py\n",
            "spark-3.2.1-bin-hadoop3.2/python/pyspark/streaming/tests/test_kinesis.py\n",
            "spark-3.2.1-bin-hadoop3.2/python/pyspark/streaming/tests/test_listener.py\n",
            "spark-3.2.1-bin-hadoop3.2/python/pyspark/streaming/util.py\n",
            "spark-3.2.1-bin-hadoop3.2/python/pyspark/taskcontext.py\n",
            "spark-3.2.1-bin-hadoop3.2/python/pyspark/taskcontext.pyi\n",
            "spark-3.2.1-bin-hadoop3.2/python/pyspark/testing/\n",
            "spark-3.2.1-bin-hadoop3.2/python/pyspark/testing/__init__.py\n",
            "spark-3.2.1-bin-hadoop3.2/python/pyspark/testing/mllibutils.py\n",
            "spark-3.2.1-bin-hadoop3.2/python/pyspark/testing/mlutils.py\n",
            "spark-3.2.1-bin-hadoop3.2/python/pyspark/testing/pandasutils.py\n",
            "spark-3.2.1-bin-hadoop3.2/python/pyspark/testing/sqlutils.py\n",
            "spark-3.2.1-bin-hadoop3.2/python/pyspark/testing/streamingutils.py\n",
            "spark-3.2.1-bin-hadoop3.2/python/pyspark/testing/utils.py\n",
            "spark-3.2.1-bin-hadoop3.2/python/pyspark/tests/\n",
            "spark-3.2.1-bin-hadoop3.2/python/pyspark/tests/__init__.py\n",
            "spark-3.2.1-bin-hadoop3.2/python/pyspark/tests/test_appsubmit.py\n",
            "spark-3.2.1-bin-hadoop3.2/python/pyspark/tests/test_broadcast.py\n",
            "spark-3.2.1-bin-hadoop3.2/python/pyspark/tests/test_conf.py\n",
            "spark-3.2.1-bin-hadoop3.2/python/pyspark/tests/test_context.py\n",
            "spark-3.2.1-bin-hadoop3.2/python/pyspark/tests/test_daemon.py\n",
            "spark-3.2.1-bin-hadoop3.2/python/pyspark/tests/test_install_spark.py\n",
            "spark-3.2.1-bin-hadoop3.2/python/pyspark/tests/test_join.py\n",
            "spark-3.2.1-bin-hadoop3.2/python/pyspark/tests/test_pin_thread.py\n",
            "spark-3.2.1-bin-hadoop3.2/python/pyspark/tests/test_profiler.py\n",
            "spark-3.2.1-bin-hadoop3.2/python/pyspark/tests/test_rdd.py\n",
            "spark-3.2.1-bin-hadoop3.2/python/pyspark/tests/test_rddbarrier.py\n",
            "spark-3.2.1-bin-hadoop3.2/python/pyspark/tests/test_readwrite.py\n",
            "spark-3.2.1-bin-hadoop3.2/python/pyspark/tests/test_serializers.py\n",
            "spark-3.2.1-bin-hadoop3.2/python/pyspark/tests/test_shuffle.py\n",
            "spark-3.2.1-bin-hadoop3.2/python/pyspark/tests/test_taskcontext.py\n",
            "spark-3.2.1-bin-hadoop3.2/python/pyspark/tests/test_util.py\n",
            "spark-3.2.1-bin-hadoop3.2/python/pyspark/tests/test_worker.py\n",
            "spark-3.2.1-bin-hadoop3.2/python/pyspark/traceback_utils.py\n",
            "spark-3.2.1-bin-hadoop3.2/python/pyspark/util.py\n",
            "spark-3.2.1-bin-hadoop3.2/python/pyspark/util.pyi\n",
            "spark-3.2.1-bin-hadoop3.2/python/pyspark/version.py\n",
            "spark-3.2.1-bin-hadoop3.2/python/pyspark/version.pyi\n",
            "spark-3.2.1-bin-hadoop3.2/python/pyspark/worker.py\n",
            "spark-3.2.1-bin-hadoop3.2/python/pyspark.egg-info/\n",
            "spark-3.2.1-bin-hadoop3.2/python/pyspark.egg-info/PKG-INFO\n",
            "spark-3.2.1-bin-hadoop3.2/python/pyspark.egg-info/SOURCES.txt\n",
            "spark-3.2.1-bin-hadoop3.2/python/pyspark.egg-info/dependency_links.txt\n",
            "spark-3.2.1-bin-hadoop3.2/python/pyspark.egg-info/requires.txt\n",
            "spark-3.2.1-bin-hadoop3.2/python/pyspark.egg-info/top_level.txt\n",
            "spark-3.2.1-bin-hadoop3.2/python/run-tests\n",
            "spark-3.2.1-bin-hadoop3.2/python/run-tests-with-coverage\n",
            "spark-3.2.1-bin-hadoop3.2/python/run-tests.py\n",
            "spark-3.2.1-bin-hadoop3.2/python/setup.cfg\n",
            "spark-3.2.1-bin-hadoop3.2/python/setup.py\n",
            "spark-3.2.1-bin-hadoop3.2/python/test_coverage/\n",
            "spark-3.2.1-bin-hadoop3.2/python/test_coverage/conf/\n",
            "spark-3.2.1-bin-hadoop3.2/python/test_coverage/conf/spark-defaults.conf\n",
            "spark-3.2.1-bin-hadoop3.2/python/test_coverage/coverage_daemon.py\n",
            "spark-3.2.1-bin-hadoop3.2/python/test_coverage/sitecustomize.py\n",
            "spark-3.2.1-bin-hadoop3.2/python/test_support/\n",
            "spark-3.2.1-bin-hadoop3.2/python/test_support/SimpleHTTPServer.py\n",
            "spark-3.2.1-bin-hadoop3.2/python/test_support/hello/\n",
            "spark-3.2.1-bin-hadoop3.2/python/test_support/hello/hello.txt\n",
            "spark-3.2.1-bin-hadoop3.2/python/test_support/hello/sub_hello/\n",
            "spark-3.2.1-bin-hadoop3.2/python/test_support/hello/sub_hello/sub_hello.txt\n",
            "spark-3.2.1-bin-hadoop3.2/python/test_support/sql/\n",
            "spark-3.2.1-bin-hadoop3.2/python/test_support/sql/ages.csv\n",
            "spark-3.2.1-bin-hadoop3.2/python/test_support/sql/ages_newlines.csv\n",
            "spark-3.2.1-bin-hadoop3.2/python/test_support/sql/orc_partitioned/\n",
            "spark-3.2.1-bin-hadoop3.2/python/test_support/sql/orc_partitioned/_SUCCESS\n",
            "spark-3.2.1-bin-hadoop3.2/python/test_support/sql/orc_partitioned/b=0/\n",
            "spark-3.2.1-bin-hadoop3.2/python/test_support/sql/orc_partitioned/b=0/c=0/\n",
            "spark-3.2.1-bin-hadoop3.2/python/test_support/sql/orc_partitioned/b=0/c=0/.part-r-00000-829af031-b970-49d6-ad39-30460a0be2c8.orc.crc\n",
            "spark-3.2.1-bin-hadoop3.2/python/test_support/sql/orc_partitioned/b=0/c=0/part-r-00000-829af031-b970-49d6-ad39-30460a0be2c8.orc\n",
            "spark-3.2.1-bin-hadoop3.2/python/test_support/sql/orc_partitioned/b=1/\n",
            "spark-3.2.1-bin-hadoop3.2/python/test_support/sql/orc_partitioned/b=1/c=1/\n",
            "spark-3.2.1-bin-hadoop3.2/python/test_support/sql/orc_partitioned/b=1/c=1/.part-r-00000-829af031-b970-49d6-ad39-30460a0be2c8.orc.crc\n",
            "spark-3.2.1-bin-hadoop3.2/python/test_support/sql/orc_partitioned/b=1/c=1/part-r-00000-829af031-b970-49d6-ad39-30460a0be2c8.orc\n",
            "spark-3.2.1-bin-hadoop3.2/python/test_support/sql/parquet_partitioned/\n",
            "spark-3.2.1-bin-hadoop3.2/python/test_support/sql/parquet_partitioned/_SUCCESS\n",
            "spark-3.2.1-bin-hadoop3.2/python/test_support/sql/parquet_partitioned/_common_metadata\n",
            "spark-3.2.1-bin-hadoop3.2/python/test_support/sql/parquet_partitioned/_metadata\n",
            "spark-3.2.1-bin-hadoop3.2/python/test_support/sql/parquet_partitioned/year=2014/\n",
            "spark-3.2.1-bin-hadoop3.2/python/test_support/sql/parquet_partitioned/year=2014/month=9/\n",
            "spark-3.2.1-bin-hadoop3.2/python/test_support/sql/parquet_partitioned/year=2014/month=9/day=1/\n",
            "spark-3.2.1-bin-hadoop3.2/python/test_support/sql/parquet_partitioned/year=2014/month=9/day=1/.part-r-00008.gz.parquet.crc\n",
            "spark-3.2.1-bin-hadoop3.2/python/test_support/sql/parquet_partitioned/year=2014/month=9/day=1/part-r-00008.gz.parquet\n",
            "spark-3.2.1-bin-hadoop3.2/python/test_support/sql/parquet_partitioned/year=2015/\n",
            "spark-3.2.1-bin-hadoop3.2/python/test_support/sql/parquet_partitioned/year=2015/month=10/\n",
            "spark-3.2.1-bin-hadoop3.2/python/test_support/sql/parquet_partitioned/year=2015/month=10/day=25/\n",
            "spark-3.2.1-bin-hadoop3.2/python/test_support/sql/parquet_partitioned/year=2015/month=10/day=25/.part-r-00002.gz.parquet.crc\n",
            "spark-3.2.1-bin-hadoop3.2/python/test_support/sql/parquet_partitioned/year=2015/month=10/day=25/.part-r-00004.gz.parquet.crc\n",
            "spark-3.2.1-bin-hadoop3.2/python/test_support/sql/parquet_partitioned/year=2015/month=10/day=25/part-r-00002.gz.parquet\n",
            "spark-3.2.1-bin-hadoop3.2/python/test_support/sql/parquet_partitioned/year=2015/month=10/day=25/part-r-00004.gz.parquet\n",
            "spark-3.2.1-bin-hadoop3.2/python/test_support/sql/parquet_partitioned/year=2015/month=10/day=26/\n",
            "spark-3.2.1-bin-hadoop3.2/python/test_support/sql/parquet_partitioned/year=2015/month=10/day=26/.part-r-00005.gz.parquet.crc\n",
            "spark-3.2.1-bin-hadoop3.2/python/test_support/sql/parquet_partitioned/year=2015/month=10/day=26/part-r-00005.gz.parquet\n",
            "spark-3.2.1-bin-hadoop3.2/python/test_support/sql/parquet_partitioned/year=2015/month=9/\n",
            "spark-3.2.1-bin-hadoop3.2/python/test_support/sql/parquet_partitioned/year=2015/month=9/day=1/\n",
            "spark-3.2.1-bin-hadoop3.2/python/test_support/sql/parquet_partitioned/year=2015/month=9/day=1/.part-r-00007.gz.parquet.crc\n",
            "spark-3.2.1-bin-hadoop3.2/python/test_support/sql/parquet_partitioned/year=2015/month=9/day=1/part-r-00007.gz.parquet\n",
            "spark-3.2.1-bin-hadoop3.2/python/test_support/sql/people.json\n",
            "spark-3.2.1-bin-hadoop3.2/python/test_support/sql/people1.json\n",
            "spark-3.2.1-bin-hadoop3.2/python/test_support/sql/people_array.json\n",
            "spark-3.2.1-bin-hadoop3.2/python/test_support/sql/people_array_utf16le.json\n",
            "spark-3.2.1-bin-hadoop3.2/python/test_support/sql/streaming/\n",
            "spark-3.2.1-bin-hadoop3.2/python/test_support/sql/streaming/text-test.txt\n",
            "spark-3.2.1-bin-hadoop3.2/python/test_support/sql/text-test.txt\n",
            "spark-3.2.1-bin-hadoop3.2/python/test_support/userlib-0.1.zip\n",
            "spark-3.2.1-bin-hadoop3.2/python/test_support/userlibrary.py\n",
            "spark-3.2.1-bin-hadoop3.2/sbin/\n",
            "spark-3.2.1-bin-hadoop3.2/sbin/decommission-slave.sh\n",
            "spark-3.2.1-bin-hadoop3.2/sbin/decommission-worker.sh\n",
            "spark-3.2.1-bin-hadoop3.2/sbin/slaves.sh\n",
            "spark-3.2.1-bin-hadoop3.2/sbin/spark-config.sh\n",
            "spark-3.2.1-bin-hadoop3.2/sbin/spark-daemon.sh\n",
            "spark-3.2.1-bin-hadoop3.2/sbin/spark-daemons.sh\n",
            "spark-3.2.1-bin-hadoop3.2/sbin/start-all.sh\n",
            "spark-3.2.1-bin-hadoop3.2/sbin/start-history-server.sh\n",
            "spark-3.2.1-bin-hadoop3.2/sbin/start-master.sh\n",
            "spark-3.2.1-bin-hadoop3.2/sbin/start-mesos-dispatcher.sh\n",
            "spark-3.2.1-bin-hadoop3.2/sbin/start-mesos-shuffle-service.sh\n",
            "spark-3.2.1-bin-hadoop3.2/sbin/start-slave.sh\n",
            "spark-3.2.1-bin-hadoop3.2/sbin/start-slaves.sh\n",
            "spark-3.2.1-bin-hadoop3.2/sbin/start-thriftserver.sh\n",
            "spark-3.2.1-bin-hadoop3.2/sbin/start-worker.sh\n",
            "spark-3.2.1-bin-hadoop3.2/sbin/start-workers.sh\n",
            "spark-3.2.1-bin-hadoop3.2/sbin/stop-all.sh\n",
            "spark-3.2.1-bin-hadoop3.2/sbin/stop-history-server.sh\n",
            "spark-3.2.1-bin-hadoop3.2/sbin/stop-master.sh\n",
            "spark-3.2.1-bin-hadoop3.2/sbin/stop-mesos-dispatcher.sh\n",
            "spark-3.2.1-bin-hadoop3.2/sbin/stop-mesos-shuffle-service.sh\n",
            "spark-3.2.1-bin-hadoop3.2/sbin/stop-slave.sh\n",
            "spark-3.2.1-bin-hadoop3.2/sbin/stop-slaves.sh\n",
            "spark-3.2.1-bin-hadoop3.2/sbin/stop-thriftserver.sh\n",
            "spark-3.2.1-bin-hadoop3.2/sbin/stop-worker.sh\n",
            "spark-3.2.1-bin-hadoop3.2/sbin/stop-workers.sh\n",
            "spark-3.2.1-bin-hadoop3.2/sbin/workers.sh\n",
            "spark-3.2.1-bin-hadoop3.2/yarn/\n",
            "spark-3.2.1-bin-hadoop3.2/yarn/spark-3.2.1-yarn-shuffle.jar\n"
          ]
        }
      ]
    },
    {
      "cell_type": "code",
      "source": [
        "!pip install findspark"
      ],
      "metadata": {
        "colab": {
          "base_uri": "https://localhost:8080/"
        },
        "id": "Ux4WDCb0NToF",
        "outputId": "17b72a75-7e80-4c46-d2cb-d5bab5b39fb5"
      },
      "execution_count": 17,
      "outputs": [
        {
          "output_type": "stream",
          "name": "stdout",
          "text": [
            "Collecting findspark\n",
            "  Downloading findspark-2.0.1-py2.py3-none-any.whl (4.4 kB)\n",
            "Installing collected packages: findspark\n",
            "Successfully installed findspark-2.0.1\n"
          ]
        }
      ]
    },
    {
      "cell_type": "markdown",
      "source": [
        "Set Spark Home variable"
      ],
      "metadata": {
        "id": "re6WlmWpT2VE"
      }
    },
    {
      "cell_type": "code",
      "source": [
        "import os\n",
        "os.environ['SPARK_HOME'] = '/content/spark-3.2.1-bin-hadoop3.2'"
      ],
      "metadata": {
        "id": "hekwfuiSTZD_"
      },
      "execution_count": 18,
      "outputs": []
    },
    {
      "cell_type": "code",
      "source": [
        "import findspark\n",
        "findspark.init()"
      ],
      "metadata": {
        "id": "Hbx8uN3GUfE1"
      },
      "execution_count": 19,
      "outputs": []
    },
    {
      "cell_type": "code",
      "source": [
        "import pyspark\n",
        "from pyspark.sql import SparkSession\n",
        "spark = SparkSession.builder.getOrCreate()\n"
      ],
      "metadata": {
        "id": "QBHbvyBuUir9"
      },
      "execution_count": 20,
      "outputs": []
    },
    {
      "cell_type": "code",
      "source": [
        "df = spark.sql('''select 'spark' as test ''')\n",
        "df.show()"
      ],
      "metadata": {
        "colab": {
          "base_uri": "https://localhost:8080/"
        },
        "id": "yNTPfSP8Um41",
        "outputId": "e5c84797-5dcf-4e8c-8727-4c09bc3ef28e"
      },
      "execution_count": 21,
      "outputs": [
        {
          "output_type": "stream",
          "name": "stdout",
          "text": [
            "+-----+\n",
            "| test|\n",
            "+-----+\n",
            "|spark|\n",
            "+-----+\n",
            "\n"
          ]
        }
      ]
    },
    {
      "cell_type": "code",
      "source": [
        "import pyspark"
      ],
      "metadata": {
        "id": "_JlwhYepa9en"
      },
      "execution_count": 22,
      "outputs": []
    },
    {
      "cell_type": "code",
      "source": [
        "from google.colab import files\n",
        "uploaded = files.upload()"
      ],
      "metadata": {
        "colab": {
          "resources": {
            "http://localhost:8080/nbextensions/google.colab/files.js": {
              "data": "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",
              "ok": true,
              "headers": [
                [
                  "content-type",
                  "application/javascript"
                ]
              ],
              "status": 200,
              "status_text": ""
            }
          },
          "base_uri": "https://localhost:8080/",
          "height": 73
        },
        "id": "nFKIQ4YdXYL3",
        "outputId": "a07b1535-853c-4aab-a69d-a32a1f032e0c"
      },
      "execution_count": 23,
      "outputs": [
        {
          "output_type": "display_data",
          "data": {
            "text/plain": [
              "<IPython.core.display.HTML object>"
            ],
            "text/html": [
              "\n",
              "     <input type=\"file\" id=\"files-a377da3e-fb02-4408-aab1-e3da9156ecac\" name=\"files[]\" multiple disabled\n",
              "        style=\"border:none\" />\n",
              "     <output id=\"result-a377da3e-fb02-4408-aab1-e3da9156ecac\">\n",
              "      Upload widget is only available when the cell has been executed in the\n",
              "      current browser session. Please rerun this cell to enable.\n",
              "      </output>\n",
              "      <script src=\"/nbextensions/google.colab/files.js\"></script> "
            ]
          },
          "metadata": {}
        },
        {
          "output_type": "stream",
          "name": "stdout",
          "text": [
            "Saving cancer_data.csv to cancer_data.csv\n"
          ]
        }
      ]
    },
    {
      "cell_type": "code",
      "source": [
        "import pandas as pd\n",
        "type(pd.read_csv('cancer_data.csv'))"
      ],
      "metadata": {
        "colab": {
          "base_uri": "https://localhost:8080/"
        },
        "id": "d-jzeNtnYty3",
        "outputId": "59994265-4898-4bc4-ac99-c3fc1da33f9e"
      },
      "execution_count": 24,
      "outputs": [
        {
          "output_type": "execute_result",
          "data": {
            "text/plain": [
              "pandas.core.frame.DataFrame"
            ]
          },
          "metadata": {},
          "execution_count": 24
        }
      ]
    },
    {
      "cell_type": "code",
      "source": [
        "from pyspark.sql import SparkSession"
      ],
      "metadata": {
        "id": "qE9oU7wIbL1G"
      },
      "execution_count": 25,
      "outputs": []
    },
    {
      "cell_type": "code",
      "source": [
        "spark=SparkSession.builder.appName('Practice').getOrCreate()"
      ],
      "metadata": {
        "id": "_ZfcML7XbUNJ"
      },
      "execution_count": 26,
      "outputs": []
    },
    {
      "cell_type": "code",
      "source": [
        "spark"
      ],
      "metadata": {
        "colab": {
          "base_uri": "https://localhost:8080/",
          "height": 219
        },
        "id": "oLX29QfubZfO",
        "outputId": "4f36b38b-d536-4c34-a410-5e97459fe235"
      },
      "execution_count": 27,
      "outputs": [
        {
          "output_type": "execute_result",
          "data": {
            "text/plain": [
              "<pyspark.sql.session.SparkSession at 0x7fca42d9b0d0>"
            ],
            "text/html": [
              "\n",
              "            <div>\n",
              "                <p><b>SparkSession - in-memory</b></p>\n",
              "                \n",
              "        <div>\n",
              "            <p><b>SparkContext</b></p>\n",
              "\n",
              "            <p><a href=\"http://284db6895edd:4040\">Spark UI</a></p>\n",
              "\n",
              "            <dl>\n",
              "              <dt>Version</dt>\n",
              "                <dd><code>v3.2.1</code></dd>\n",
              "              <dt>Master</dt>\n",
              "                <dd><code>local[*]</code></dd>\n",
              "              <dt>AppName</dt>\n",
              "                <dd><code>pyspark-shell</code></dd>\n",
              "            </dl>\n",
              "        </div>\n",
              "        \n",
              "            </div>\n",
              "        "
            ]
          },
          "metadata": {},
          "execution_count": 27
        }
      ]
    },
    {
      "cell_type": "code",
      "source": [
        "df_pyspark=spark.read.csv('cancer_data.csv')"
      ],
      "metadata": {
        "id": "JBaqqjAten6u"
      },
      "execution_count": 28,
      "outputs": []
    },
    {
      "cell_type": "code",
      "source": [
        "df_pyspark"
      ],
      "metadata": {
        "colab": {
          "base_uri": "https://localhost:8080/"
        },
        "id": "eds67hSof90I",
        "outputId": "15e2b0fc-966e-47a6-c07f-361c43750047"
      },
      "execution_count": 29,
      "outputs": [
        {
          "output_type": "execute_result",
          "data": {
            "text/plain": [
              "DataFrame[_c0: string, _c1: string, _c2: string, _c3: string, _c4: string, _c5: string]"
            ]
          },
          "metadata": {},
          "execution_count": 29
        }
      ]
    },
    {
      "cell_type": "code",
      "source": [
        "df_pyspark.show()"
      ],
      "metadata": {
        "colab": {
          "base_uri": "https://localhost:8080/"
        },
        "id": "wkVWY5FxgAef",
        "outputId": "44657bc6-36ca-486a-bf86-d7b01b7f13a6"
      },
      "execution_count": 30,
      "outputs": [
        {
          "output_type": "stream",
          "name": "stdout",
          "text": [
            "+----+----+------+-------+----------------+---------------+\n",
            "| _c0| _c1|   _c2|    _c3|             _c4|            _c5|\n",
            "+----+----+------+-------+----------------+---------------+\n",
            "|year|type|   sex|numbers|       icd_codes|cancer_category|\n",
            "|2016|regs|AllSex|  24218|C00-C96, D45-D47|    All cancers|\n",
            "|2015|regs|AllSex|  23380|C00-C96, D45-D47|    All cancers|\n",
            "|2014|regs|AllSex|  23227|C00-C96, D45-D47|    All cancers|\n",
            "|2013|regs|AllSex|  22395|C00-C96, D45-D47|    All cancers|\n",
            "|2012|regs|AllSex|  22062|C00-C96, D45-D47|    All cancers|\n",
            "|2010|regs|AllSex|  21460|C00-C96, D45-D47|    All cancers|\n",
            "|2011|regs|AllSex|  21259|C00-C96, D45-D47|    All cancers|\n",
            "|2009|regs|AllSex|  21041|C00-C96, D45-D47|    All cancers|\n",
            "|2008|regs|AllSex|  20477|C00-C96, D45-D47|    All cancers|\n",
            "|2007|regs|AllSex|  19899|C00-C96, D45-D47|    All cancers|\n",
            "|2006|regs|AllSex|  18974|C00-C96, D45-D47|    All cancers|\n",
            "|2004|regs|AllSex|  18964|C00-C96, D45-D47|    All cancers|\n",
            "|2003|regs|AllSex|  18660|C00-C96, D45-D47|    All cancers|\n",
            "|2005|regs|AllSex|  18639|C00-C96, D45-D47|    All cancers|\n",
            "|2001|regs|AllSex|  18004|C00-C96, D45-D47|    All cancers|\n",
            "|2002|regs|AllSex|  17975|C00-C96, D45-D47|    All cancers|\n",
            "|2000|regs|AllSex|  17896|C00-C96, D45-D47|    All cancers|\n",
            "|1999|regs|AllSex|  17070|C00-C96, D45-D47|    All cancers|\n",
            "|1998|regs|AllSex|  16663|C00-C96, D45-D47|    All cancers|\n",
            "+----+----+------+-------+----------------+---------------+\n",
            "only showing top 20 rows\n",
            "\n"
          ]
        }
      ]
    },
    {
      "cell_type": "code",
      "source": [
        "df_pyspark=spark.read.option('header','true').csv('cancer_data.csv')"
      ],
      "metadata": {
        "id": "1h5C0Ee4i90Y"
      },
      "execution_count": 31,
      "outputs": []
    },
    {
      "cell_type": "code",
      "source": [
        "df_pyspark.show()"
      ],
      "metadata": {
        "colab": {
          "base_uri": "https://localhost:8080/"
        },
        "id": "mME9FVgpjEzP",
        "outputId": "173fd67e-fd2f-4255-ec4c-e3c8cc424d69"
      },
      "execution_count": 32,
      "outputs": [
        {
          "output_type": "stream",
          "name": "stdout",
          "text": [
            "+----+----+------+-------+----------------+---------------+\n",
            "|year|type|   sex|numbers|       icd_codes|cancer_category|\n",
            "+----+----+------+-------+----------------+---------------+\n",
            "|2016|regs|AllSex|  24218|C00-C96, D45-D47|    All cancers|\n",
            "|2015|regs|AllSex|  23380|C00-C96, D45-D47|    All cancers|\n",
            "|2014|regs|AllSex|  23227|C00-C96, D45-D47|    All cancers|\n",
            "|2013|regs|AllSex|  22395|C00-C96, D45-D47|    All cancers|\n",
            "|2012|regs|AllSex|  22062|C00-C96, D45-D47|    All cancers|\n",
            "|2010|regs|AllSex|  21460|C00-C96, D45-D47|    All cancers|\n",
            "|2011|regs|AllSex|  21259|C00-C96, D45-D47|    All cancers|\n",
            "|2009|regs|AllSex|  21041|C00-C96, D45-D47|    All cancers|\n",
            "|2008|regs|AllSex|  20477|C00-C96, D45-D47|    All cancers|\n",
            "|2007|regs|AllSex|  19899|C00-C96, D45-D47|    All cancers|\n",
            "|2006|regs|AllSex|  18974|C00-C96, D45-D47|    All cancers|\n",
            "|2004|regs|AllSex|  18964|C00-C96, D45-D47|    All cancers|\n",
            "|2003|regs|AllSex|  18660|C00-C96, D45-D47|    All cancers|\n",
            "|2005|regs|AllSex|  18639|C00-C96, D45-D47|    All cancers|\n",
            "|2001|regs|AllSex|  18004|C00-C96, D45-D47|    All cancers|\n",
            "|2002|regs|AllSex|  17975|C00-C96, D45-D47|    All cancers|\n",
            "|2000|regs|AllSex|  17896|C00-C96, D45-D47|    All cancers|\n",
            "|1999|regs|AllSex|  17070|C00-C96, D45-D47|    All cancers|\n",
            "|1998|regs|AllSex|  16663|C00-C96, D45-D47|    All cancers|\n",
            "|1996|regs|AllSex|  16220|C00-C96, D45-D47|    All cancers|\n",
            "+----+----+------+-------+----------------+---------------+\n",
            "only showing top 20 rows\n",
            "\n"
          ]
        }
      ]
    },
    {
      "cell_type": "code",
      "source": [
        "type(df_pyspark)"
      ],
      "metadata": {
        "colab": {
          "base_uri": "https://localhost:8080/"
        },
        "id": "n-mpKxlVjmgR",
        "outputId": "cd687c2d-ce27-4df8-d2a9-959cc8d92ef0"
      },
      "execution_count": 33,
      "outputs": [
        {
          "output_type": "execute_result",
          "data": {
            "text/plain": [
              "pyspark.sql.dataframe.DataFrame"
            ]
          },
          "metadata": {},
          "execution_count": 33
        }
      ]
    },
    {
      "cell_type": "code",
      "source": [
        "df_pyspark.head(5)"
      ],
      "metadata": {
        "colab": {
          "base_uri": "https://localhost:8080/"
        },
        "id": "4h7pRYUykE8Y",
        "outputId": "64926d3f-8ba1-437d-ee94-8ff716033efc"
      },
      "execution_count": 34,
      "outputs": [
        {
          "output_type": "execute_result",
          "data": {
            "text/plain": [
              "[Row(year='2016', type='regs', sex='AllSex', numbers='24218', icd_codes='C00-C96, D45-D47', cancer_category='All cancers'),\n",
              " Row(year='2015', type='regs', sex='AllSex', numbers='23380', icd_codes='C00-C96, D45-D47', cancer_category='All cancers'),\n",
              " Row(year='2014', type='regs', sex='AllSex', numbers='23227', icd_codes='C00-C96, D45-D47', cancer_category='All cancers'),\n",
              " Row(year='2013', type='regs', sex='AllSex', numbers='22395', icd_codes='C00-C96, D45-D47', cancer_category='All cancers'),\n",
              " Row(year='2012', type='regs', sex='AllSex', numbers='22062', icd_codes='C00-C96, D45-D47', cancer_category='All cancers')]"
            ]
          },
          "metadata": {},
          "execution_count": 34
        }
      ]
    },
    {
      "cell_type": "code",
      "source": [
        "df_pyspark.printSchema()"
      ],
      "metadata": {
        "colab": {
          "base_uri": "https://localhost:8080/"
        },
        "id": "EHZnvhCEle_4",
        "outputId": "473fcc70-8256-45bd-fe75-29591f26e3b3"
      },
      "execution_count": 35,
      "outputs": [
        {
          "output_type": "stream",
          "name": "stdout",
          "text": [
            "root\n",
            " |-- year: string (nullable = true)\n",
            " |-- type: string (nullable = true)\n",
            " |-- sex: string (nullable = true)\n",
            " |-- numbers: string (nullable = true)\n",
            " |-- icd_codes: string (nullable = true)\n",
            " |-- cancer_category: string (nullable = true)\n",
            "\n"
          ]
        }
      ]
    },
    {
      "cell_type": "code",
      "source": [
        "df_pyspark=spark.read.option('header','true').csv('cancer_data.csv', inferSchema=True)"
      ],
      "metadata": {
        "id": "n2R3gngcpxH4"
      },
      "execution_count": 36,
      "outputs": []
    },
    {
      "cell_type": "code",
      "source": [
        "df_pyspark.printSchema()"
      ],
      "metadata": {
        "colab": {
          "base_uri": "https://localhost:8080/"
        },
        "id": "iNXf8YJ7y-P5",
        "outputId": "e92c1fb8-d494-407e-c5b5-bf6f11514b22"
      },
      "execution_count": 37,
      "outputs": [
        {
          "output_type": "stream",
          "name": "stdout",
          "text": [
            "root\n",
            " |-- year: integer (nullable = true)\n",
            " |-- type: string (nullable = true)\n",
            " |-- sex: string (nullable = true)\n",
            " |-- numbers: integer (nullable = true)\n",
            " |-- icd_codes: string (nullable = true)\n",
            " |-- cancer_category: string (nullable = true)\n",
            "\n"
          ]
        }
      ]
    },
    {
      "cell_type": "code",
      "source": [
        "df_pyspark.columns"
      ],
      "metadata": {
        "colab": {
          "base_uri": "https://localhost:8080/"
        },
        "id": "B9c02mUfrBz5",
        "outputId": "00c58a3e-d54f-4e88-e3ec-ad48e52e10f7"
      },
      "execution_count": 38,
      "outputs": [
        {
          "output_type": "execute_result",
          "data": {
            "text/plain": [
              "['year', 'type', 'sex', 'numbers', 'icd_codes', 'cancer_category']"
            ]
          },
          "metadata": {},
          "execution_count": 38
        }
      ]
    },
    {
      "cell_type": "code",
      "source": [
        "df_pyspark.head(3)"
      ],
      "metadata": {
        "colab": {
          "base_uri": "https://localhost:8080/"
        },
        "id": "Kctkj5sr1Km6",
        "outputId": "6ec7ea17-42e1-40a2-ab67-9ec2ceddf6aa"
      },
      "execution_count": 39,
      "outputs": [
        {
          "output_type": "execute_result",
          "data": {
            "text/plain": [
              "[Row(year=2016, type='regs', sex='AllSex', numbers=24218, icd_codes='C00-C96, D45-D47', cancer_category='All cancers'),\n",
              " Row(year=2015, type='regs', sex='AllSex', numbers=23380, icd_codes='C00-C96, D45-D47', cancer_category='All cancers'),\n",
              " Row(year=2014, type='regs', sex='AllSex', numbers=23227, icd_codes='C00-C96, D45-D47', cancer_category='All cancers')]"
            ]
          },
          "metadata": {},
          "execution_count": 39
        }
      ]
    },
    {
      "cell_type": "code",
      "source": [
        "df_pyspark.select('type')"
      ],
      "metadata": {
        "colab": {
          "base_uri": "https://localhost:8080/"
        },
        "id": "dHRhfgNy1a83",
        "outputId": "fdbd3fb1-ebdd-4a01-cabe-2b8c422d46b9"
      },
      "execution_count": 40,
      "outputs": [
        {
          "output_type": "execute_result",
          "data": {
            "text/plain": [
              "DataFrame[type: string]"
            ]
          },
          "metadata": {},
          "execution_count": 40
        }
      ]
    },
    {
      "cell_type": "code",
      "source": [
        "df_pyspark.select('type').show()"
      ],
      "metadata": {
        "colab": {
          "base_uri": "https://localhost:8080/"
        },
        "id": "A2IyJ7ut1sXP",
        "outputId": "39965cfe-c0e5-4958-8bb2-a57f3a66c5c4"
      },
      "execution_count": 41,
      "outputs": [
        {
          "output_type": "stream",
          "name": "stdout",
          "text": [
            "+----+\n",
            "|type|\n",
            "+----+\n",
            "|regs|\n",
            "|regs|\n",
            "|regs|\n",
            "|regs|\n",
            "|regs|\n",
            "|regs|\n",
            "|regs|\n",
            "|regs|\n",
            "|regs|\n",
            "|regs|\n",
            "|regs|\n",
            "|regs|\n",
            "|regs|\n",
            "|regs|\n",
            "|regs|\n",
            "|regs|\n",
            "|regs|\n",
            "|regs|\n",
            "|regs|\n",
            "|regs|\n",
            "+----+\n",
            "only showing top 20 rows\n",
            "\n"
          ]
        }
      ]
    },
    {
      "cell_type": "code",
      "source": [
        "type(df_pyspark.select('type'))"
      ],
      "metadata": {
        "colab": {
          "base_uri": "https://localhost:8080/"
        },
        "id": "7-BrHakN2IA3",
        "outputId": "76b976c7-6668-4dc2-bec3-5c865ad60dd7"
      },
      "execution_count": 42,
      "outputs": [
        {
          "output_type": "execute_result",
          "data": {
            "text/plain": [
              "pyspark.sql.dataframe.DataFrame"
            ]
          },
          "metadata": {},
          "execution_count": 42
        }
      ]
    },
    {
      "cell_type": "code",
      "source": [
        "df_pyspark.select(['type','numbers']).show()"
      ],
      "metadata": {
        "colab": {
          "base_uri": "https://localhost:8080/"
        },
        "id": "WsoPGQ4B3BcY",
        "outputId": "452242ed-9cc6-423d-a1ed-61ffafce5820"
      },
      "execution_count": 43,
      "outputs": [
        {
          "output_type": "stream",
          "name": "stdout",
          "text": [
            "+----+-------+\n",
            "|type|numbers|\n",
            "+----+-------+\n",
            "|regs|  24218|\n",
            "|regs|  23380|\n",
            "|regs|  23227|\n",
            "|regs|  22395|\n",
            "|regs|  22062|\n",
            "|regs|  21460|\n",
            "|regs|  21259|\n",
            "|regs|  21041|\n",
            "|regs|  20477|\n",
            "|regs|  19899|\n",
            "|regs|  18974|\n",
            "|regs|  18964|\n",
            "|regs|  18660|\n",
            "|regs|  18639|\n",
            "|regs|  18004|\n",
            "|regs|  17975|\n",
            "|regs|  17896|\n",
            "|regs|  17070|\n",
            "|regs|  16663|\n",
            "|regs|  16220|\n",
            "+----+-------+\n",
            "only showing top 20 rows\n",
            "\n"
          ]
        }
      ]
    },
    {
      "cell_type": "code",
      "source": [
        "df_pyspark.dtypes"
      ],
      "metadata": {
        "colab": {
          "base_uri": "https://localhost:8080/"
        },
        "id": "PBLeRu6u3kwH",
        "outputId": "9835eb16-f216-4b5d-8373-85b431977ee5"
      },
      "execution_count": 44,
      "outputs": [
        {
          "output_type": "execute_result",
          "data": {
            "text/plain": [
              "[('year', 'int'),\n",
              " ('type', 'string'),\n",
              " ('sex', 'string'),\n",
              " ('numbers', 'int'),\n",
              " ('icd_codes', 'string'),\n",
              " ('cancer_category', 'string')]"
            ]
          },
          "metadata": {},
          "execution_count": 44
        }
      ]
    },
    {
      "cell_type": "code",
      "source": [
        "df_pyspark.describe()"
      ],
      "metadata": {
        "colab": {
          "base_uri": "https://localhost:8080/"
        },
        "id": "Mc8-tDhT4SWf",
        "outputId": "ce4e5444-a3e7-4462-fad3-f1b5e5d0de59"
      },
      "execution_count": 45,
      "outputs": [
        {
          "output_type": "execute_result",
          "data": {
            "text/plain": [
              "DataFrame[summary: string, year: string, type: string, sex: string, numbers: string, icd_codes: string, cancer_category: string]"
            ]
          },
          "metadata": {},
          "execution_count": 45
        }
      ]
    },
    {
      "cell_type": "code",
      "source": [
        "df_pyspark.describe().show()"
      ],
      "metadata": {
        "colab": {
          "base_uri": "https://localhost:8080/"
        },
        "id": "FCbE0jRm4dmn",
        "outputId": "5908e84a-4b3f-4c92-ec93-99ea105f7a81"
      },
      "execution_count": 46,
      "outputs": [
        {
          "output_type": "stream",
          "name": "stdout",
          "text": [
            "+-------+-----------------+------+------+-----------------+---------+---------------+\n",
            "|summary|             year|  type|   sex|          numbers|icd_codes|cancer_category|\n",
            "+-------+-----------------+------+------+-----------------+---------+---------------+\n",
            "|  count|             2814|  2814|  2814|             2814|     2814|           2814|\n",
            "|   mean| 2006.05223880597|  null|  null|800.2203269367449|     null|           null|\n",
            "| stddev|6.046076218924791|  null|  null|2253.122294287897|     null|           null|\n",
            "|    min|             1996|deaths|AllSex|                1|  C00-C14|           #N/A|\n",
            "|    max|             2016|  regs|  Male|            24218|  D45-D47|          Vulva|\n",
            "+-------+-----------------+------+------+-----------------+---------+---------------+\n",
            "\n"
          ]
        }
      ]
    },
    {
      "cell_type": "code",
      "source": [
        "df_pyspark.withColumn('ID',df_pyspark['numbers']+1)"
      ],
      "metadata": {
        "colab": {
          "base_uri": "https://localhost:8080/"
        },
        "id": "faMEjgMf89Hj",
        "outputId": "a7cf68c9-5e78-4f5a-a7db-441bb313ac78"
      },
      "execution_count": 47,
      "outputs": [
        {
          "output_type": "execute_result",
          "data": {
            "text/plain": [
              "DataFrame[year: int, type: string, sex: string, numbers: int, icd_codes: string, cancer_category: string, ID: int]"
            ]
          },
          "metadata": {},
          "execution_count": 47
        }
      ]
    },
    {
      "cell_type": "code",
      "source": [
        "df_pyspark.withColumn('ID',df_pyspark['numbers']+1).show()"
      ],
      "metadata": {
        "colab": {
          "base_uri": "https://localhost:8080/"
        },
        "id": "5mK_aTdi90pJ",
        "outputId": "bc6743ea-39ec-415c-9cd4-5b55959a8351"
      },
      "execution_count": 48,
      "outputs": [
        {
          "output_type": "stream",
          "name": "stdout",
          "text": [
            "+----+----+------+-------+----------------+---------------+-----+\n",
            "|year|type|   sex|numbers|       icd_codes|cancer_category|   ID|\n",
            "+----+----+------+-------+----------------+---------------+-----+\n",
            "|2016|regs|AllSex|  24218|C00-C96, D45-D47|    All cancers|24219|\n",
            "|2015|regs|AllSex|  23380|C00-C96, D45-D47|    All cancers|23381|\n",
            "|2014|regs|AllSex|  23227|C00-C96, D45-D47|    All cancers|23228|\n",
            "|2013|regs|AllSex|  22395|C00-C96, D45-D47|    All cancers|22396|\n",
            "|2012|regs|AllSex|  22062|C00-C96, D45-D47|    All cancers|22063|\n",
            "|2010|regs|AllSex|  21460|C00-C96, D45-D47|    All cancers|21461|\n",
            "|2011|regs|AllSex|  21259|C00-C96, D45-D47|    All cancers|21260|\n",
            "|2009|regs|AllSex|  21041|C00-C96, D45-D47|    All cancers|21042|\n",
            "|2008|regs|AllSex|  20477|C00-C96, D45-D47|    All cancers|20478|\n",
            "|2007|regs|AllSex|  19899|C00-C96, D45-D47|    All cancers|19900|\n",
            "|2006|regs|AllSex|  18974|C00-C96, D45-D47|    All cancers|18975|\n",
            "|2004|regs|AllSex|  18964|C00-C96, D45-D47|    All cancers|18965|\n",
            "|2003|regs|AllSex|  18660|C00-C96, D45-D47|    All cancers|18661|\n",
            "|2005|regs|AllSex|  18639|C00-C96, D45-D47|    All cancers|18640|\n",
            "|2001|regs|AllSex|  18004|C00-C96, D45-D47|    All cancers|18005|\n",
            "|2002|regs|AllSex|  17975|C00-C96, D45-D47|    All cancers|17976|\n",
            "|2000|regs|AllSex|  17896|C00-C96, D45-D47|    All cancers|17897|\n",
            "|1999|regs|AllSex|  17070|C00-C96, D45-D47|    All cancers|17071|\n",
            "|1998|regs|AllSex|  16663|C00-C96, D45-D47|    All cancers|16664|\n",
            "|1996|regs|AllSex|  16220|C00-C96, D45-D47|    All cancers|16221|\n",
            "+----+----+------+-------+----------------+---------------+-----+\n",
            "only showing top 20 rows\n",
            "\n"
          ]
        }
      ]
    },
    {
      "cell_type": "code",
      "source": [
        "df_pyspark.drop('ID')"
      ],
      "metadata": {
        "colab": {
          "base_uri": "https://localhost:8080/"
        },
        "id": "Ox4qKh-z--0E",
        "outputId": "1f53b4f5-d461-46cf-bb17-d298913df22b"
      },
      "execution_count": 49,
      "outputs": [
        {
          "output_type": "execute_result",
          "data": {
            "text/plain": [
              "DataFrame[year: int, type: string, sex: string, numbers: int, icd_codes: string, cancer_category: string]"
            ]
          },
          "metadata": {},
          "execution_count": 49
        }
      ]
    },
    {
      "cell_type": "code",
      "source": [
        "df_pyspark.drop('ID').show()"
      ],
      "metadata": {
        "colab": {
          "base_uri": "https://localhost:8080/"
        },
        "id": "ko2lWtMk_Fjy",
        "outputId": "75870a43-6634-4c4b-cb35-b313bf55a471"
      },
      "execution_count": 50,
      "outputs": [
        {
          "output_type": "stream",
          "name": "stdout",
          "text": [
            "+----+----+------+-------+----------------+---------------+\n",
            "|year|type|   sex|numbers|       icd_codes|cancer_category|\n",
            "+----+----+------+-------+----------------+---------------+\n",
            "|2016|regs|AllSex|  24218|C00-C96, D45-D47|    All cancers|\n",
            "|2015|regs|AllSex|  23380|C00-C96, D45-D47|    All cancers|\n",
            "|2014|regs|AllSex|  23227|C00-C96, D45-D47|    All cancers|\n",
            "|2013|regs|AllSex|  22395|C00-C96, D45-D47|    All cancers|\n",
            "|2012|regs|AllSex|  22062|C00-C96, D45-D47|    All cancers|\n",
            "|2010|regs|AllSex|  21460|C00-C96, D45-D47|    All cancers|\n",
            "|2011|regs|AllSex|  21259|C00-C96, D45-D47|    All cancers|\n",
            "|2009|regs|AllSex|  21041|C00-C96, D45-D47|    All cancers|\n",
            "|2008|regs|AllSex|  20477|C00-C96, D45-D47|    All cancers|\n",
            "|2007|regs|AllSex|  19899|C00-C96, D45-D47|    All cancers|\n",
            "|2006|regs|AllSex|  18974|C00-C96, D45-D47|    All cancers|\n",
            "|2004|regs|AllSex|  18964|C00-C96, D45-D47|    All cancers|\n",
            "|2003|regs|AllSex|  18660|C00-C96, D45-D47|    All cancers|\n",
            "|2005|regs|AllSex|  18639|C00-C96, D45-D47|    All cancers|\n",
            "|2001|regs|AllSex|  18004|C00-C96, D45-D47|    All cancers|\n",
            "|2002|regs|AllSex|  17975|C00-C96, D45-D47|    All cancers|\n",
            "|2000|regs|AllSex|  17896|C00-C96, D45-D47|    All cancers|\n",
            "|1999|regs|AllSex|  17070|C00-C96, D45-D47|    All cancers|\n",
            "|1998|regs|AllSex|  16663|C00-C96, D45-D47|    All cancers|\n",
            "|1996|regs|AllSex|  16220|C00-C96, D45-D47|    All cancers|\n",
            "+----+----+------+-------+----------------+---------------+\n",
            "only showing top 20 rows\n",
            "\n"
          ]
        }
      ]
    },
    {
      "cell_type": "code",
      "source": [
        "df_pyspark=df_pyspark.withColumnRenamed('numbers','Identity numbers')"
      ],
      "metadata": {
        "id": "lxMczix__lKo"
      },
      "execution_count": 51,
      "outputs": []
    },
    {
      "cell_type": "code",
      "source": [
        "df_pyspark=df_pyspark.withColumnRenamed('numbers','Identity numbers').show()"
      ],
      "metadata": {
        "colab": {
          "base_uri": "https://localhost:8080/"
        },
        "id": "uyY5ShJ5_4gA",
        "outputId": "6ffbdd34-7f63-4997-b809-489c150d7ee7"
      },
      "execution_count": 52,
      "outputs": [
        {
          "output_type": "stream",
          "name": "stdout",
          "text": [
            "+----+----+------+----------------+----------------+---------------+\n",
            "|year|type|   sex|Identity numbers|       icd_codes|cancer_category|\n",
            "+----+----+------+----------------+----------------+---------------+\n",
            "|2016|regs|AllSex|           24218|C00-C96, D45-D47|    All cancers|\n",
            "|2015|regs|AllSex|           23380|C00-C96, D45-D47|    All cancers|\n",
            "|2014|regs|AllSex|           23227|C00-C96, D45-D47|    All cancers|\n",
            "|2013|regs|AllSex|           22395|C00-C96, D45-D47|    All cancers|\n",
            "|2012|regs|AllSex|           22062|C00-C96, D45-D47|    All cancers|\n",
            "|2010|regs|AllSex|           21460|C00-C96, D45-D47|    All cancers|\n",
            "|2011|regs|AllSex|           21259|C00-C96, D45-D47|    All cancers|\n",
            "|2009|regs|AllSex|           21041|C00-C96, D45-D47|    All cancers|\n",
            "|2008|regs|AllSex|           20477|C00-C96, D45-D47|    All cancers|\n",
            "|2007|regs|AllSex|           19899|C00-C96, D45-D47|    All cancers|\n",
            "|2006|regs|AllSex|           18974|C00-C96, D45-D47|    All cancers|\n",
            "|2004|regs|AllSex|           18964|C00-C96, D45-D47|    All cancers|\n",
            "|2003|regs|AllSex|           18660|C00-C96, D45-D47|    All cancers|\n",
            "|2005|regs|AllSex|           18639|C00-C96, D45-D47|    All cancers|\n",
            "|2001|regs|AllSex|           18004|C00-C96, D45-D47|    All cancers|\n",
            "|2002|regs|AllSex|           17975|C00-C96, D45-D47|    All cancers|\n",
            "|2000|regs|AllSex|           17896|C00-C96, D45-D47|    All cancers|\n",
            "|1999|regs|AllSex|           17070|C00-C96, D45-D47|    All cancers|\n",
            "|1998|regs|AllSex|           16663|C00-C96, D45-D47|    All cancers|\n",
            "|1996|regs|AllSex|           16220|C00-C96, D45-D47|    All cancers|\n",
            "+----+----+------+----------------+----------------+---------------+\n",
            "only showing top 20 rows\n",
            "\n"
          ]
        }
      ]
    },
    {
      "cell_type": "code",
      "source": [
        "from google.colab import files\n",
        "uploaded = files.upload()"
      ],
      "metadata": {
        "colab": {
          "resources": {
            "http://localhost:8080/nbextensions/google.colab/files.js": {
              "data": "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",
              "ok": true,
              "headers": [
                [
                  "content-type",
                  "application/javascript"
                ]
              ],
              "status": 200,
              "status_text": ""
            }
          },
          "base_uri": "https://localhost:8080/",
          "height": 73
        },
        "id": "ihWTC17LIifc",
        "outputId": "0bfebeec-bcd6-48b8-9b89-622b294a1a58"
      },
      "execution_count": 53,
      "outputs": [
        {
          "output_type": "display_data",
          "data": {
            "text/plain": [
              "<IPython.core.display.HTML object>"
            ],
            "text/html": [
              "\n",
              "     <input type=\"file\" id=\"files-440745e0-56e0-42bf-ae1a-8c4cde28238a\" name=\"files[]\" multiple disabled\n",
              "        style=\"border:none\" />\n",
              "     <output id=\"result-440745e0-56e0-42bf-ae1a-8c4cde28238a\">\n",
              "      Upload widget is only available when the cell has been executed in the\n",
              "      current browser session. Please rerun this cell to enable.\n",
              "      </output>\n",
              "      <script src=\"/nbextensions/google.colab/files.js\"></script> "
            ]
          },
          "metadata": {}
        },
        {
          "output_type": "stream",
          "name": "stdout",
          "text": [
            "Saving Student Information.csv to Student Information.csv\n"
          ]
        }
      ]
    },
    {
      "cell_type": "code",
      "source": [
        "spark_2=SparkSession.builder.appName('Dataframe_2').getOrCreate()"
      ],
      "metadata": {
        "id": "YJcr5ATxK6fX"
      },
      "execution_count": 54,
      "outputs": []
    },
    {
      "cell_type": "code",
      "source": [
        "spark_2.read.csv('Student Information.csv',header=True,inferSchema=True)"
      ],
      "metadata": {
        "colab": {
          "base_uri": "https://localhost:8080/"
        },
        "id": "G9NafFJTLHdp",
        "outputId": "3c39963c-9d2f-4e69-e863-8f6b8059cf55"
      },
      "execution_count": 55,
      "outputs": [
        {
          "output_type": "execute_result",
          "data": {
            "text/plain": [
              "DataFrame[Name: string, ID: int, Section : string, Registration: string]"
            ]
          },
          "metadata": {},
          "execution_count": 55
        }
      ]
    },
    {
      "cell_type": "code",
      "source": [
        "spark_2.read.csv('Student Information.csv',header=True,inferSchema=True).show()"
      ],
      "metadata": {
        "colab": {
          "base_uri": "https://localhost:8080/"
        },
        "id": "KDI2xbPJLQGw",
        "outputId": "5fb69c24-b09d-412d-93f5-2290c1b35c0f"
      },
      "execution_count": 56,
      "outputs": [
        {
          "output_type": "stream",
          "name": "stdout",
          "text": [
            "+----+----+--------+------------+\n",
            "|Name|  ID|Section |Registration|\n",
            "+----+----+--------+------------+\n",
            "|   A|   1|       Z|         yes|\n",
            "|   B|   2|       Y|         yes|\n",
            "|   C|   3|       X|          no|\n",
            "|   D|   4|       W|          no|\n",
            "|   E|   5|       V|         yes|\n",
            "|   F|   6|       A|         yes|\n",
            "|   G|   7|       B|          no|\n",
            "|   H|   8|       C|          no|\n",
            "|   I|   9|       D|         yes|\n",
            "|   J|  10|       E|          no|\n",
            "|   K|  11|       F|         yes|\n",
            "|   L|  12|       G|          no|\n",
            "|   M|  13|    null|         yes|\n",
            "|   N|  14|       I|          no|\n",
            "|   O|  15|       J|        null|\n",
            "|   P|  16|       K|          no|\n",
            "|   Q|null|       L|         yes|\n",
            "|null|  18|       M|        null|\n",
            "+----+----+--------+------------+\n",
            "\n"
          ]
        }
      ]
    },
    {
      "cell_type": "code",
      "source": [
        "df_pyspark=spark_2.read.csv('Student Information.csv',header=True,inferSchema=True)"
      ],
      "metadata": {
        "id": "_vZcsvKXLg1Y"
      },
      "execution_count": 57,
      "outputs": []
    },
    {
      "cell_type": "code",
      "source": [
        "df_pyspark=spark_2.read.csv('Student Information.csv',header=True,inferSchema=True).show()"
      ],
      "metadata": {
        "colab": {
          "base_uri": "https://localhost:8080/"
        },
        "id": "k_IpZNCMLpbK",
        "outputId": "2b285a21-3c0d-4008-f362-e662c520a90e"
      },
      "execution_count": 58,
      "outputs": [
        {
          "output_type": "stream",
          "name": "stdout",
          "text": [
            "+----+----+--------+------------+\n",
            "|Name|  ID|Section |Registration|\n",
            "+----+----+--------+------------+\n",
            "|   A|   1|       Z|         yes|\n",
            "|   B|   2|       Y|         yes|\n",
            "|   C|   3|       X|          no|\n",
            "|   D|   4|       W|          no|\n",
            "|   E|   5|       V|         yes|\n",
            "|   F|   6|       A|         yes|\n",
            "|   G|   7|       B|          no|\n",
            "|   H|   8|       C|          no|\n",
            "|   I|   9|       D|         yes|\n",
            "|   J|  10|       E|          no|\n",
            "|   K|  11|       F|         yes|\n",
            "|   L|  12|       G|          no|\n",
            "|   M|  13|    null|         yes|\n",
            "|   N|  14|       I|          no|\n",
            "|   O|  15|       J|        null|\n",
            "|   P|  16|       K|          no|\n",
            "|   Q|null|       L|         yes|\n",
            "|null|  18|       M|        null|\n",
            "+----+----+--------+------------+\n",
            "\n"
          ]
        }
      ]
    },
    {
      "cell_type": "code",
      "source": [
        "df_pyspark=spark_2.read.option('header','true').csv('Student Information.csv')"
      ],
      "metadata": {
        "id": "SKh4r5DcPWG5"
      },
      "execution_count": 59,
      "outputs": []
    },
    {
      "cell_type": "code",
      "source": [
        "type(df_pyspark)"
      ],
      "metadata": {
        "colab": {
          "base_uri": "https://localhost:8080/"
        },
        "id": "OE_wfo1DPxvy",
        "outputId": "c41f0a8d-8d63-4ea9-bd4d-d025d55f4259"
      },
      "execution_count": 60,
      "outputs": [
        {
          "output_type": "execute_result",
          "data": {
            "text/plain": [
              "pyspark.sql.dataframe.DataFrame"
            ]
          },
          "metadata": {},
          "execution_count": 60
        }
      ]
    },
    {
      "cell_type": "code",
      "source": [
        "df_pyspark.na.drop()"
      ],
      "metadata": {
        "colab": {
          "base_uri": "https://localhost:8080/"
        },
        "id": "1LFbPVSuQd3y",
        "outputId": "d2e6be74-4461-4f86-a59d-2c78b4f2c84c"
      },
      "execution_count": 61,
      "outputs": [
        {
          "output_type": "execute_result",
          "data": {
            "text/plain": [
              "DataFrame[Name: string, ID: string, Section : string, Registration: string]"
            ]
          },
          "metadata": {},
          "execution_count": 61
        }
      ]
    },
    {
      "cell_type": "code",
      "source": [
        "df_pyspark.na.drop().show()"
      ],
      "metadata": {
        "colab": {
          "base_uri": "https://localhost:8080/"
        },
        "id": "Q4_RT-hdQhMB",
        "outputId": "0375dbcf-daab-4ca7-b426-18201483176b"
      },
      "execution_count": 62,
      "outputs": [
        {
          "output_type": "stream",
          "name": "stdout",
          "text": [
            "+----+---+--------+------------+\n",
            "|Name| ID|Section |Registration|\n",
            "+----+---+--------+------------+\n",
            "|   A|  1|       Z|         yes|\n",
            "|   B|  2|       Y|         yes|\n",
            "|   C|  3|       X|          no|\n",
            "|   D|  4|       W|          no|\n",
            "|   E|  5|       V|         yes|\n",
            "|   F|  6|       A|         yes|\n",
            "|   G|  7|       B|          no|\n",
            "|   H|  8|       C|          no|\n",
            "|   I|  9|       D|         yes|\n",
            "|   J| 10|       E|          no|\n",
            "|   K| 11|       F|         yes|\n",
            "|   L| 12|       G|          no|\n",
            "|   N| 14|       I|          no|\n",
            "|   P| 16|       K|          no|\n",
            "+----+---+--------+------------+\n",
            "\n"
          ]
        }
      ]
    },
    {
      "cell_type": "code",
      "source": [
        "df_pyspark.na.drop(how=\"all\").show()"
      ],
      "metadata": {
        "colab": {
          "base_uri": "https://localhost:8080/"
        },
        "id": "-GWIPg_4Rv2S",
        "outputId": "cbb4f091-be7c-41e6-a374-ac18f2c7bbd6"
      },
      "execution_count": 63,
      "outputs": [
        {
          "output_type": "stream",
          "name": "stdout",
          "text": [
            "+----+----+--------+------------+\n",
            "|Name|  ID|Section |Registration|\n",
            "+----+----+--------+------------+\n",
            "|   A|   1|       Z|         yes|\n",
            "|   B|   2|       Y|         yes|\n",
            "|   C|   3|       X|          no|\n",
            "|   D|   4|       W|          no|\n",
            "|   E|   5|       V|         yes|\n",
            "|   F|   6|       A|         yes|\n",
            "|   G|   7|       B|          no|\n",
            "|   H|   8|       C|          no|\n",
            "|   I|   9|       D|         yes|\n",
            "|   J|  10|       E|          no|\n",
            "|   K|  11|       F|         yes|\n",
            "|   L|  12|       G|          no|\n",
            "|   M|  13|    null|         yes|\n",
            "|   N|  14|       I|          no|\n",
            "|   O|  15|       J|        null|\n",
            "|   P|  16|       K|          no|\n",
            "|   Q|null|       L|         yes|\n",
            "|null|  18|       M|        null|\n",
            "+----+----+--------+------------+\n",
            "\n"
          ]
        }
      ]
    },
    {
      "cell_type": "code",
      "source": [
        "df_pyspark.na.drop(how=\"any\").show()"
      ],
      "metadata": {
        "colab": {
          "base_uri": "https://localhost:8080/"
        },
        "id": "1s2xevw6RxwZ",
        "outputId": "20f0f704-271c-4edc-8894-b9095e334c67"
      },
      "execution_count": 64,
      "outputs": [
        {
          "output_type": "stream",
          "name": "stdout",
          "text": [
            "+----+---+--------+------------+\n",
            "|Name| ID|Section |Registration|\n",
            "+----+---+--------+------------+\n",
            "|   A|  1|       Z|         yes|\n",
            "|   B|  2|       Y|         yes|\n",
            "|   C|  3|       X|          no|\n",
            "|   D|  4|       W|          no|\n",
            "|   E|  5|       V|         yes|\n",
            "|   F|  6|       A|         yes|\n",
            "|   G|  7|       B|          no|\n",
            "|   H|  8|       C|          no|\n",
            "|   I|  9|       D|         yes|\n",
            "|   J| 10|       E|          no|\n",
            "|   K| 11|       F|         yes|\n",
            "|   L| 12|       G|          no|\n",
            "|   N| 14|       I|          no|\n",
            "|   P| 16|       K|          no|\n",
            "+----+---+--------+------------+\n",
            "\n"
          ]
        }
      ]
    },
    {
      "cell_type": "code",
      "source": [
        "df_pyspark.na.drop(how=\"any\",thresh=2).show()"
      ],
      "metadata": {
        "colab": {
          "base_uri": "https://localhost:8080/"
        },
        "id": "faSc2V66Sxfx",
        "outputId": "96a1ab6e-e625-479d-bc1a-8ee6b036f9af"
      },
      "execution_count": 65,
      "outputs": [
        {
          "output_type": "stream",
          "name": "stdout",
          "text": [
            "+----+----+--------+------------+\n",
            "|Name|  ID|Section |Registration|\n",
            "+----+----+--------+------------+\n",
            "|   A|   1|       Z|         yes|\n",
            "|   B|   2|       Y|         yes|\n",
            "|   C|   3|       X|          no|\n",
            "|   D|   4|       W|          no|\n",
            "|   E|   5|       V|         yes|\n",
            "|   F|   6|       A|         yes|\n",
            "|   G|   7|       B|          no|\n",
            "|   H|   8|       C|          no|\n",
            "|   I|   9|       D|         yes|\n",
            "|   J|  10|       E|          no|\n",
            "|   K|  11|       F|         yes|\n",
            "|   L|  12|       G|          no|\n",
            "|   M|  13|    null|         yes|\n",
            "|   N|  14|       I|          no|\n",
            "|   O|  15|       J|        null|\n",
            "|   P|  16|       K|          no|\n",
            "|   Q|null|       L|         yes|\n",
            "|null|  18|       M|        null|\n",
            "+----+----+--------+------------+\n",
            "\n"
          ]
        }
      ]
    },
    {
      "cell_type": "code",
      "source": [
        "df_pyspark.na.drop(how=\"any\",subset=['Registration']).show()"
      ],
      "metadata": {
        "colab": {
          "base_uri": "https://localhost:8080/"
        },
        "id": "0tv451YrXgDj",
        "outputId": "9d5b3b0c-6be5-45e8-ed22-598373a5daf0"
      },
      "execution_count": 66,
      "outputs": [
        {
          "output_type": "stream",
          "name": "stdout",
          "text": [
            "+----+----+--------+------------+\n",
            "|Name|  ID|Section |Registration|\n",
            "+----+----+--------+------------+\n",
            "|   A|   1|       Z|         yes|\n",
            "|   B|   2|       Y|         yes|\n",
            "|   C|   3|       X|          no|\n",
            "|   D|   4|       W|          no|\n",
            "|   E|   5|       V|         yes|\n",
            "|   F|   6|       A|         yes|\n",
            "|   G|   7|       B|          no|\n",
            "|   H|   8|       C|          no|\n",
            "|   I|   9|       D|         yes|\n",
            "|   J|  10|       E|          no|\n",
            "|   K|  11|       F|         yes|\n",
            "|   L|  12|       G|          no|\n",
            "|   M|  13|    null|         yes|\n",
            "|   N|  14|       I|          no|\n",
            "|   P|  16|       K|          no|\n",
            "|   Q|null|       L|         yes|\n",
            "+----+----+--------+------------+\n",
            "\n"
          ]
        }
      ]
    },
    {
      "cell_type": "code",
      "source": [
        "df_pyspark.na.fill('Missing Values').show()"
      ],
      "metadata": {
        "colab": {
          "base_uri": "https://localhost:8080/"
        },
        "id": "ccaWjl3JZqbL",
        "outputId": "c4406856-0f29-4033-9214-9078690bd24a"
      },
      "execution_count": 67,
      "outputs": [
        {
          "output_type": "stream",
          "name": "stdout",
          "text": [
            "+--------------+--------------+--------------+--------------+\n",
            "|          Name|            ID|      Section |  Registration|\n",
            "+--------------+--------------+--------------+--------------+\n",
            "|             A|             1|             Z|           yes|\n",
            "|             B|             2|             Y|           yes|\n",
            "|             C|             3|             X|            no|\n",
            "|             D|             4|             W|            no|\n",
            "|             E|             5|             V|           yes|\n",
            "|             F|             6|             A|           yes|\n",
            "|             G|             7|             B|            no|\n",
            "|             H|             8|             C|            no|\n",
            "|             I|             9|             D|           yes|\n",
            "|             J|            10|             E|            no|\n",
            "|             K|            11|             F|           yes|\n",
            "|             L|            12|             G|            no|\n",
            "|             M|            13|Missing Values|           yes|\n",
            "|             N|            14|             I|            no|\n",
            "|             O|            15|             J|Missing Values|\n",
            "|             P|            16|             K|            no|\n",
            "|             Q|Missing Values|             L|           yes|\n",
            "|Missing Values|            18|             M|Missing Values|\n",
            "+--------------+--------------+--------------+--------------+\n",
            "\n"
          ]
        }
      ]
    },
    {
      "cell_type": "code",
      "source": [
        "df_pyspark.na.fill('Missing Values','ID').show()"
      ],
      "metadata": {
        "colab": {
          "base_uri": "https://localhost:8080/"
        },
        "id": "XOmm9xQJaIfj",
        "outputId": "ab5f15ab-9fd4-4630-e7b3-63f675d482a4"
      },
      "execution_count": 68,
      "outputs": [
        {
          "output_type": "stream",
          "name": "stdout",
          "text": [
            "+----+--------------+--------+------------+\n",
            "|Name|            ID|Section |Registration|\n",
            "+----+--------------+--------+------------+\n",
            "|   A|             1|       Z|         yes|\n",
            "|   B|             2|       Y|         yes|\n",
            "|   C|             3|       X|          no|\n",
            "|   D|             4|       W|          no|\n",
            "|   E|             5|       V|         yes|\n",
            "|   F|             6|       A|         yes|\n",
            "|   G|             7|       B|          no|\n",
            "|   H|             8|       C|          no|\n",
            "|   I|             9|       D|         yes|\n",
            "|   J|            10|       E|          no|\n",
            "|   K|            11|       F|         yes|\n",
            "|   L|            12|       G|          no|\n",
            "|   M|            13|    null|         yes|\n",
            "|   N|            14|       I|          no|\n",
            "|   O|            15|       J|        null|\n",
            "|   P|            16|       K|          no|\n",
            "|   Q|Missing Values|       L|         yes|\n",
            "|null|            18|       M|        null|\n",
            "+----+--------------+--------+------------+\n",
            "\n"
          ]
        }
      ]
    },
    {
      "cell_type": "code",
      "source": [
        "df_pyspark.na.fill('Missing Values',['ID','Name']).show()"
      ],
      "metadata": {
        "colab": {
          "base_uri": "https://localhost:8080/"
        },
        "id": "w28ZvgyAazhy",
        "outputId": "1f70df12-083e-4daf-cd2c-4d1dc1e2ddeb"
      },
      "execution_count": 69,
      "outputs": [
        {
          "output_type": "stream",
          "name": "stdout",
          "text": [
            "+--------------+--------------+--------+------------+\n",
            "|          Name|            ID|Section |Registration|\n",
            "+--------------+--------------+--------+------------+\n",
            "|             A|             1|       Z|         yes|\n",
            "|             B|             2|       Y|         yes|\n",
            "|             C|             3|       X|          no|\n",
            "|             D|             4|       W|          no|\n",
            "|             E|             5|       V|         yes|\n",
            "|             F|             6|       A|         yes|\n",
            "|             G|             7|       B|          no|\n",
            "|             H|             8|       C|          no|\n",
            "|             I|             9|       D|         yes|\n",
            "|             J|            10|       E|          no|\n",
            "|             K|            11|       F|         yes|\n",
            "|             L|            12|       G|          no|\n",
            "|             M|            13|    null|         yes|\n",
            "|             N|            14|       I|          no|\n",
            "|             O|            15|       J|        null|\n",
            "|             P|            16|       K|          no|\n",
            "|             Q|Missing Values|       L|         yes|\n",
            "|Missing Values|            18|       M|        null|\n",
            "+--------------+--------------+--------+------------+\n",
            "\n"
          ]
        }
      ]
    },
    {
      "cell_type": "code",
      "source": [
        "df_pyspark=spark_2.read.option('header','true').csv('Student Information.csv',inferSchema=True)"
      ],
      "metadata": {
        "id": "5sAoqCgQazoj"
      },
      "execution_count": 70,
      "outputs": []
    },
    {
      "cell_type": "code",
      "source": [
        "from pyspark.ml.feature import Imputer\n",
        "imputer=Imputer(\n",
        "inputCols=['ID'],\n",
        "outputCols=[\"{}_imputed\".format(c) for c in ['ID']]\n",
        ").setStrategy(\"mean\")"
      ],
      "metadata": {
        "id": "etjq11-xbmba"
      },
      "execution_count": 71,
      "outputs": []
    },
    {
      "cell_type": "code",
      "source": [
        "imputer.fit(df_pyspark).transform(df_pyspark).show()"
      ],
      "metadata": {
        "colab": {
          "base_uri": "https://localhost:8080/"
        },
        "id": "UEOWWQJGcce0",
        "outputId": "30e673b7-1b85-4bc7-ced8-a67edc3364b5"
      },
      "execution_count": 72,
      "outputs": [
        {
          "output_type": "stream",
          "name": "stdout",
          "text": [
            "+----+----+--------+------------+----------+\n",
            "|Name|  ID|Section |Registration|ID_imputed|\n",
            "+----+----+--------+------------+----------+\n",
            "|   A|   1|       Z|         yes|         1|\n",
            "|   B|   2|       Y|         yes|         2|\n",
            "|   C|   3|       X|          no|         3|\n",
            "|   D|   4|       W|          no|         4|\n",
            "|   E|   5|       V|         yes|         5|\n",
            "|   F|   6|       A|         yes|         6|\n",
            "|   G|   7|       B|          no|         7|\n",
            "|   H|   8|       C|          no|         8|\n",
            "|   I|   9|       D|         yes|         9|\n",
            "|   J|  10|       E|          no|        10|\n",
            "|   K|  11|       F|         yes|        11|\n",
            "|   L|  12|       G|          no|        12|\n",
            "|   M|  13|    null|         yes|        13|\n",
            "|   N|  14|       I|          no|        14|\n",
            "|   O|  15|       J|        null|        15|\n",
            "|   P|  16|       K|          no|        16|\n",
            "|   Q|null|       L|         yes|         9|\n",
            "|null|  18|       M|        null|        18|\n",
            "+----+----+--------+------------+----------+\n",
            "\n"
          ]
        }
      ]
    },
    {
      "cell_type": "code",
      "source": [
        "from pyspark.ml.feature import Imputer\n",
        "imputer=Imputer(\n",
        "inputCols=['ID'],\n",
        "outputCols=[\"{}_imputed\".format(c) for c in ['ID']]\n",
        ").setStrategy(\"median\")"
      ],
      "metadata": {
        "id": "yOFJw5s2fI86"
      },
      "execution_count": 73,
      "outputs": []
    },
    {
      "cell_type": "code",
      "source": [
        "imputer.fit(df_pyspark).transform(df_pyspark).show()"
      ],
      "metadata": {
        "colab": {
          "base_uri": "https://localhost:8080/"
        },
        "id": "2zCb5ySLfP28",
        "outputId": "4d5e60e2-4b93-486e-9d37-3209e150b8a5"
      },
      "execution_count": 74,
      "outputs": [
        {
          "output_type": "stream",
          "name": "stdout",
          "text": [
            "+----+----+--------+------------+----------+\n",
            "|Name|  ID|Section |Registration|ID_imputed|\n",
            "+----+----+--------+------------+----------+\n",
            "|   A|   1|       Z|         yes|         1|\n",
            "|   B|   2|       Y|         yes|         2|\n",
            "|   C|   3|       X|          no|         3|\n",
            "|   D|   4|       W|          no|         4|\n",
            "|   E|   5|       V|         yes|         5|\n",
            "|   F|   6|       A|         yes|         6|\n",
            "|   G|   7|       B|          no|         7|\n",
            "|   H|   8|       C|          no|         8|\n",
            "|   I|   9|       D|         yes|         9|\n",
            "|   J|  10|       E|          no|        10|\n",
            "|   K|  11|       F|         yes|        11|\n",
            "|   L|  12|       G|          no|        12|\n",
            "|   M|  13|    null|         yes|        13|\n",
            "|   N|  14|       I|          no|        14|\n",
            "|   O|  15|       J|        null|        15|\n",
            "|   P|  16|       K|          no|        16|\n",
            "|   Q|null|       L|         yes|         9|\n",
            "|null|  18|       M|        null|        18|\n",
            "+----+----+--------+------------+----------+\n",
            "\n"
          ]
        }
      ]
    },
    {
      "cell_type": "code",
      "source": [
        "from google.colab import files\n",
        "uploaded = files.upload()"
      ],
      "metadata": {
        "colab": {
          "resources": {
            "http://localhost:8080/nbextensions/google.colab/files.js": {
              "data": "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",
              "ok": true,
              "headers": [
                [
                  "content-type",
                  "application/javascript"
                ]
              ],
              "status": 200,
              "status_text": ""
            }
          },
          "base_uri": "https://localhost:8080/",
          "height": 73
        },
        "id": "X0wQYDrqkFWZ",
        "outputId": "bd3a14aa-35d7-4921-903d-5c82d12827f8"
      },
      "execution_count": 75,
      "outputs": [
        {
          "output_type": "display_data",
          "data": {
            "text/plain": [
              "<IPython.core.display.HTML object>"
            ],
            "text/html": [
              "\n",
              "     <input type=\"file\" id=\"files-b58312ae-e5d7-4fe8-a227-9bb8256ab4e6\" name=\"files[]\" multiple disabled\n",
              "        style=\"border:none\" />\n",
              "     <output id=\"result-b58312ae-e5d7-4fe8-a227-9bb8256ab4e6\">\n",
              "      Upload widget is only available when the cell has been executed in the\n",
              "      current browser session. Please rerun this cell to enable.\n",
              "      </output>\n",
              "      <script src=\"/nbextensions/google.colab/files.js\"></script> "
            ]
          },
          "metadata": {}
        },
        {
          "output_type": "stream",
          "name": "stdout",
          "text": [
            "Saving NEW.csv to NEW (1).csv\n"
          ]
        }
      ]
    },
    {
      "cell_type": "code",
      "source": [
        "spark_3=SparkSession.builder.appName('Dataframe_3').getOrCreate()"
      ],
      "metadata": {
        "id": "IL62SAJckXTj"
      },
      "execution_count": 76,
      "outputs": []
    },
    {
      "cell_type": "code",
      "source": [
        "df_pyspark=spark_3.read.option('header','true').csv('NEW.csv',inferSchema=True)\n",
        "df_pyspark.show()"
      ],
      "metadata": {
        "colab": {
          "base_uri": "https://localhost:8080/"
        },
        "id": "8-OsnRiqkcR8",
        "outputId": "6ac07bfd-a7c3-4513-f16e-653b32ee8ad9"
      },
      "execution_count": 77,
      "outputs": [
        {
          "output_type": "stream",
          "name": "stdout",
          "text": [
            "+-----+------+--------+\n",
            "|Names|serial|  salary|\n",
            "+-----+------+--------+\n",
            "|    D|     4|    5000|\n",
            "|    E|     5|    1000|\n",
            "|    F|     6|    8000|\n",
            "|    G|     7| 5888888|\n",
            "|    H|     8|     888|\n",
            "|    I|     9|88888888|\n",
            "|    J|    10|    7777|\n",
            "|    K|    11|   25757|\n",
            "|    L|    12|  243534|\n",
            "|    M|    13|    5666|\n",
            "|    N|    14| 2222229|\n",
            "|    X|     0|     666|\n",
            "|    Y|     1|     567|\n",
            "|    Z|     2|66666666|\n",
            "+-----+------+--------+\n",
            "\n"
          ]
        }
      ]
    },
    {
      "cell_type": "code",
      "source": [
        "df_pyspark.filter(\"salary<=20000\").show()"
      ],
      "metadata": {
        "colab": {
          "base_uri": "https://localhost:8080/"
        },
        "id": "s3gcFlMoknZj",
        "outputId": "4c6934cc-3cd3-4b8f-b585-ab8815cb86e3"
      },
      "execution_count": 78,
      "outputs": [
        {
          "output_type": "stream",
          "name": "stdout",
          "text": [
            "+-----+------+------+\n",
            "|Names|serial|salary|\n",
            "+-----+------+------+\n",
            "|    D|     4|  5000|\n",
            "|    E|     5|  1000|\n",
            "|    F|     6|  8000|\n",
            "|    H|     8|   888|\n",
            "|    J|    10|  7777|\n",
            "|    M|    13|  5666|\n",
            "|    X|     0|   666|\n",
            "|    Y|     1|   567|\n",
            "+-----+------+------+\n",
            "\n"
          ]
        }
      ]
    },
    {
      "cell_type": "code",
      "source": [
        "df_pyspark.filter(\"salary<=20000\").select(['Names','serial']).show()"
      ],
      "metadata": {
        "colab": {
          "base_uri": "https://localhost:8080/"
        },
        "id": "oCRW4vjjnfaz",
        "outputId": "071f52f4-34dc-4399-8b11-73d453c1facd"
      },
      "execution_count": 79,
      "outputs": [
        {
          "output_type": "stream",
          "name": "stdout",
          "text": [
            "+-----+------+\n",
            "|Names|serial|\n",
            "+-----+------+\n",
            "|    D|     4|\n",
            "|    E|     5|\n",
            "|    F|     6|\n",
            "|    H|     8|\n",
            "|    J|    10|\n",
            "|    M|    13|\n",
            "|    X|     0|\n",
            "|    Y|     1|\n",
            "+-----+------+\n",
            "\n"
          ]
        }
      ]
    },
    {
      "cell_type": "code",
      "source": [
        "df_pyspark.filter(df_pyspark['salary']<=20000).show()"
      ],
      "metadata": {
        "colab": {
          "base_uri": "https://localhost:8080/"
        },
        "id": "eZyJBi9Qofuj",
        "outputId": "62c3a40c-e3b5-404c-cbab-b22c5b8fbd81"
      },
      "execution_count": 80,
      "outputs": [
        {
          "output_type": "stream",
          "name": "stdout",
          "text": [
            "+-----+------+------+\n",
            "|Names|serial|salary|\n",
            "+-----+------+------+\n",
            "|    D|     4|  5000|\n",
            "|    E|     5|  1000|\n",
            "|    F|     6|  8000|\n",
            "|    H|     8|   888|\n",
            "|    J|    10|  7777|\n",
            "|    M|    13|  5666|\n",
            "|    X|     0|   666|\n",
            "|    Y|     1|   567|\n",
            "+-----+------+------+\n",
            "\n"
          ]
        }
      ]
    },
    {
      "cell_type": "code",
      "source": [
        "\n",
        "df_pyspark.filter((df_pyspark['salary']<=20000) & (df_pyspark['salary']>5000)).show()"
      ],
      "metadata": {
        "colab": {
          "base_uri": "https://localhost:8080/"
        },
        "id": "zOL2AXRfoyUB",
        "outputId": "fea9a48e-cc43-4417-8aec-d002e3be7d94"
      },
      "execution_count": 82,
      "outputs": [
        {
          "output_type": "stream",
          "name": "stdout",
          "text": [
            "+-----+------+------+\n",
            "|Names|serial|salary|\n",
            "+-----+------+------+\n",
            "|    F|     6|  8000|\n",
            "|    J|    10|  7777|\n",
            "|    M|    13|  5666|\n",
            "+-----+------+------+\n",
            "\n"
          ]
        }
      ]
    },
    {
      "cell_type": "code",
      "source": [
        "df_pyspark.filter((df_pyspark['salary']<=20000) | (df_pyspark['salary']>15000)).show()"
      ],
      "metadata": {
        "colab": {
          "base_uri": "https://localhost:8080/"
        },
        "id": "Btjp_iCDpZsy",
        "outputId": "170dcce6-bef4-4bc7-c7b3-49fee62fc44b"
      },
      "execution_count": 83,
      "outputs": [
        {
          "output_type": "stream",
          "name": "stdout",
          "text": [
            "+-----+------+--------+\n",
            "|Names|serial|  salary|\n",
            "+-----+------+--------+\n",
            "|    D|     4|    5000|\n",
            "|    E|     5|    1000|\n",
            "|    F|     6|    8000|\n",
            "|    G|     7| 5888888|\n",
            "|    H|     8|     888|\n",
            "|    I|     9|88888888|\n",
            "|    J|    10|    7777|\n",
            "|    K|    11|   25757|\n",
            "|    L|    12|  243534|\n",
            "|    M|    13|    5666|\n",
            "|    N|    14| 2222229|\n",
            "|    X|     0|     666|\n",
            "|    Y|     1|     567|\n",
            "|    Z|     2|66666666|\n",
            "+-----+------+--------+\n",
            "\n"
          ]
        }
      ]
    },
    {
      "cell_type": "code",
      "source": [
        "df_pyspark.filter(~(df_pyspark['salary']<=20000)).show()"
      ],
      "metadata": {
        "colab": {
          "base_uri": "https://localhost:8080/"
        },
        "id": "MBQUJFeopf6K",
        "outputId": "ebdfdd28-b601-46a3-ecc5-ff56fb739c03"
      },
      "execution_count": 84,
      "outputs": [
        {
          "output_type": "stream",
          "name": "stdout",
          "text": [
            "+-----+------+--------+\n",
            "|Names|serial|  salary|\n",
            "+-----+------+--------+\n",
            "|    G|     7| 5888888|\n",
            "|    I|     9|88888888|\n",
            "|    K|    11|   25757|\n",
            "|    L|    12|  243534|\n",
            "|    N|    14| 2222229|\n",
            "|    Z|     2|66666666|\n",
            "+-----+------+--------+\n",
            "\n"
          ]
        }
      ]
    },
    {
      "cell_type": "code",
      "source": [
        "from google.colab import files\n",
        "uploaded = files.upload()"
      ],
      "metadata": {
        "colab": {
          "resources": {
            "http://localhost:8080/nbextensions/google.colab/files.js": {
              "data": "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",
              "ok": true,
              "headers": [
                [
                  "content-type",
                  "application/javascript"
                ]
              ],
              "status": 200,
              "status_text": ""
            }
          },
          "base_uri": "https://localhost:8080/",
          "height": 73
        },
        "id": "CMLDrsEDrHn6",
        "outputId": "ab8beedf-3024-4dad-9d86-45b5076a89aa"
      },
      "execution_count": 85,
      "outputs": [
        {
          "output_type": "display_data",
          "data": {
            "text/plain": [
              "<IPython.core.display.HTML object>"
            ],
            "text/html": [
              "\n",
              "     <input type=\"file\" id=\"files-6616fe67-8c13-423a-9558-7b6d85b912af\" name=\"files[]\" multiple disabled\n",
              "        style=\"border:none\" />\n",
              "     <output id=\"result-6616fe67-8c13-423a-9558-7b6d85b912af\">\n",
              "      Upload widget is only available when the cell has been executed in the\n",
              "      current browser session. Please rerun this cell to enable.\n",
              "      </output>\n",
              "      <script src=\"/nbextensions/google.colab/files.js\"></script> "
            ]
          },
          "metadata": {}
        },
        {
          "output_type": "stream",
          "name": "stdout",
          "text": [
            "Saving grp.csv to grp.csv\n"
          ]
        }
      ]
    },
    {
      "cell_type": "code",
      "source": [
        "spark_4=SparkSession.builder.appName('Dataframe_4').getOrCreate()"
      ],
      "metadata": {
        "id": "zNC8VFK_rTbJ"
      },
      "execution_count": 86,
      "outputs": []
    },
    {
      "cell_type": "code",
      "source": [
        "df_pyspark=spark_4.read.option('header','true').csv('grp.csv',inferSchema=True)\n",
        "df_pyspark.show()"
      ],
      "metadata": {
        "colab": {
          "base_uri": "https://localhost:8080/"
        },
        "id": "q3TbIa5SrbHR",
        "outputId": "ba27be2d-04ae-49a3-d2ac-04c62daac4c3"
      },
      "execution_count": 87,
      "outputs": [
        {
          "output_type": "stream",
          "name": "stdout",
          "text": [
            "+-----+-----+--------+\n",
            "|Names|S num|  salary|\n",
            "+-----+-----+--------+\n",
            "|    J|    4|    5000|\n",
            "|    K|    5|   25757|\n",
            "|    L|    6|  243534|\n",
            "|    M|    7|    5666|\n",
            "|    N|    8| 2222229|\n",
            "|    X|    9|     666|\n",
            "|    Y|    4|     567|\n",
            "|    Z|    5|66666666|\n",
            "|    L|    6|  243534|\n",
            "|    M|    7|    5666|\n",
            "|    N|    8| 2222229|\n",
            "|    X|    9|     666|\n",
            "|    Y|    1|     567|\n",
            "|    Z|    2|66666666|\n",
            "+-----+-----+--------+\n",
            "\n"
          ]
        }
      ]
    },
    {
      "cell_type": "code",
      "source": [
        "df_pyspark.printSchema()"
      ],
      "metadata": {
        "colab": {
          "base_uri": "https://localhost:8080/"
        },
        "id": "N465W8_9rini",
        "outputId": "edce2401-3c10-4761-9242-1bbe25e4afac"
      },
      "execution_count": 88,
      "outputs": [
        {
          "output_type": "stream",
          "name": "stdout",
          "text": [
            "root\n",
            " |-- Names: string (nullable = true)\n",
            " |-- S num: integer (nullable = true)\n",
            " |-- salary: integer (nullable = true)\n",
            "\n"
          ]
        }
      ]
    },
    {
      "cell_type": "code",
      "source": [
        "df_pyspark.groupBy('Names')"
      ],
      "metadata": {
        "colab": {
          "base_uri": "https://localhost:8080/"
        },
        "id": "WjTWPBx5rnR6",
        "outputId": "25660db0-b1cd-4423-9cdc-925fc3842a28"
      },
      "execution_count": 91,
      "outputs": [
        {
          "output_type": "execute_result",
          "data": {
            "text/plain": [
              "<pyspark.sql.group.GroupedData at 0x7fca3253b090>"
            ]
          },
          "metadata": {},
          "execution_count": 91
        }
      ]
    },
    {
      "cell_type": "code",
      "source": [
        "df_pyspark.groupBy('Names').sum()"
      ],
      "metadata": {
        "colab": {
          "base_uri": "https://localhost:8080/"
        },
        "id": "uHlcm5VertFq",
        "outputId": "83a07b96-602c-401d-9ef4-47e442c02f62"
      },
      "execution_count": 92,
      "outputs": [
        {
          "output_type": "execute_result",
          "data": {
            "text/plain": [
              "DataFrame[Names: string, sum(S num): bigint, sum(salary): bigint]"
            ]
          },
          "metadata": {},
          "execution_count": 92
        }
      ]
    },
    {
      "cell_type": "code",
      "source": [
        "df_pyspark.groupBy('Names').sum().show()"
      ],
      "metadata": {
        "colab": {
          "base_uri": "https://localhost:8080/"
        },
        "id": "-fe2IbDmr5r6",
        "outputId": "ca213a25-a56a-4f18-bacd-9e1c4e4b915f"
      },
      "execution_count": 94,
      "outputs": [
        {
          "output_type": "stream",
          "name": "stdout",
          "text": [
            "+-----+----------+-----------+\n",
            "|Names|sum(S num)|sum(salary)|\n",
            "+-----+----------+-----------+\n",
            "|    K|         5|      25757|\n",
            "|    Y|         5|       1134|\n",
            "|    L|        12|     487068|\n",
            "|    M|        14|      11332|\n",
            "|    J|         4|       5000|\n",
            "|    Z|         7|  133333332|\n",
            "|    N|        16|    4444458|\n",
            "|    X|        18|       1332|\n",
            "+-----+----------+-----------+\n",
            "\n"
          ]
        }
      ]
    },
    {
      "cell_type": "code",
      "source": [
        "df_pyspark.groupBy('S num').sum().show()"
      ],
      "metadata": {
        "colab": {
          "base_uri": "https://localhost:8080/"
        },
        "id": "A123z5HAsELB",
        "outputId": "77e81aad-afd8-4a46-cea1-0cfda199501c"
      },
      "execution_count": 95,
      "outputs": [
        {
          "output_type": "stream",
          "name": "stdout",
          "text": [
            "+-----+----------+-----------+\n",
            "|S num|sum(S num)|sum(salary)|\n",
            "+-----+----------+-----------+\n",
            "|    1|         1|        567|\n",
            "|    6|        12|     487068|\n",
            "|    5|        10|   66692423|\n",
            "|    9|        18|       1332|\n",
            "|    4|         8|       5567|\n",
            "|    8|        16|    4444458|\n",
            "|    7|        14|      11332|\n",
            "|    2|         2|   66666666|\n",
            "+-----+----------+-----------+\n",
            "\n"
          ]
        }
      ]
    },
    {
      "cell_type": "code",
      "source": [
        "df_pyspark.groupBy('S num').mean().show()"
      ],
      "metadata": {
        "colab": {
          "base_uri": "https://localhost:8080/"
        },
        "id": "F6OKAIPvsQaR",
        "outputId": "34c54ff9-2d34-43c8-a8a2-d65804f8c868"
      },
      "execution_count": 96,
      "outputs": [
        {
          "output_type": "stream",
          "name": "stdout",
          "text": [
            "+-----+----------+------------+\n",
            "|S num|avg(S num)| avg(salary)|\n",
            "+-----+----------+------------+\n",
            "|    1|       1.0|       567.0|\n",
            "|    6|       6.0|    243534.0|\n",
            "|    5|       5.0|3.33462115E7|\n",
            "|    9|       9.0|       666.0|\n",
            "|    4|       4.0|      2783.5|\n",
            "|    8|       8.0|   2222229.0|\n",
            "|    7|       7.0|      5666.0|\n",
            "|    2|       2.0| 6.6666666E7|\n",
            "+-----+----------+------------+\n",
            "\n"
          ]
        }
      ]
    },
    {
      "cell_type": "code",
      "source": [
        "df_pyspark.groupBy('S num').count().show()"
      ],
      "metadata": {
        "colab": {
          "base_uri": "https://localhost:8080/"
        },
        "id": "8LUWpPk_sbbq",
        "outputId": "5b0bdb08-153a-4809-e49c-e2add0934cd4"
      },
      "execution_count": 97,
      "outputs": [
        {
          "output_type": "stream",
          "name": "stdout",
          "text": [
            "+-----+-----+\n",
            "|S num|count|\n",
            "+-----+-----+\n",
            "|    1|    1|\n",
            "|    6|    2|\n",
            "|    5|    2|\n",
            "|    9|    2|\n",
            "|    4|    2|\n",
            "|    8|    2|\n",
            "|    7|    2|\n",
            "|    2|    1|\n",
            "+-----+-----+\n",
            "\n"
          ]
        }
      ]
    },
    {
      "cell_type": "code",
      "source": [
        "df_pyspark.agg({'salary':'sum'})"
      ],
      "metadata": {
        "colab": {
          "base_uri": "https://localhost:8080/"
        },
        "id": "hPOEZ-8Zspnq",
        "outputId": "2e4a0b9e-6446-4630-89a2-c8369ffc99b0"
      },
      "execution_count": 98,
      "outputs": [
        {
          "output_type": "execute_result",
          "data": {
            "text/plain": [
              "DataFrame[sum(salary): bigint]"
            ]
          },
          "metadata": {},
          "execution_count": 98
        }
      ]
    },
    {
      "cell_type": "code",
      "source": [
        "df_pyspark.agg({'salary':'sum'}).show()"
      ],
      "metadata": {
        "colab": {
          "base_uri": "https://localhost:8080/"
        },
        "id": "dg9IRWzlstI6",
        "outputId": "66afe501-9ace-44e1-bc8a-fa96713c1d85"
      },
      "execution_count": 99,
      "outputs": [
        {
          "output_type": "stream",
          "name": "stdout",
          "text": [
            "+-----------+\n",
            "|sum(salary)|\n",
            "+-----------+\n",
            "|  138309413|\n",
            "+-----------+\n",
            "\n"
          ]
        }
      ]
    },
    {
      "cell_type": "code",
      "source": [
        "df_pyspark.groupBy('Names').max().show()"
      ],
      "metadata": {
        "colab": {
          "base_uri": "https://localhost:8080/"
        },
        "id": "05APcP_isw3p",
        "outputId": "c8ca97db-42fd-4549-be3b-acbc3f99f1ad"
      },
      "execution_count": 101,
      "outputs": [
        {
          "output_type": "stream",
          "name": "stdout",
          "text": [
            "+-----+----------+-----------+\n",
            "|Names|max(S num)|max(salary)|\n",
            "+-----+----------+-----------+\n",
            "|    K|         5|      25757|\n",
            "|    Y|         4|        567|\n",
            "|    L|         6|     243534|\n",
            "|    M|         7|       5666|\n",
            "|    J|         4|       5000|\n",
            "|    Z|         5|   66666666|\n",
            "|    N|         8|    2222229|\n",
            "|    X|         9|        666|\n",
            "+-----+----------+-----------+\n",
            "\n"
          ]
        }
      ]
    },
    {
      "cell_type": "code",
      "source": [
        "df_pyspark.groupBy('Names').min().show()"
      ],
      "metadata": {
        "colab": {
          "base_uri": "https://localhost:8080/"
        },
        "id": "jSpGLk-8s42z",
        "outputId": "7dc9007d-fec0-46f3-e6a8-3bfe7abd1df5"
      },
      "execution_count": 102,
      "outputs": [
        {
          "output_type": "stream",
          "name": "stdout",
          "text": [
            "+-----+----------+-----------+\n",
            "|Names|min(S num)|min(salary)|\n",
            "+-----+----------+-----------+\n",
            "|    K|         5|      25757|\n",
            "|    Y|         1|        567|\n",
            "|    L|         6|     243534|\n",
            "|    M|         7|       5666|\n",
            "|    J|         4|       5000|\n",
            "|    Z|         2|   66666666|\n",
            "|    N|         8|    2222229|\n",
            "|    X|         9|        666|\n",
            "+-----+----------+-----------+\n",
            "\n"
          ]
        }
      ]
    },
    {
      "cell_type": "code",
      "source": [
        "df_pyspark.groupBy('Names').avg().show()"
      ],
      "metadata": {
        "colab": {
          "base_uri": "https://localhost:8080/"
        },
        "id": "PRn62XcLtCAy",
        "outputId": "d00c1c03-1121-4860-9fa3-7fe776003fb5"
      },
      "execution_count": 103,
      "outputs": [
        {
          "output_type": "stream",
          "name": "stdout",
          "text": [
            "+-----+----------+-----------+\n",
            "|Names|avg(S num)|avg(salary)|\n",
            "+-----+----------+-----------+\n",
            "|    K|       5.0|    25757.0|\n",
            "|    Y|       2.5|      567.0|\n",
            "|    L|       6.0|   243534.0|\n",
            "|    M|       7.0|     5666.0|\n",
            "|    J|       4.0|     5000.0|\n",
            "|    Z|       3.5|6.6666666E7|\n",
            "|    N|       8.0|  2222229.0|\n",
            "|    X|       9.0|      666.0|\n",
            "+-----+----------+-----------+\n",
            "\n"
          ]
        }
      ]
    }
  ]
}